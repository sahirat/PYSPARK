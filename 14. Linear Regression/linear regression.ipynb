{
 "cells": [
  {
   "cell_type": "markdown",
   "metadata": {},
   "source": [
    "# Linear Regression"
   ]
  },
  {
   "cell_type": "code",
   "execution_count": 1,
   "metadata": {},
   "outputs": [],
   "source": [
    "from pyspark.sql import SparkSession\n",
    "from pyspark.ml.stat import Correlation\n",
    "import pyspark.sql.functions as F"
   ]
  },
  {
   "cell_type": "code",
   "execution_count": 2,
   "metadata": {},
   "outputs": [],
   "source": [
    "spark = SparkSession.builder.getOrCreate()"
   ]
  },
  {
   "cell_type": "code",
   "execution_count": 3,
   "metadata": {},
   "outputs": [],
   "source": [
    "df = spark.read.csv(\"insurance.csv\", inferSchema=True,\n",
    "                   header=True)"
   ]
  },
  {
   "cell_type": "code",
   "execution_count": 4,
   "metadata": {},
   "outputs": [
    {
     "name": "stdout",
     "output_type": "stream",
     "text": [
      "+---+------+------+--------+------+---------+-----------+\n",
      "|age|gender|   bmi|children|smoker|   region|    charges|\n",
      "+---+------+------+--------+------+---------+-----------+\n",
      "| 19|female|  27.9|       0|   yes|southwest|  16884.924|\n",
      "| 18|  male| 33.77|       1|    no|southeast|  1725.5523|\n",
      "| 28|  male|  33.0|       3|    no|southeast|   4449.462|\n",
      "| 33|  male|22.705|       0|    no|northwest|21984.47061|\n",
      "| 32|  male| 28.88|       0|    no|northwest|  3866.8552|\n",
      "| 31|female| 25.74|       0|    no|southeast|  3756.6216|\n",
      "| 46|female| 33.44|       1|    no|southeast|  8240.5896|\n",
      "| 37|female| 27.74|       3|    no|northwest|  7281.5056|\n",
      "| 37|  male| 29.83|       2|    no|northeast|  6406.4107|\n",
      "| 60|female| 25.84|       0|    no|northwest|28923.13692|\n",
      "| 25|  male| 26.22|       0|    no|northeast|  2721.3208|\n",
      "| 62|female| 26.29|       0|   yes|southeast| 27808.7251|\n",
      "| 23|  male|  34.4|       0|    no|southwest|   1826.843|\n",
      "| 56|female| 39.82|       0|    no|southeast| 11090.7178|\n",
      "| 27|  male| 42.13|       0|   yes|southeast| 39611.7577|\n",
      "| 19|  male|  24.6|       1|    no|southwest|   1837.237|\n",
      "| 52|female| 30.78|       1|    no|northeast| 10797.3362|\n",
      "| 23|  male|23.845|       0|    no|northeast| 2395.17155|\n",
      "| 56|  male|  40.3|       0|    no|southwest|  10602.385|\n",
      "| 30|  male|  35.3|       0|   yes|southwest|  36837.467|\n",
      "+---+------+------+--------+------+---------+-----------+\n",
      "only showing top 20 rows\n",
      "\n"
     ]
    }
   ],
   "source": [
    "df.show()"
   ]
  },
  {
   "cell_type": "code",
   "execution_count": 5,
   "metadata": {},
   "outputs": [
    {
     "data": {
      "text/plain": [
       "1338"
      ]
     },
     "execution_count": 5,
     "metadata": {},
     "output_type": "execute_result"
    }
   ],
   "source": [
    "df.count()"
   ]
  },
  {
   "cell_type": "code",
   "execution_count": 6,
   "metadata": {},
   "outputs": [
    {
     "data": {
      "text/plain": [
       "7"
      ]
     },
     "execution_count": 6,
     "metadata": {},
     "output_type": "execute_result"
    }
   ],
   "source": [
    "len(df.columns)"
   ]
  },
  {
   "cell_type": "code",
   "execution_count": 7,
   "metadata": {},
   "outputs": [
    {
     "name": "stdout",
     "output_type": "stream",
     "text": [
      "root\n",
      " |-- age: integer (nullable = true)\n",
      " |-- gender: string (nullable = true)\n",
      " |-- bmi: double (nullable = true)\n",
      " |-- children: integer (nullable = true)\n",
      " |-- smoker: string (nullable = true)\n",
      " |-- region: string (nullable = true)\n",
      " |-- charges: double (nullable = true)\n",
      "\n"
     ]
    }
   ],
   "source": [
    "df.printSchema()"
   ]
  },
  {
   "cell_type": "code",
   "execution_count": 8,
   "metadata": {},
   "outputs": [
    {
     "name": "stdout",
     "output_type": "stream",
     "text": [
      "+-------+------------------+------+------------------+-----------------+------+---------+------------------+\n",
      "|summary|               age|gender|               bmi|         children|smoker|   region|           charges|\n",
      "+-------+------------------+------+------------------+-----------------+------+---------+------------------+\n",
      "|  count|              1338|  1338|              1338|             1338|  1338|     1338|              1338|\n",
      "|   mean| 39.20702541106129|  null|30.663396860986538|  1.0949177877429|  null|     null|13270.422265141257|\n",
      "| stddev|14.049960379216147|  null| 6.098186911679012|1.205492739781914|  null|     null|12110.011236693992|\n",
      "|    min|                18|female|             15.96|                0|    no|northeast|         1121.8739|\n",
      "|    max|                64|  male|             53.13|                5|   yes|southwest|       63770.42801|\n",
      "+-------+------------------+------+------------------+-----------------+------+---------+------------------+\n",
      "\n"
     ]
    }
   ],
   "source": [
    "df.describe().show()"
   ]
  },
  {
   "cell_type": "code",
   "execution_count": 9,
   "metadata": {},
   "outputs": [
    {
     "data": {
      "text/plain": [
       "[Row(age=19, gender='female', bmi=27.9, children=0, smoker='yes', region='southwest', charges=16884.924),\n",
       " Row(age=18, gender='male', bmi=33.77, children=1, smoker='no', region='southeast', charges=1725.5523),\n",
       " Row(age=28, gender='male', bmi=33.0, children=3, smoker='no', region='southeast', charges=4449.462),\n",
       " Row(age=33, gender='male', bmi=22.705, children=0, smoker='no', region='northwest', charges=21984.47061),\n",
       " Row(age=32, gender='male', bmi=28.88, children=0, smoker='no', region='northwest', charges=3866.8552)]"
      ]
     },
     "execution_count": 9,
     "metadata": {},
     "output_type": "execute_result"
    }
   ],
   "source": [
    "df.head(5)"
   ]
  },
  {
   "cell_type": "code",
   "execution_count": 10,
   "metadata": {},
   "outputs": [
    {
     "data": {
      "text/plain": [
       "0.299008193330648"
      ]
     },
     "execution_count": 10,
     "metadata": {},
     "output_type": "execute_result"
    }
   ],
   "source": [
    "df.corr('age', 'charges')"
   ]
  },
  {
   "cell_type": "code",
   "execution_count": 11,
   "metadata": {},
   "outputs": [
    {
     "data": {
      "text/plain": [
       "0.19834096883362903"
      ]
     },
     "execution_count": 11,
     "metadata": {},
     "output_type": "execute_result"
    }
   ],
   "source": [
    "df.corr('bmi', 'charges')"
   ]
  },
  {
   "cell_type": "code",
   "execution_count": 12,
   "metadata": {},
   "outputs": [
    {
     "data": {
      "text/plain": [
       "['age', 'gender', 'bmi', 'children', 'smoker', 'region', 'charges']"
      ]
     },
     "execution_count": 12,
     "metadata": {},
     "output_type": "execute_result"
    }
   ],
   "source": [
    "df.columns"
   ]
  },
  {
   "cell_type": "code",
   "execution_count": 13,
   "metadata": {},
   "outputs": [],
   "source": [
    "from pyspark.ml.feature import StringIndexer"
   ]
  },
  {
   "cell_type": "code",
   "execution_count": 14,
   "metadata": {},
   "outputs": [],
   "source": [
    "indexer=StringIndexer(inputCol= \"gender\",outputCol='gender_cat')\n",
    "indexed=indexer.fit(df).transform(df)"
   ]
  },
  {
   "cell_type": "code",
   "execution_count": 15,
   "metadata": {},
   "outputs": [],
   "source": [
    "indexer=StringIndexer(inputCol= \"smoker\",outputCol='smoker_cat')\n",
    "indexed=indexer.fit(indexed).transform(indexed)"
   ]
  },
  {
   "cell_type": "code",
   "execution_count": 16,
   "metadata": {},
   "outputs": [],
   "source": [
    "indexer=StringIndexer(inputCol= \"region\",outputCol='region_cat')\n",
    "indexed=indexer.fit(indexed).transform(indexed)"
   ]
  },
  {
   "cell_type": "code",
   "execution_count": 17,
   "metadata": {},
   "outputs": [
    {
     "name": "stdout",
     "output_type": "stream",
     "text": [
      "+---+------+------+--------+------+---------+-----------+----------+----------+----------+\n",
      "|age|gender|   bmi|children|smoker|   region|    charges|gender_cat|smoker_cat|region_cat|\n",
      "+---+------+------+--------+------+---------+-----------+----------+----------+----------+\n",
      "| 19|female|  27.9|       0|   yes|southwest|  16884.924|       1.0|       1.0|       2.0|\n",
      "| 18|  male| 33.77|       1|    no|southeast|  1725.5523|       0.0|       0.0|       0.0|\n",
      "| 28|  male|  33.0|       3|    no|southeast|   4449.462|       0.0|       0.0|       0.0|\n",
      "| 33|  male|22.705|       0|    no|northwest|21984.47061|       0.0|       0.0|       1.0|\n",
      "| 32|  male| 28.88|       0|    no|northwest|  3866.8552|       0.0|       0.0|       1.0|\n",
      "| 31|female| 25.74|       0|    no|southeast|  3756.6216|       1.0|       0.0|       0.0|\n",
      "| 46|female| 33.44|       1|    no|southeast|  8240.5896|       1.0|       0.0|       0.0|\n",
      "| 37|female| 27.74|       3|    no|northwest|  7281.5056|       1.0|       0.0|       1.0|\n",
      "| 37|  male| 29.83|       2|    no|northeast|  6406.4107|       0.0|       0.0|       3.0|\n",
      "| 60|female| 25.84|       0|    no|northwest|28923.13692|       1.0|       0.0|       1.0|\n",
      "| 25|  male| 26.22|       0|    no|northeast|  2721.3208|       0.0|       0.0|       3.0|\n",
      "| 62|female| 26.29|       0|   yes|southeast| 27808.7251|       1.0|       1.0|       0.0|\n",
      "| 23|  male|  34.4|       0|    no|southwest|   1826.843|       0.0|       0.0|       2.0|\n",
      "| 56|female| 39.82|       0|    no|southeast| 11090.7178|       1.0|       0.0|       0.0|\n",
      "| 27|  male| 42.13|       0|   yes|southeast| 39611.7577|       0.0|       1.0|       0.0|\n",
      "| 19|  male|  24.6|       1|    no|southwest|   1837.237|       0.0|       0.0|       2.0|\n",
      "| 52|female| 30.78|       1|    no|northeast| 10797.3362|       1.0|       0.0|       3.0|\n",
      "| 23|  male|23.845|       0|    no|northeast| 2395.17155|       0.0|       0.0|       3.0|\n",
      "| 56|  male|  40.3|       0|    no|southwest|  10602.385|       0.0|       0.0|       2.0|\n",
      "| 30|  male|  35.3|       0|   yes|southwest|  36837.467|       0.0|       1.0|       2.0|\n",
      "+---+------+------+--------+------+---------+-----------+----------+----------+----------+\n",
      "only showing top 20 rows\n",
      "\n"
     ]
    }
   ],
   "source": [
    "indexed.show()"
   ]
  },
  {
   "cell_type": "code",
   "execution_count": 18,
   "metadata": {},
   "outputs": [],
   "source": [
    "from pyspark.ml.linalg import Vector\n",
    "from pyspark.ml.feature import VectorAssembler"
   ]
  },
  {
   "cell_type": "code",
   "execution_count": 19,
   "metadata": {},
   "outputs": [
    {
     "data": {
      "text/plain": [
       "['age',\n",
       " 'gender',\n",
       " 'bmi',\n",
       " 'children',\n",
       " 'smoker',\n",
       " 'region',\n",
       " 'charges',\n",
       " 'gender_cat',\n",
       " 'smoker_cat',\n",
       " 'region_cat']"
      ]
     },
     "execution_count": 19,
     "metadata": {},
     "output_type": "execute_result"
    }
   ],
   "source": [
    "indexed.columns"
   ]
  },
  {
   "cell_type": "code",
   "execution_count": 20,
   "metadata": {},
   "outputs": [],
   "source": [
    "assembler= VectorAssembler(inputCols=['age',\n",
    " 'bmi',\n",
    " 'children',\n",
    " 'gender_cat',\n",
    " 'smoker_cat',\n",
    " 'region_cat'],outputCol='features')"
   ]
  },
  {
   "cell_type": "code",
   "execution_count": 21,
   "metadata": {},
   "outputs": [
    {
     "data": {
      "text/plain": [
       "VectorAssembler_c20a04e93788"
      ]
     },
     "execution_count": 21,
     "metadata": {},
     "output_type": "execute_result"
    }
   ],
   "source": [
    "assembler"
   ]
  },
  {
   "cell_type": "code",
   "execution_count": 22,
   "metadata": {},
   "outputs": [],
   "source": [
    "output= assembler.transform(indexed)"
   ]
  },
  {
   "cell_type": "code",
   "execution_count": 23,
   "metadata": {},
   "outputs": [
    {
     "data": {
      "text/plain": [
       "DataFrame[age: int, gender: string, bmi: double, children: int, smoker: string, region: string, charges: double, gender_cat: double, smoker_cat: double, region_cat: double, features: vector]"
      ]
     },
     "execution_count": 23,
     "metadata": {},
     "output_type": "execute_result"
    }
   ],
   "source": [
    "output"
   ]
  },
  {
   "cell_type": "code",
   "execution_count": 24,
   "metadata": {},
   "outputs": [
    {
     "name": "stdout",
     "output_type": "stream",
     "text": [
      "+---+------+------+--------+------+---------+-----------+----------+----------+----------+--------------------+\n",
      "|age|gender|   bmi|children|smoker|   region|    charges|gender_cat|smoker_cat|region_cat|            features|\n",
      "+---+------+------+--------+------+---------+-----------+----------+----------+----------+--------------------+\n",
      "| 19|female|  27.9|       0|   yes|southwest|  16884.924|       1.0|       1.0|       2.0|[19.0,27.9,0.0,1....|\n",
      "| 18|  male| 33.77|       1|    no|southeast|  1725.5523|       0.0|       0.0|       0.0|[18.0,33.77,1.0,0...|\n",
      "| 28|  male|  33.0|       3|    no|southeast|   4449.462|       0.0|       0.0|       0.0|[28.0,33.0,3.0,0....|\n",
      "| 33|  male|22.705|       0|    no|northwest|21984.47061|       0.0|       0.0|       1.0|[33.0,22.705,0.0,...|\n",
      "| 32|  male| 28.88|       0|    no|northwest|  3866.8552|       0.0|       0.0|       1.0|[32.0,28.88,0.0,0...|\n",
      "| 31|female| 25.74|       0|    no|southeast|  3756.6216|       1.0|       0.0|       0.0|[31.0,25.74,0.0,1...|\n",
      "| 46|female| 33.44|       1|    no|southeast|  8240.5896|       1.0|       0.0|       0.0|[46.0,33.44,1.0,1...|\n",
      "| 37|female| 27.74|       3|    no|northwest|  7281.5056|       1.0|       0.0|       1.0|[37.0,27.74,3.0,1...|\n",
      "| 37|  male| 29.83|       2|    no|northeast|  6406.4107|       0.0|       0.0|       3.0|[37.0,29.83,2.0,0...|\n",
      "| 60|female| 25.84|       0|    no|northwest|28923.13692|       1.0|       0.0|       1.0|[60.0,25.84,0.0,1...|\n",
      "| 25|  male| 26.22|       0|    no|northeast|  2721.3208|       0.0|       0.0|       3.0|[25.0,26.22,0.0,0...|\n",
      "| 62|female| 26.29|       0|   yes|southeast| 27808.7251|       1.0|       1.0|       0.0|[62.0,26.29,0.0,1...|\n",
      "| 23|  male|  34.4|       0|    no|southwest|   1826.843|       0.0|       0.0|       2.0|[23.0,34.4,0.0,0....|\n",
      "| 56|female| 39.82|       0|    no|southeast| 11090.7178|       1.0|       0.0|       0.0|[56.0,39.82,0.0,1...|\n",
      "| 27|  male| 42.13|       0|   yes|southeast| 39611.7577|       0.0|       1.0|       0.0|[27.0,42.13,0.0,0...|\n",
      "| 19|  male|  24.6|       1|    no|southwest|   1837.237|       0.0|       0.0|       2.0|[19.0,24.6,1.0,0....|\n",
      "| 52|female| 30.78|       1|    no|northeast| 10797.3362|       1.0|       0.0|       3.0|[52.0,30.78,1.0,1...|\n",
      "| 23|  male|23.845|       0|    no|northeast| 2395.17155|       0.0|       0.0|       3.0|[23.0,23.845,0.0,...|\n",
      "| 56|  male|  40.3|       0|    no|southwest|  10602.385|       0.0|       0.0|       2.0|[56.0,40.3,0.0,0....|\n",
      "| 30|  male|  35.3|       0|   yes|southwest|  36837.467|       0.0|       1.0|       2.0|[30.0,35.3,0.0,0....|\n",
      "+---+------+------+--------+------+---------+-----------+----------+----------+----------+--------------------+\n",
      "only showing top 20 rows\n",
      "\n"
     ]
    }
   ],
   "source": [
    "output.show()"
   ]
  },
  {
   "cell_type": "code",
   "execution_count": 25,
   "metadata": {},
   "outputs": [
    {
     "name": "stdout",
     "output_type": "stream",
     "text": [
      "+--------------------+-----------+\n",
      "|            features|    charges|\n",
      "+--------------------+-----------+\n",
      "|[19.0,27.9,0.0,1....|  16884.924|\n",
      "|[18.0,33.77,1.0,0...|  1725.5523|\n",
      "|[28.0,33.0,3.0,0....|   4449.462|\n",
      "|[33.0,22.705,0.0,...|21984.47061|\n",
      "|[32.0,28.88,0.0,0...|  3866.8552|\n",
      "+--------------------+-----------+\n",
      "only showing top 5 rows\n",
      "\n"
     ]
    }
   ],
   "source": [
    "output.select('features','charges').show(5)"
   ]
  },
  {
   "cell_type": "code",
   "execution_count": 26,
   "metadata": {},
   "outputs": [],
   "source": [
    "#final data consist of features and label which is crew.\n",
    "final_data=output.select('features','charges')"
   ]
  },
  {
   "cell_type": "code",
   "execution_count": 27,
   "metadata": {},
   "outputs": [
    {
     "name": "stdout",
     "output_type": "stream",
     "text": [
      "+-------+------------------+\n",
      "|summary|           charges|\n",
      "+-------+------------------+\n",
      "|  count|               945|\n",
      "|   mean| 12921.72271917354|\n",
      "| stddev|11938.423901817978|\n",
      "|    min|         1121.8739|\n",
      "|    max|       60021.39897|\n",
      "+-------+------------------+\n",
      "\n"
     ]
    }
   ],
   "source": [
    "#splitting data into train and test\n",
    "train_data,test_data=final_data.randomSplit([0.7,0.3])"
   ]
  },
  {
   "cell_type": "code",
   "execution_count": 29,
   "metadata": {},
   "outputs": [
    {
     "name": "stdout",
     "output_type": "stream",
     "text": [
      "+-------+------------------+\n",
      "|summary|           charges|\n",
      "+-------+------------------+\n",
      "|  count|               945|\n",
      "|   mean| 12921.72271917354|\n",
      "| stddev|11938.423901817978|\n",
      "|    min|         1121.8739|\n",
      "|    max|       60021.39897|\n",
      "+-------+------------------+\n",
      "\n"
     ]
    }
   ],
   "source": [
    "train_data.describe().show()"
   ]
  },
  {
   "cell_type": "code",
   "execution_count": 28,
   "metadata": {},
   "outputs": [
    {
     "name": "stdout",
     "output_type": "stream",
     "text": [
      "+-------+------------------+\n",
      "|summary|           charges|\n",
      "+-------+------------------+\n",
      "|  count|               393|\n",
      "|   mean|14108.898272620865|\n",
      "| stddev|12488.618390157812|\n",
      "|    min|         1146.7966|\n",
      "|    max|       63770.42801|\n",
      "+-------+------------------+\n",
      "\n"
     ]
    }
   ],
   "source": [
    "test_data.describe().show()"
   ]
  },
  {
   "cell_type": "code",
   "execution_count": 30,
   "metadata": {},
   "outputs": [],
   "source": [
    "#import LinearRegression library\n",
    "from pyspark.ml.regression import LinearRegression"
   ]
  },
  {
   "cell_type": "code",
   "execution_count": 31,
   "metadata": {},
   "outputs": [],
   "source": [
    "#creating an object of class LinearRegression\n",
    "#object takes features and label as input arguments\n",
    "ship_lr=LinearRegression(featuresCol='features',labelCol='charges')"
   ]
  },
  {
   "cell_type": "code",
   "execution_count": 32,
   "metadata": {},
   "outputs": [],
   "source": [
    "#pass train_data to train model\n",
    "trained_ship_model=ship_lr.fit(train_data)"
   ]
  },
  {
   "cell_type": "code",
   "execution_count": 33,
   "metadata": {},
   "outputs": [],
   "source": [
    "#evaluating model trained for Rsquared error\n",
    "ship_results=trained_ship_model.evaluate(train_data)"
   ]
  },
  {
   "cell_type": "code",
   "execution_count": 34,
   "metadata": {},
   "outputs": [
    {
     "name": "stdout",
     "output_type": "stream",
     "text": [
      "Rsquared Error : 0.7702513727961525\n"
     ]
    }
   ],
   "source": [
    "print('Rsquared Error :',ship_results.r2)"
   ]
  },
  {
   "cell_type": "code",
   "execution_count": 37,
   "metadata": {},
   "outputs": [
    {
     "name": "stdout",
     "output_type": "stream",
     "text": [
      "32710493.912332077\n"
     ]
    }
   ],
   "source": [
    "print(ship_results.meanSquaredError)"
   ]
  },
  {
   "cell_type": "code",
   "execution_count": 35,
   "metadata": {},
   "outputs": [
    {
     "name": "stdout",
     "output_type": "stream",
     "text": [
      "+--------------------+\n",
      "|            features|\n",
      "+--------------------+\n",
      "|(6,[0,1],[18.0,41...|\n",
      "|(6,[0,1],[21.0,23...|\n",
      "|(6,[0,1],[21.0,31...|\n",
      "|(6,[0,1],[21.0,36...|\n",
      "|(6,[0,1],[23.0,41...|\n",
      "+--------------------+\n",
      "only showing top 5 rows\n",
      "\n"
     ]
    }
   ],
   "source": [
    "#testing Model on unlabeled data\n",
    "#create unlabeled data from test_data\n",
    "#testing model on unlabeled data\n",
    "unlabeled_data=test_data.select('features')\n",
    "unlabeled_data.show(5)"
   ]
  },
  {
   "cell_type": "code",
   "execution_count": 36,
   "metadata": {},
   "outputs": [
    {
     "name": "stdout",
     "output_type": "stream",
     "text": [
      "+--------------------+-------------------+\n",
      "|            features|         prediction|\n",
      "+--------------------+-------------------+\n",
      "|(6,[0,1],[18.0,41...|  5177.842655937637|\n",
      "|(6,[0,1],[21.0,23...| 255.32823496406127|\n",
      "|(6,[0,1],[21.0,31...|  2749.883809561443|\n",
      "|(6,[0,1],[21.0,36...|  4612.016844120053|\n",
      "|(6,[0,1],[23.0,41...|  6764.489796396754|\n",
      "|(6,[0,1],[24.0,32...| 3870.5181045139198|\n",
      "|(6,[0,1],[25.0,25...|  2135.987736035502|\n",
      "|(6,[0,1],[34.0,34...|   7254.61989877841|\n",
      "|(6,[0,1],[40.0,41...| 11252.617766568843|\n",
      "|(6,[0,1],[41.0,33...|  8920.799443609363|\n",
      "|(6,[0,1],[41.0,40...|  11064.00916262965|\n",
      "|(6,[0,1],[53.0,31...|  11435.79983218753|\n",
      "|(6,[0,1],[56.0,34...| 13223.991252736489|\n",
      "|(6,[0,1],[58.0,36...| 14287.292052724193|\n",
      "|(6,[0,1],[59.0,26...|  11463.58953195678|\n",
      "|(6,[0,1],[60.0,25...|  11520.92302692155|\n",
      "|(6,[0,1],[61.0,31...| 13651.197069791191|\n",
      "|(6,[0,1],[62.0,38...| 16238.220724911052|\n",
      "|(6,[0,1],[62.0,39...|  16589.56658048815|\n",
      "|[18.0,21.47,0.0,0...|-238.72613167946292|\n",
      "+--------------------+-------------------+\n",
      "only showing top 20 rows\n",
      "\n"
     ]
    }
   ],
   "source": [
    "predictions=trained_ship_model.transform(unlabeled_data)\n",
    "predictions.show()"
   ]
  },
  {
   "cell_type": "code",
   "execution_count": null,
   "metadata": {},
   "outputs": [],
   "source": []
  }
 ],
 "metadata": {
  "kernelspec": {
   "display_name": "Python 3",
   "language": "python",
   "name": "python3"
  },
  "language_info": {
   "codemirror_mode": {
    "name": "ipython",
    "version": 3
   },
   "file_extension": ".py",
   "mimetype": "text/x-python",
   "name": "python",
   "nbconvert_exporter": "python",
   "pygments_lexer": "ipython3",
   "version": "3.8.3"
  }
 },
 "nbformat": 4,
 "nbformat_minor": 4
}
