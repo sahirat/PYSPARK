{
 "cells": [
  {
   "cell_type": "markdown",
   "metadata": {},
   "source": [
    "# isNull, isNotNull, na.drop, na.fill"
   ]
  },
  {
   "cell_type": "code",
   "execution_count": 1,
   "metadata": {},
   "outputs": [],
   "source": [
    "from pyspark.sql import SparkSession"
   ]
  },
  {
   "cell_type": "code",
   "execution_count": 2,
   "metadata": {},
   "outputs": [],
   "source": [
    "spark = SparkSession.builder.getOrCreate()"
   ]
  },
  {
   "cell_type": "code",
   "execution_count": 3,
   "metadata": {},
   "outputs": [],
   "source": [
    "df = spark.read.csv(\"house_price.csv\", inferSchema=True, \n",
    "                   header=True)"
   ]
  },
  {
   "cell_type": "code",
   "execution_count": 4,
   "metadata": {},
   "outputs": [
    {
     "name": "stdout",
     "output_type": "stream",
     "text": [
      "+-----------+-----------+---------+----------+---------+\n",
      "|OverallQual|OverallCond|GrLivArea|GarageArea|SalePrice|\n",
      "+-----------+-----------+---------+----------+---------+\n",
      "|          7|          5|     1710|       548|   208500|\n",
      "|          6|          8|     1262|       460|   181500|\n",
      "|          7|          5|     1786|       608|   223500|\n",
      "|          7|          5|     1717|       642|     null|\n",
      "|          8|          5|     2198|       836|     null|\n",
      "|          5|          5|     1362|       480|   143000|\n",
      "|          8|          5|     null|       636|   307000|\n",
      "|          7|          6|     null|       484|   200000|\n",
      "|          7|          5|     1774|       468|   129900|\n",
      "|          5|          6|     1077|       205|   118000|\n",
      "|          5|          5|     1040|       384|   129500|\n",
      "|          9|          5|     2324|      null|   345000|\n",
      "|          5|       null|      912|      null|   144000|\n",
      "|          7|       null|     1494|      null|   279500|\n",
      "|          6|          5|     1253|       352|   157000|\n",
      "|          7|          8|      854|       576|   132000|\n",
      "|          6|          7|     1004|       480|   149000|\n",
      "|       null|       null|     1296|       516|    90000|\n",
      "|          5|          5|     1114|       576|   159000|\n",
      "+-----------+-----------+---------+----------+---------+\n",
      "\n"
     ]
    }
   ],
   "source": [
    "df.show()"
   ]
  },
  {
   "cell_type": "code",
   "execution_count": 5,
   "metadata": {},
   "outputs": [
    {
     "name": "stdout",
     "output_type": "stream",
     "text": [
      "root\n",
      " |-- OverallQual: integer (nullable = true)\n",
      " |-- OverallCond: integer (nullable = true)\n",
      " |-- GrLivArea: integer (nullable = true)\n",
      " |-- GarageArea: integer (nullable = true)\n",
      " |-- SalePrice: integer (nullable = true)\n",
      "\n"
     ]
    }
   ],
   "source": [
    "df.printSchema()"
   ]
  },
  {
   "cell_type": "code",
   "execution_count": 6,
   "metadata": {},
   "outputs": [
    {
     "name": "stdout",
     "output_type": "stream",
     "text": [
      "+-----------+-----------+---------+----------+---------+\n",
      "|OverallQual|OverallCond|GrLivArea|GarageArea|SalePrice|\n",
      "+-----------+-----------+---------+----------+---------+\n",
      "|          7|          5|     1710|       548|   208500|\n",
      "|          6|          8|     1262|       460|   181500|\n",
      "|          7|          5|     1786|       608|   223500|\n",
      "|          5|          5|     1362|       480|   143000|\n",
      "|          8|          5|     null|       636|   307000|\n",
      "|          7|          6|     null|       484|   200000|\n",
      "|          7|          5|     1774|       468|   129900|\n",
      "|          5|          6|     1077|       205|   118000|\n",
      "|          5|          5|     1040|       384|   129500|\n",
      "|          9|          5|     2324|      null|   345000|\n",
      "|          5|       null|      912|      null|   144000|\n",
      "|          7|       null|     1494|      null|   279500|\n",
      "|          6|          5|     1253|       352|   157000|\n",
      "|          7|          8|      854|       576|   132000|\n",
      "|          6|          7|     1004|       480|   149000|\n",
      "|       null|       null|     1296|       516|    90000|\n",
      "|          5|          5|     1114|       576|   159000|\n",
      "+-----------+-----------+---------+----------+---------+\n",
      "\n"
     ]
    }
   ],
   "source": [
    "df.filter(df.SalePrice.isNotNull()).show()"
   ]
  },
  {
   "cell_type": "code",
   "execution_count": 7,
   "metadata": {},
   "outputs": [
    {
     "name": "stdout",
     "output_type": "stream",
     "text": [
      "+-----------+-----------+---------+----------+---------+\n",
      "|OverallQual|OverallCond|GrLivArea|GarageArea|SalePrice|\n",
      "+-----------+-----------+---------+----------+---------+\n",
      "|          7|          5|     1717|       642|     null|\n",
      "|          8|          5|     2198|       836|     null|\n",
      "+-----------+-----------+---------+----------+---------+\n",
      "\n"
     ]
    }
   ],
   "source": [
    "df.filter(df.SalePrice.isNull()).show()"
   ]
  },
  {
   "cell_type": "code",
   "execution_count": 9,
   "metadata": {},
   "outputs": [
    {
     "name": "stdout",
     "output_type": "stream",
     "text": [
      "+-----------+-----------+---------+----------+---------+\n",
      "|OverallQual|OverallCond|GrLivArea|GarageArea|SalePrice|\n",
      "+-----------+-----------+---------+----------+---------+\n",
      "|          5|       null|      912|      null|   144000|\n",
      "|          7|       null|     1494|      null|   279500|\n",
      "|       null|       null|     1296|       516|    90000|\n",
      "+-----------+-----------+---------+----------+---------+\n",
      "\n"
     ]
    }
   ],
   "source": [
    "df.filter(df.OverallCond.isNull()).show()"
   ]
  },
  {
   "cell_type": "code",
   "execution_count": 10,
   "metadata": {},
   "outputs": [
    {
     "name": "stdout",
     "output_type": "stream",
     "text": [
      "+-----------+-----------+---------+----------+---------+\n",
      "|OverallQual|OverallCond|GrLivArea|GarageArea|SalePrice|\n",
      "+-----------+-----------+---------+----------+---------+\n",
      "|          7|          5|     1710|       548|   208500|\n",
      "|          6|          8|     1262|       460|   181500|\n",
      "|          7|          5|     1786|       608|   223500|\n",
      "|          5|          5|     1362|       480|   143000|\n",
      "|          7|          5|     1774|       468|   129900|\n",
      "|          5|          6|     1077|       205|   118000|\n",
      "|          5|          5|     1040|       384|   129500|\n",
      "|          6|          5|     1253|       352|   157000|\n",
      "|          7|          8|      854|       576|   132000|\n",
      "|          6|          7|     1004|       480|   149000|\n",
      "|          5|          5|     1114|       576|   159000|\n",
      "+-----------+-----------+---------+----------+---------+\n",
      "\n"
     ]
    }
   ],
   "source": [
    "df.na.drop().show()"
   ]
  },
  {
   "cell_type": "code",
   "execution_count": 11,
   "metadata": {},
   "outputs": [
    {
     "name": "stdout",
     "output_type": "stream",
     "text": [
      "+-----------+-----------+---------+----------+---------+\n",
      "|OverallQual|OverallCond|GrLivArea|GarageArea|SalePrice|\n",
      "+-----------+-----------+---------+----------+---------+\n",
      "|          7|          5|     1710|       548|   208500|\n",
      "|          6|          8|     1262|       460|   181500|\n",
      "|          7|          5|     1786|       608|   223500|\n",
      "|          7|          5|     1717|       642|    12345|\n",
      "|          8|          5|     2198|       836|    12345|\n",
      "|          5|          5|     1362|       480|   143000|\n",
      "|          8|          5|     null|       636|   307000|\n",
      "|          7|          6|     null|       484|   200000|\n",
      "|          7|          5|     1774|       468|   129900|\n",
      "|          5|          6|     1077|       205|   118000|\n",
      "|          5|          5|     1040|       384|   129500|\n",
      "|          9|          5|     2324|       500|   345000|\n",
      "|          5|       null|      912|       500|   144000|\n",
      "|          7|       null|     1494|       500|   279500|\n",
      "|          6|          5|     1253|       352|   157000|\n",
      "|          7|          8|      854|       576|   132000|\n",
      "|          6|          7|     1004|       480|   149000|\n",
      "|       null|       null|     1296|       516|    90000|\n",
      "|          5|          5|     1114|       576|   159000|\n",
      "+-----------+-----------+---------+----------+---------+\n",
      "\n"
     ]
    }
   ],
   "source": [
    "df.na.fill({\"GarageArea\": 500, \"SalePrice\": 12345}).show()"
   ]
  },
  {
   "cell_type": "code",
   "execution_count": 15,
   "metadata": {},
   "outputs": [
    {
     "name": "stdout",
     "output_type": "stream",
     "text": [
      "+-----------+-----------+---------+----------+---------+\n",
      "|OverallQual|OverallCond|GrLivArea|GarageArea|SalePrice|\n",
      "+-----------+-----------+---------+----------+---------+\n",
      "|          7|          5|     1710|       548|   208500|\n",
      "|          6|          8|     1262|       460|   181500|\n",
      "|          7|          5|     1786|       608|   223500|\n",
      "|          7|          5|     1717|       642|    12345|\n",
      "|          8|          5|     2198|       836|    12345|\n",
      "|          5|          5|     1362|       480|   143000|\n",
      "|          8|          5|     null|       636|   307000|\n",
      "|          7|          6|     null|       484|   200000|\n",
      "|          7|          5|     1774|       468|   129900|\n",
      "|          5|          6|     1077|       205|   118000|\n",
      "|          5|          5|     1040|       384|   129500|\n",
      "|          9|          5|     2324|       500|   345000|\n",
      "|          5|       null|      912|       500|   144000|\n",
      "|          7|       null|     1494|       500|   279500|\n",
      "|          6|          5|     1253|       352|   157000|\n",
      "|          7|          8|      854|       576|   132000|\n",
      "|          6|          7|     1004|       480|   149000|\n",
      "|       null|       null|     1296|       516|    90000|\n",
      "|          5|          5|     1114|       576|   159000|\n",
      "+-----------+-----------+---------+----------+---------+\n",
      "\n"
     ]
    }
   ],
   "source": [
    "df.show()"
   ]
  },
  {
   "cell_type": "code",
   "execution_count": 13,
   "metadata": {},
   "outputs": [],
   "source": [
    "df = df.na.fill({\"GarageArea\": 500, \"SalePrice\": 12345})"
   ]
  },
  {
   "cell_type": "code",
   "execution_count": 14,
   "metadata": {},
   "outputs": [
    {
     "name": "stdout",
     "output_type": "stream",
     "text": [
      "+-----------+-----------+---------+----------+---------+\n",
      "|OverallQual|OverallCond|GrLivArea|GarageArea|SalePrice|\n",
      "+-----------+-----------+---------+----------+---------+\n",
      "|          7|          5|     1710|       548|   208500|\n",
      "|          6|          8|     1262|       460|   181500|\n",
      "|          7|          5|     1786|       608|   223500|\n",
      "|          7|          5|     1717|       642|    12345|\n",
      "|          8|          5|     2198|       836|    12345|\n",
      "|          5|          5|     1362|       480|   143000|\n",
      "|          8|          5|     null|       636|   307000|\n",
      "|          7|          6|     null|       484|   200000|\n",
      "|          7|          5|     1774|       468|   129900|\n",
      "|          5|          6|     1077|       205|   118000|\n",
      "|          5|          5|     1040|       384|   129500|\n",
      "|          9|          5|     2324|       500|   345000|\n",
      "|          5|       null|      912|       500|   144000|\n",
      "|          7|       null|     1494|       500|   279500|\n",
      "|          6|          5|     1253|       352|   157000|\n",
      "|          7|          8|      854|       576|   132000|\n",
      "|          6|          7|     1004|       480|   149000|\n",
      "|       null|       null|     1296|       516|    90000|\n",
      "|          5|          5|     1114|       576|   159000|\n",
      "+-----------+-----------+---------+----------+---------+\n",
      "\n"
     ]
    }
   ],
   "source": [
    "df.show()"
   ]
  },
  {
   "cell_type": "code",
   "execution_count": null,
   "metadata": {},
   "outputs": [],
   "source": []
  }
 ],
 "metadata": {
  "kernelspec": {
   "display_name": "Python 3",
   "language": "python",
   "name": "python3"
  },
  "language_info": {
   "codemirror_mode": {
    "name": "ipython",
    "version": 3
   },
   "file_extension": ".py",
   "mimetype": "text/x-python",
   "name": "python",
   "nbconvert_exporter": "python",
   "pygments_lexer": "ipython3",
   "version": "3.8.3"
  }
 },
 "nbformat": 4,
 "nbformat_minor": 4
}
