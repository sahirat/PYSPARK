{
 "cells": [
  {
   "cell_type": "markdown",
   "metadata": {},
   "source": [
    "# GroupedData.agg\n",
    "\n",
    "- min, max, sum (total), mean or avg\n",
    "- Compute aggregates and returns the result as a DataFrame.\n",
    "- built-in aggregation functions, such as avg, max, min, sum, count"
   ]
  },
  {
   "cell_type": "code",
   "execution_count": 1,
   "metadata": {},
   "outputs": [],
   "source": [
    "from pyspark.sql import SparkSession\n",
    "import pyspark.sql.functions as F"
   ]
  },
  {
   "cell_type": "code",
   "execution_count": 2,
   "metadata": {},
   "outputs": [],
   "source": [
    "spark = SparkSession.builder.getOrCreate()"
   ]
  },
  {
   "cell_type": "code",
   "execution_count": 3,
   "metadata": {},
   "outputs": [],
   "source": [
    "df = spark.read.csv(\"house.csv\", inferSchema=True,\n",
    "                   header=True)"
   ]
  },
  {
   "cell_type": "code",
   "execution_count": 4,
   "metadata": {},
   "outputs": [
    {
     "name": "stdout",
     "output_type": "stream",
     "text": [
      "+-------+-----------+---------+----------+---------+\n",
      "|   City|OverallQual|GrLivArea|GarageArea|SalePrice|\n",
      "+-------+-----------+---------+----------+---------+\n",
      "| Mumbai|          7|     1710|       548|   208500|\n",
      "|  Delhi|          6|     1262|       460|   181500|\n",
      "|Kolkata|          7|     1786|       608|   223500|\n",
      "|   Pune|          7|     1717|       642|   140000|\n",
      "|Lucknow|          8|     2198|       836|   250000|\n",
      "| Bhopal|          5|     1362|       480|   143000|\n",
      "|Lucknow|          8|     1694|       636|   307000|\n",
      "| Bhopal|          7|     2090|       484|   200000|\n",
      "| Bhopal|          7|     1774|       468|   129900|\n",
      "|Kolkata|          5|     1077|       205|   118000|\n",
      "|Lucknow|          5|     1040|       384|   129500|\n",
      "|  Delhi|          9|     2324|       736|   345000|\n",
      "| Mumbai|          5|      912|       352|   144000|\n",
      "| Mumbai|          7|     1494|       840|   279500|\n",
      "| Bhopal|          6|     1253|       352|   157000|\n",
      "| Mumbai|          7|      854|       576|   132000|\n",
      "|  Delhi|          6|     1004|       480|   149000|\n",
      "|Kolkata|          4|     1296|       516|    90000|\n",
      "|   Pune|          5|     1114|       576|   159000|\n",
      "|Lucknow|          5|     1339|       294|   139000|\n",
      "+-------+-----------+---------+----------+---------+\n",
      "only showing top 20 rows\n",
      "\n"
     ]
    }
   ],
   "source": [
    "df.show()"
   ]
  },
  {
   "cell_type": "code",
   "execution_count": 8,
   "metadata": {},
   "outputs": [
    {
     "name": "stdout",
     "output_type": "stream",
     "text": [
      "+-------+\n",
      "|   city|\n",
      "+-------+\n",
      "|Lucknow|\n",
      "| Mumbai|\n",
      "|Kolkata|\n",
      "|   Pune|\n",
      "|  Delhi|\n",
      "| Bhopal|\n",
      "+-------+\n",
      "\n"
     ]
    }
   ],
   "source": [
    "df.select(\"city\").distinct().show()"
   ]
  },
  {
   "cell_type": "code",
   "execution_count": 5,
   "metadata": {},
   "outputs": [],
   "source": [
    "gdf = df.groupBy(df.City)"
   ]
  },
  {
   "cell_type": "code",
   "execution_count": 6,
   "metadata": {},
   "outputs": [
    {
     "data": {
      "text/plain": [
       "<pyspark.sql.group.GroupedData at 0x2d1703c8190>"
      ]
     },
     "execution_count": 6,
     "metadata": {},
     "output_type": "execute_result"
    }
   ],
   "source": [
    "gdf"
   ]
  },
  {
   "cell_type": "code",
   "execution_count": 7,
   "metadata": {},
   "outputs": [
    {
     "name": "stdout",
     "output_type": "stream",
     "text": [
      "+-------+--------------+\n",
      "|   City|min(SalePrice)|\n",
      "+-------+--------------+\n",
      "|Lucknow|         34900|\n",
      "| Mumbai|         62383|\n",
      "|Kolkata|         60000|\n",
      "|   Pune|         76000|\n",
      "|  Delhi|         82000|\n",
      "| Bhopal|         40000|\n",
      "+-------+--------------+\n",
      "\n"
     ]
    }
   ],
   "source": [
    "gdf.agg(F.min(df.SalePrice)).show()"
   ]
  },
  {
   "cell_type": "code",
   "execution_count": 9,
   "metadata": {},
   "outputs": [
    {
     "name": "stdout",
     "output_type": "stream",
     "text": [
      "+-------+--------------+\n",
      "|   City|Min_Sale_Price|\n",
      "+-------+--------------+\n",
      "|Lucknow|         34900|\n",
      "| Mumbai|         62383|\n",
      "|Kolkata|         60000|\n",
      "|   Pune|         76000|\n",
      "|  Delhi|         82000|\n",
      "| Bhopal|         40000|\n",
      "+-------+--------------+\n",
      "\n"
     ]
    }
   ],
   "source": [
    "gdf.agg(F.min(df.SalePrice).alias(\"Min_Sale_Price\")).show()"
   ]
  },
  {
   "cell_type": "code",
   "execution_count": 11,
   "metadata": {},
   "outputs": [
    {
     "name": "stdout",
     "output_type": "stream",
     "text": [
      "+-------+--------------+\n",
      "|   City|min(GrLivArea)|\n",
      "+-------+--------------+\n",
      "|Lucknow|           720|\n",
      "| Mumbai|           630|\n",
      "|Kolkata|           803|\n",
      "|   Pune|           784|\n",
      "|  Delhi|           694|\n",
      "| Bhopal|           520|\n",
      "+-------+--------------+\n",
      "\n"
     ]
    }
   ],
   "source": [
    "gdf.agg(F.min(df.GrLivArea)).show()"
   ]
  },
  {
   "cell_type": "code",
   "execution_count": 12,
   "metadata": {},
   "outputs": [
    {
     "name": "stdout",
     "output_type": "stream",
     "text": [
      "+-------+--------------+\n",
      "|   City|max(SalePrice)|\n",
      "+-------+--------------+\n",
      "|Lucknow|        475000|\n",
      "| Mumbai|        555000|\n",
      "|Kolkata|        438780|\n",
      "|   Pune|        374000|\n",
      "|  Delhi|        426000|\n",
      "| Bhopal|        430000|\n",
      "+-------+--------------+\n",
      "\n"
     ]
    }
   ],
   "source": [
    "gdf.agg(F.max(df.SalePrice)).show()"
   ]
  },
  {
   "cell_type": "code",
   "execution_count": 13,
   "metadata": {},
   "outputs": [
    {
     "name": "stdout",
     "output_type": "stream",
     "text": [
      "+-------+--------------+\n",
      "|   City|Max_Sale_Price|\n",
      "+-------+--------------+\n",
      "|Lucknow|        475000|\n",
      "| Mumbai|        555000|\n",
      "|Kolkata|        438780|\n",
      "|   Pune|        374000|\n",
      "|  Delhi|        426000|\n",
      "| Bhopal|        430000|\n",
      "+-------+--------------+\n",
      "\n"
     ]
    }
   ],
   "source": [
    "gdf.agg(F.max(df.SalePrice).alias(\"Max_Sale_Price\")).show()"
   ]
  },
  {
   "cell_type": "code",
   "execution_count": 14,
   "metadata": {},
   "outputs": [
    {
     "name": "stdout",
     "output_type": "stream",
     "text": [
      "+-------+--------------+\n",
      "|   City|max(GrLivArea)|\n",
      "+-------+--------------+\n",
      "|Lucknow|          3608|\n",
      "| Mumbai|          2646|\n",
      "|Kolkata|          3222|\n",
      "|   Pune|          3112|\n",
      "|  Delhi|          2794|\n",
      "| Bhopal|          3493|\n",
      "+-------+--------------+\n",
      "\n"
     ]
    }
   ],
   "source": [
    "gdf.agg(F.max(df.GrLivArea)).show()"
   ]
  },
  {
   "cell_type": "code",
   "execution_count": 15,
   "metadata": {},
   "outputs": [
    {
     "name": "stdout",
     "output_type": "stream",
     "text": [
      "+-------+--------------+\n",
      "|   City|sum(SalePrice)|\n",
      "+-------+--------------+\n",
      "|Lucknow|      15449311|\n",
      "| Mumbai|      20616495|\n",
      "|Kolkata|      13597272|\n",
      "|   Pune|       6436340|\n",
      "|  Delhi|      15233889|\n",
      "| Bhopal|      19925195|\n",
      "+-------+--------------+\n",
      "\n"
     ]
    }
   ],
   "source": [
    "gdf.agg(F.sum(df.SalePrice)).show()"
   ]
  },
  {
   "cell_type": "code",
   "execution_count": 16,
   "metadata": {},
   "outputs": [
    {
     "name": "stdout",
     "output_type": "stream",
     "text": [
      "+-------+----------------+\n",
      "|   City|Total_Sale_Price|\n",
      "+-------+----------------+\n",
      "|Lucknow|          475000|\n",
      "| Mumbai|          555000|\n",
      "|Kolkata|          438780|\n",
      "|   Pune|          374000|\n",
      "|  Delhi|          426000|\n",
      "| Bhopal|          430000|\n",
      "+-------+----------------+\n",
      "\n"
     ]
    }
   ],
   "source": [
    "gdf.agg(F.max(df.SalePrice).alias(\"Total_Sale_Price\")).show()"
   ]
  },
  {
   "cell_type": "code",
   "execution_count": 17,
   "metadata": {},
   "outputs": [
    {
     "name": "stdout",
     "output_type": "stream",
     "text": [
      "+-------+------------------+\n",
      "|   City|    avg(SalePrice)|\n",
      "+-------+------------------+\n",
      "|Lucknow|190732.23456790124|\n",
      "| Mumbai|176209.35897435897|\n",
      "|Kolkata| 183746.9189189189|\n",
      "|   Pune|165034.35897435897|\n",
      "|  Delhi|195306.26923076922|\n",
      "| Bhopal|179506.26126126127|\n",
      "+-------+------------------+\n",
      "\n"
     ]
    }
   ],
   "source": [
    "gdf.agg(F.mean(df.SalePrice)).show()"
   ]
  },
  {
   "cell_type": "code",
   "execution_count": 19,
   "metadata": {},
   "outputs": [],
   "source": [
    "# mean and average are same you can use anyone"
   ]
  },
  {
   "cell_type": "code",
   "execution_count": 18,
   "metadata": {},
   "outputs": [
    {
     "name": "stdout",
     "output_type": "stream",
     "text": [
      "+-------+------------------+\n",
      "|   City|    avg(SalePrice)|\n",
      "+-------+------------------+\n",
      "|Lucknow|190732.23456790124|\n",
      "| Mumbai|176209.35897435897|\n",
      "|Kolkata| 183746.9189189189|\n",
      "|   Pune|165034.35897435897|\n",
      "|  Delhi|195306.26923076922|\n",
      "| Bhopal|179506.26126126127|\n",
      "+-------+------------------+\n",
      "\n"
     ]
    }
   ],
   "source": [
    "gdf.agg(F.avg(df.SalePrice)).show()"
   ]
  },
  {
   "cell_type": "code",
   "execution_count": 20,
   "metadata": {},
   "outputs": [
    {
     "name": "stdout",
     "output_type": "stream",
     "text": [
      "+-------+----------------+\n",
      "|   City|count(SalePrice)|\n",
      "+-------+----------------+\n",
      "|Lucknow|              81|\n",
      "| Mumbai|             117|\n",
      "|Kolkata|              74|\n",
      "|   Pune|              39|\n",
      "|  Delhi|              78|\n",
      "| Bhopal|             111|\n",
      "+-------+----------------+\n",
      "\n"
     ]
    }
   ],
   "source": [
    "gdf.agg(F.count(df.SalePrice)).show()"
   ]
  },
  {
   "cell_type": "code",
   "execution_count": null,
   "metadata": {},
   "outputs": [],
   "source": [
    "df.select(F.coalesce(df[\"city\"], df[\"SalePrice\"])).show()"
   ]
  },
  {
   "cell_type": "code",
   "execution_count": 10,
   "metadata": {},
   "outputs": [
    {
     "name": "stdout",
     "output_type": "stream",
     "text": [
      "+-------------------------+\n",
      "|coalesce(city, SalePrice)|\n",
      "+-------------------------+\n",
      "|                   Mumbai|\n",
      "|                    Delhi|\n",
      "|                  Kolkata|\n",
      "|                     Pune|\n",
      "|                  Lucknow|\n",
      "|                   Bhopal|\n",
      "|                  Lucknow|\n",
      "|                   Bhopal|\n",
      "|                   Bhopal|\n",
      "|                  Kolkata|\n",
      "|                  Lucknow|\n",
      "|                    Delhi|\n",
      "|                   Mumbai|\n",
      "|                   Mumbai|\n",
      "|                   Bhopal|\n",
      "|                   Mumbai|\n",
      "|                    Delhi|\n",
      "|                  Kolkata|\n",
      "|                     Pune|\n",
      "|                  Lucknow|\n",
      "+-------------------------+\n",
      "only showing top 20 rows\n",
      "\n"
     ]
    }
   ],
   "source": [
    "df.select(F.coalesce(df[\"city\"], df[\"SalePrice\"])).show()"
   ]
  },
  {
   "cell_type": "code",
   "execution_count": 14,
   "metadata": {},
   "outputs": [
    {
     "name": "stdout",
     "output_type": "stream",
     "text": [
      "+--------------------+\n",
      "|  collect_list(city)|\n",
      "+--------------------+\n",
      "|[Mumbai, Delhi, K...|\n",
      "+--------------------+\n",
      "\n"
     ]
    }
   ],
   "source": [
    "df.agg(F.collect_list('city')).show()"
   ]
  },
  {
   "cell_type": "code",
   "execution_count": 13,
   "metadata": {},
   "outputs": [
    {
     "name": "stdout",
     "output_type": "stream",
     "text": [
      "+---------------------------------------------------------------------------------------------------------------------------------------------------------------------------------------------------------------------------------------------------------------------------------------------------------------------------------------------------------------------------------------------------------------------------------------------------------------------------------------------------------------------------------------------------------------------------------------------------------------------------------------------------------------------------------------------------------------------------------------------------------------------------------------------------------------------------------------------------------------------------------------------------------------------------------------------------------------------------------------------------------------------------------------------------------------------------------------------------------------------------------------------------------------------------------------------------------------------------------------------------------------------------------------------------------------------------------------------------------------------------------------------------------------------------------------------------------------------------------------------------------------------------------------------------------------------------------------------------------------------------------------------------------------------------------------------------------------------------------------------------------------------------------------------------------------------------------------------------------------------------------------------------------------------------------------------------------------------------------------------------------------------------------------------------------------------------------------------------------------------------------------------------------------------------------------------------------------------------------------------------------------------------------------------------------------------------------------------------------------------------------------------------------------------------------------------------------------------------------------------------------------------------------------------------------------------------------------------------------------------------------------------------------------------------------------------------------------------------------------------------------------------------------------------------------------------------------------------------------------------------------------------------------------------------------------------------------------------------------------------------------------------------------------------------------------------------------------------------------------------------------------------------------------------------------------------------------------------------------------------------------------------------------------------------------------------------------------------------------------------------------------------------------------------------------------------------------------------------------------------------------------------------------------------------------------------------------------------------------------------------------------------------------------------------------------------------------------------------------------------------------------------------------------------------------------------------------------------------------------------------------------------------------------------------------------------------------------------------------------------------------------------------------------------------------------------------------------------------------------------------------------------------------------+\n",
      "|collect_list(city)                                                                                                                                                                                                                                                                                                                                                                                                                                                                                                                                                                                                                                                                                                                                                                                                                                                                                                                                                                                                                                                                                                                                                                                                                                                                                                                                                                                                                                                                                                                                                                                                                                                                                                                                                                                                                                                                                                                                                                                                                                                                                                                                                                                                                                                                                                                                                                                                                                                                                                                                                                                                                                                                                                                                                                                                                                                                                                                                                                                                                                                                                                                                                                                                                                                                                                                                                                                                                                                                                                                                                                                                                                                                                                                                                                                                                                                                                                                                                                                                                                                                                                                                             |\n",
      "+---------------------------------------------------------------------------------------------------------------------------------------------------------------------------------------------------------------------------------------------------------------------------------------------------------------------------------------------------------------------------------------------------------------------------------------------------------------------------------------------------------------------------------------------------------------------------------------------------------------------------------------------------------------------------------------------------------------------------------------------------------------------------------------------------------------------------------------------------------------------------------------------------------------------------------------------------------------------------------------------------------------------------------------------------------------------------------------------------------------------------------------------------------------------------------------------------------------------------------------------------------------------------------------------------------------------------------------------------------------------------------------------------------------------------------------------------------------------------------------------------------------------------------------------------------------------------------------------------------------------------------------------------------------------------------------------------------------------------------------------------------------------------------------------------------------------------------------------------------------------------------------------------------------------------------------------------------------------------------------------------------------------------------------------------------------------------------------------------------------------------------------------------------------------------------------------------------------------------------------------------------------------------------------------------------------------------------------------------------------------------------------------------------------------------------------------------------------------------------------------------------------------------------------------------------------------------------------------------------------------------------------------------------------------------------------------------------------------------------------------------------------------------------------------------------------------------------------------------------------------------------------------------------------------------------------------------------------------------------------------------------------------------------------------------------------------------------------------------------------------------------------------------------------------------------------------------------------------------------------------------------------------------------------------------------------------------------------------------------------------------------------------------------------------------------------------------------------------------------------------------------------------------------------------------------------------------------------------------------------------------------------------------------------------------------------------------------------------------------------------------------------------------------------------------------------------------------------------------------------------------------------------------------------------------------------------------------------------------------------------------------------------------------------------------------------------------------------------------------------------------------------------------------------+\n",
      "|[Mumbai, Delhi, Kolkata, Pune, Lucknow, Bhopal, Lucknow, Bhopal, Bhopal, Kolkata, Lucknow, Delhi, Mumbai, Mumbai, Bhopal, Mumbai, Delhi, Kolkata, Pune, Lucknow, Bhopal, Lucknow, Bhopal, Bhopal, Kolkata, Lucknow, Delhi, Mumbai, Mumbai, Bhopal, Bhopal, Bhopal, Kolkata, Lucknow, Delhi, Mumbai, Mumbai, Bhopal, Mumbai, Delhi, Kolkata, Pune, Lucknow, Bhopal, Bhopal, Kolkata, Lucknow, Delhi, Mumbai, Mumbai, Bhopal, Mumbai, Delhi, Kolkata, Pune, Lucknow, Bhopal, Bhopal, Kolkata, Lucknow, Delhi, Mumbai, Mumbai, Bhopal, Mumbai, Delhi, Kolkata, Pune, Lucknow, Bhopal, Bhopal, Kolkata, Lucknow, Delhi, Mumbai, Mumbai, Bhopal, Mumbai, Delhi, Kolkata, Pune, Lucknow, Bhopal, Bhopal, Kolkata, Lucknow, Delhi, Mumbai, Mumbai, Bhopal, Mumbai, Delhi, Kolkata, Pune, Lucknow, Bhopal, Bhopal, Kolkata, Lucknow, Delhi, Mumbai, Mumbai, Bhopal, Mumbai, Delhi, Kolkata, Pune, Lucknow, Bhopal, Bhopal, Kolkata, Lucknow, Delhi, Mumbai, Mumbai, Bhopal, Mumbai, Delhi, Kolkata, Pune, Lucknow, Bhopal, Bhopal, Kolkata, Lucknow, Delhi, Mumbai, Mumbai, Bhopal, Mumbai, Delhi, Kolkata, Pune, Lucknow, Bhopal, Bhopal, Kolkata, Lucknow, Delhi, Mumbai, Mumbai, Bhopal, Mumbai, Delhi, Kolkata, Pune, Lucknow, Bhopal, Bhopal, Kolkata, Lucknow, Delhi, Mumbai, Mumbai, Bhopal, Mumbai, Delhi, Kolkata, Pune, Lucknow, Bhopal, Bhopal, Kolkata, Lucknow, Delhi, Mumbai, Mumbai, Bhopal, Mumbai, Delhi, Kolkata, Pune, Lucknow, Bhopal, Bhopal, Kolkata, Lucknow, Delhi, Mumbai, Mumbai, Bhopal, Mumbai, Delhi, Kolkata, Pune, Lucknow, Bhopal, Bhopal, Kolkata, Lucknow, Delhi, Mumbai, Mumbai, Bhopal, Mumbai, Delhi, Kolkata, Pune, Lucknow, Bhopal, Bhopal, Kolkata, Lucknow, Delhi, Mumbai, Mumbai, Bhopal, Mumbai, Delhi, Kolkata, Pune, Lucknow, Lucknow, Delhi, Mumbai, Mumbai, Bhopal, Mumbai, Delhi, Kolkata, Pune, Lucknow, Bhopal, Bhopal, Kolkata, Lucknow, Delhi, Mumbai, Mumbai, Bhopal, Mumbai, Delhi, Kolkata, Pune, Lucknow, Bhopal, Bhopal, Kolkata, Lucknow, Delhi, Mumbai, Mumbai, Bhopal, Mumbai, Delhi, Kolkata, Pune, Lucknow, Bhopal, Bhopal, Kolkata, Lucknow, Delhi, Mumbai, Mumbai, Bhopal, Mumbai, Delhi, Kolkata, Pune, Lucknow, Bhopal, Bhopal, Kolkata, Lucknow, Delhi, Mumbai, Mumbai, Bhopal, Mumbai, Delhi, Kolkata, Pune, Lucknow, Lucknow, Delhi, Mumbai, Mumbai, Bhopal, Mumbai, Delhi, Kolkata, Pune, Lucknow, Bhopal, Bhopal, Kolkata, Lucknow, Delhi, Mumbai, Mumbai, Bhopal, Mumbai, Delhi, Kolkata, Pune, Lucknow, Bhopal, Bhopal, Kolkata, Lucknow, Delhi, Mumbai, Mumbai, Bhopal, Mumbai, Delhi, Kolkata, Pune, Lucknow, Bhopal, Bhopal, Kolkata, Lucknow, Delhi, Mumbai, Mumbai, Bhopal, Mumbai, Delhi, Kolkata, Pune, Lucknow, Bhopal, Bhopal, Kolkata, Lucknow, Delhi, Mumbai, Mumbai, Bhopal, Mumbai, Delhi, Kolkata, Pune, Lucknow, Lucknow, Delhi, Mumbai, Mumbai, Bhopal, Mumbai, Delhi, Kolkata, Pune, Lucknow, Bhopal, Bhopal, Kolkata, Lucknow, Delhi, Mumbai, Mumbai, Bhopal, Mumbai, Delhi, Kolkata, Pune, Lucknow, Bhopal, Bhopal, Kolkata, Lucknow, Delhi, Mumbai, Mumbai, Bhopal, Mumbai, Delhi, Kolkata, Pune, Lucknow, Bhopal, Bhopal, Kolkata, Lucknow, Delhi, Mumbai, Mumbai, Bhopal, Mumbai, Delhi, Kolkata, Pune, Lucknow, Bhopal, Bhopal, Kolkata, Lucknow, Delhi, Mumbai, Mumbai, Bhopal, Mumbai, Delhi, Kolkata, Pune, Lucknow, Lucknow, Delhi, Mumbai, Mumbai, Bhopal, Mumbai, Delhi, Kolkata, Pune, Lucknow, Bhopal, Bhopal, Kolkata, Lucknow, Delhi, Mumbai, Mumbai, Bhopal, Mumbai, Delhi, Kolkata, Pune, Lucknow, Bhopal, Bhopal, Kolkata, Lucknow, Delhi, Mumbai, Mumbai, Bhopal, Mumbai, Delhi, Kolkata, Pune, Lucknow, Bhopal, Bhopal, Kolkata, Lucknow, Delhi, Mumbai, Mumbai, Bhopal, Mumbai, Delhi, Kolkata, Pune, Lucknow, Bhopal, Bhopal, Kolkata, Lucknow, Delhi, Mumbai, Mumbai, Bhopal, Mumbai, Delhi, Kolkata, Pune, Lucknow, Lucknow, Delhi, Mumbai, Mumbai, Bhopal, Mumbai, Delhi, Kolkata, Pune, Lucknow, Bhopal, Bhopal, Kolkata, Lucknow, Delhi, Mumbai, Mumbai, Bhopal, Mumbai, Delhi, Kolkata, Pune, Lucknow, Bhopal, Bhopal, Kolkata, Lucknow, Delhi, Mumbai, Mumbai, Bhopal, Mumbai, Delhi, Kolkata, Pune, Lucknow, Bhopal, Bhopal, Kolkata, Lucknow]|\n",
      "+---------------------------------------------------------------------------------------------------------------------------------------------------------------------------------------------------------------------------------------------------------------------------------------------------------------------------------------------------------------------------------------------------------------------------------------------------------------------------------------------------------------------------------------------------------------------------------------------------------------------------------------------------------------------------------------------------------------------------------------------------------------------------------------------------------------------------------------------------------------------------------------------------------------------------------------------------------------------------------------------------------------------------------------------------------------------------------------------------------------------------------------------------------------------------------------------------------------------------------------------------------------------------------------------------------------------------------------------------------------------------------------------------------------------------------------------------------------------------------------------------------------------------------------------------------------------------------------------------------------------------------------------------------------------------------------------------------------------------------------------------------------------------------------------------------------------------------------------------------------------------------------------------------------------------------------------------------------------------------------------------------------------------------------------------------------------------------------------------------------------------------------------------------------------------------------------------------------------------------------------------------------------------------------------------------------------------------------------------------------------------------------------------------------------------------------------------------------------------------------------------------------------------------------------------------------------------------------------------------------------------------------------------------------------------------------------------------------------------------------------------------------------------------------------------------------------------------------------------------------------------------------------------------------------------------------------------------------------------------------------------------------------------------------------------------------------------------------------------------------------------------------------------------------------------------------------------------------------------------------------------------------------------------------------------------------------------------------------------------------------------------------------------------------------------------------------------------------------------------------------------------------------------------------------------------------------------------------------------------------------------------------------------------------------------------------------------------------------------------------------------------------------------------------------------------------------------------------------------------------------------------------------------------------------------------------------------------------------------------------------------------------------------------------------------------------------------------------------------------------------------------------------------------------+\n",
      "\n"
     ]
    }
   ],
   "source": [
    "df.agg(F.collect_list('city')).show(truncate=False)"
   ]
  },
  {
   "cell_type": "code",
   "execution_count": 22,
   "metadata": {},
   "outputs": [
    {
     "name": "stdout",
     "output_type": "stream",
     "text": [
      "+-------------+\n",
      "|   city_price|\n",
      "+-------------+\n",
      "| Mumbai208500|\n",
      "|  Delhi181500|\n",
      "|Kolkata223500|\n",
      "|   Pune140000|\n",
      "|Lucknow250000|\n",
      "| Bhopal143000|\n",
      "|Lucknow307000|\n",
      "| Bhopal200000|\n",
      "| Bhopal129900|\n",
      "|Kolkata118000|\n",
      "|Lucknow129500|\n",
      "|  Delhi345000|\n",
      "| Mumbai144000|\n",
      "| Mumbai279500|\n",
      "| Bhopal157000|\n",
      "| Mumbai132000|\n",
      "|  Delhi149000|\n",
      "| Kolkata90000|\n",
      "|   Pune159000|\n",
      "|Lucknow139000|\n",
      "+-------------+\n",
      "only showing top 20 rows\n",
      "\n"
     ]
    }
   ],
   "source": [
    "df.select(F.concat(df[\"city\"], df[\"SalePrice\"]).alias('city_price')).show()"
   ]
  },
  {
   "cell_type": "code",
   "execution_count": 23,
   "metadata": {},
   "outputs": [
    {
     "name": "stdout",
     "output_type": "stream",
     "text": [
      "+-----------+\n",
      "|count(city)|\n",
      "+-----------+\n",
      "|          6|\n",
      "+-----------+\n",
      "\n"
     ]
    }
   ],
   "source": [
    "df.agg(F.countDistinct('city')).show()"
   ]
  },
  {
   "cell_type": "code",
   "execution_count": 24,
   "metadata": {},
   "outputs": [
    {
     "name": "stdout",
     "output_type": "stream",
     "text": [
      "+-------+\n",
      "|   city|\n",
      "+-------+\n",
      "|Lucknow|\n",
      "| Mumbai|\n",
      "|Kolkata|\n",
      "|   Pune|\n",
      "|  Delhi|\n",
      "| Bhopal|\n",
      "+-------+\n",
      "\n"
     ]
    }
   ],
   "source": [
    "df.select(\"city\").distinct().show()"
   ]
  },
  {
   "cell_type": "code",
   "execution_count": 28,
   "metadata": {},
   "outputs": [
    {
     "name": "stdout",
     "output_type": "stream",
     "text": [
      "+-------+\n",
      "|   City|\n",
      "+-------+\n",
      "| Mumbai|\n",
      "|  Delhi|\n",
      "|Kolkata|\n",
      "|   Pune|\n",
      "|Lucknow|\n",
      "| Bhopal|\n",
      "|Lucknow|\n",
      "| Bhopal|\n",
      "| Bhopal|\n",
      "|Kolkata|\n",
      "|Lucknow|\n",
      "|  Delhi|\n",
      "| Mumbai|\n",
      "| Mumbai|\n",
      "| Bhopal|\n",
      "| Mumbai|\n",
      "|  Delhi|\n",
      "|Kolkata|\n",
      "|   Pune|\n",
      "|Lucknow|\n",
      "+-------+\n",
      "only showing top 20 rows\n",
      "\n"
     ]
    }
   ],
   "source": [
    "df.select(\"City\").show()"
   ]
  },
  {
   "cell_type": "code",
   "execution_count": 27,
   "metadata": {},
   "outputs": [
    {
     "name": "stdout",
     "output_type": "stream",
     "text": [
      "+------------+\n",
      "|length(City)|\n",
      "+------------+\n",
      "|           6|\n",
      "|           5|\n",
      "|           7|\n",
      "|           4|\n",
      "|           7|\n",
      "|           6|\n",
      "|           7|\n",
      "|           6|\n",
      "|           6|\n",
      "|           7|\n",
      "|           7|\n",
      "|           5|\n",
      "|           6|\n",
      "|           6|\n",
      "|           6|\n",
      "|           6|\n",
      "|           5|\n",
      "|           7|\n",
      "|           4|\n",
      "|           7|\n",
      "+------------+\n",
      "only showing top 20 rows\n",
      "\n"
     ]
    }
   ],
   "source": [
    "df.select(F.length(\"City\")).show()"
   ]
  },
  {
   "cell_type": "code",
   "execution_count": 29,
   "metadata": {},
   "outputs": [],
   "source": [
    "from pyspark.sql.functions import col,lit"
   ]
  },
  {
   "cell_type": "code",
   "execution_count": 30,
   "metadata": {},
   "outputs": [
    {
     "name": "stdout",
     "output_type": "stream",
     "text": [
      "+-------+----------+\n",
      "|   City|lit_value1|\n",
      "+-------+----------+\n",
      "| Mumbai|         1|\n",
      "|  Delhi|         1|\n",
      "|Kolkata|         1|\n",
      "|   Pune|         1|\n",
      "|Lucknow|         1|\n",
      "| Bhopal|         1|\n",
      "|Lucknow|         1|\n",
      "| Bhopal|         1|\n",
      "| Bhopal|         1|\n",
      "|Kolkata|         1|\n",
      "|Lucknow|         1|\n",
      "|  Delhi|         1|\n",
      "| Mumbai|         1|\n",
      "| Mumbai|         1|\n",
      "| Bhopal|         1|\n",
      "| Mumbai|         1|\n",
      "|  Delhi|         1|\n",
      "|Kolkata|         1|\n",
      "|   Pune|         1|\n",
      "|Lucknow|         1|\n",
      "+-------+----------+\n",
      "only showing top 20 rows\n",
      "\n"
     ]
    }
   ],
   "source": [
    "df.select(col(\"City\"),lit(\"1\").alias(\"lit_value1\")).show()"
   ]
  },
  {
   "cell_type": "code",
   "execution_count": 31,
   "metadata": {},
   "outputs": [
    {
     "name": "stdout",
     "output_type": "stream",
     "text": [
      "+-----------------+\n",
      "|last(City, false)|\n",
      "+-----------------+\n",
      "|          Lucknow|\n",
      "+-----------------+\n",
      "\n"
     ]
    }
   ],
   "source": [
    "df.select(F.last(\"City\")).show()"
   ]
  },
  {
   "cell_type": "code",
   "execution_count": null,
   "metadata": {},
   "outputs": [],
   "source": []
  }
 ],
 "metadata": {
  "kernelspec": {
   "display_name": "Python 3",
   "language": "python",
   "name": "python3"
  },
  "language_info": {
   "codemirror_mode": {
    "name": "ipython",
    "version": 3
   },
   "file_extension": ".py",
   "mimetype": "text/x-python",
   "name": "python",
   "nbconvert_exporter": "python",
   "pygments_lexer": "ipython3",
   "version": "3.8.3"
  }
 },
 "nbformat": 4,
 "nbformat_minor": 4
}
