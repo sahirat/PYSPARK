{
 "cells": [
  {
   "cell_type": "code",
   "execution_count": 1,
   "metadata": {},
   "outputs": [],
   "source": [
    "from pyspark.sql import SparkSession\n",
    "spark = SparkSession.builder.getOrCreate()"
   ]
  },
  {
   "cell_type": "code",
   "execution_count": 2,
   "metadata": {},
   "outputs": [],
   "source": [
    "from pyspark import SparkFiles"
   ]
  },
  {
   "cell_type": "code",
   "execution_count": 3,
   "metadata": {},
   "outputs": [],
   "source": [
    "url = 'https://raw.githubusercontent.com/siddiquiamir/Data/master/iris.csv'\n",
    "spark.sparkContext.addFile(url)\n",
    "df = spark.read.csv(SparkFiles.get(\"iris.csv\"),inferSchema=True, header=True)"
   ]
  },
  {
   "cell_type": "code",
   "execution_count": 4,
   "metadata": {},
   "outputs": [
    {
     "name": "stdout",
     "output_type": "stream",
     "text": [
      "+------------+-----------+------------+-----------+------+\n",
      "|Sepal_Length|Sepal_Width|Petal_Length|Petal_Width| Class|\n",
      "+------------+-----------+------------+-----------+------+\n",
      "|         5.1|        3.5|         1.4|        0.2|Setosa|\n",
      "|         4.9|        3.0|         1.4|        0.2|Setosa|\n",
      "|         4.7|        3.2|         1.3|        0.2|Setosa|\n",
      "|         4.6|        3.1|         1.5|        0.2|Setosa|\n",
      "|         5.0|        3.6|         1.4|        0.2|Setosa|\n",
      "|         5.4|        3.9|         1.7|        0.4|Setosa|\n",
      "|         4.6|        3.4|         1.4|        0.3|Setosa|\n",
      "|         5.0|        3.4|         1.5|        0.2|Setosa|\n",
      "|         4.4|        2.9|         1.4|        0.2|Setosa|\n",
      "|         4.9|        3.1|         1.5|        0.1|Setosa|\n",
      "|         5.4|        3.7|         1.5|        0.2|Setosa|\n",
      "|         4.8|        3.4|         1.6|        0.2|Setosa|\n",
      "|         4.8|        3.0|         1.4|        0.1|Setosa|\n",
      "|         4.3|        3.0|         1.1|        0.1|Setosa|\n",
      "|         5.8|        4.0|         1.2|        0.2|Setosa|\n",
      "|         5.7|        4.4|         1.5|        0.4|Setosa|\n",
      "|         5.4|        3.9|         1.3|        0.4|Setosa|\n",
      "|         5.1|        3.5|         1.4|        0.3|Setosa|\n",
      "|         5.7|        3.8|         1.7|        0.3|Setosa|\n",
      "|         5.1|        3.8|         1.5|        0.3|Setosa|\n",
      "+------------+-----------+------------+-----------+------+\n",
      "only showing top 20 rows\n",
      "\n"
     ]
    }
   ],
   "source": [
    "df.show()"
   ]
  },
  {
   "cell_type": "code",
   "execution_count": 5,
   "metadata": {},
   "outputs": [
    {
     "name": "stdout",
     "output_type": "stream",
     "text": [
      "root\n",
      " |-- Sepal_Length: double (nullable = true)\n",
      " |-- Sepal_Width: double (nullable = true)\n",
      " |-- Petal_Length: double (nullable = true)\n",
      " |-- Petal_Width: double (nullable = true)\n",
      " |-- Class: string (nullable = true)\n",
      "\n"
     ]
    }
   ],
   "source": [
    "df.printSchema()"
   ]
  },
  {
   "cell_type": "code",
   "execution_count": 6,
   "metadata": {},
   "outputs": [
    {
     "name": "stdout",
     "output_type": "stream",
     "text": [
      "+------+\n",
      "| Class|\n",
      "+------+\n",
      "|Setosa|\n",
      "|Setosa|\n",
      "|Setosa|\n",
      "|Setosa|\n",
      "|Setosa|\n",
      "|Setosa|\n",
      "|Setosa|\n",
      "|Setosa|\n",
      "|Setosa|\n",
      "|Setosa|\n",
      "|Setosa|\n",
      "|Setosa|\n",
      "|Setosa|\n",
      "|Setosa|\n",
      "|Setosa|\n",
      "|Setosa|\n",
      "|Setosa|\n",
      "|Setosa|\n",
      "|Setosa|\n",
      "|Setosa|\n",
      "+------+\n",
      "only showing top 20 rows\n",
      "\n"
     ]
    }
   ],
   "source": [
    "df.select(\"Class\").show()"
   ]
  },
  {
   "cell_type": "code",
   "execution_count": 7,
   "metadata": {},
   "outputs": [
    {
     "name": "stdout",
     "output_type": "stream",
     "text": [
      "+------+------------+\n",
      "| Class|Sepal_Length|\n",
      "+------+------------+\n",
      "|Setosa|         5.1|\n",
      "|Setosa|         4.9|\n",
      "|Setosa|         4.7|\n",
      "|Setosa|         4.6|\n",
      "|Setosa|         5.0|\n",
      "|Setosa|         5.4|\n",
      "|Setosa|         4.6|\n",
      "|Setosa|         5.0|\n",
      "|Setosa|         4.4|\n",
      "|Setosa|         4.9|\n",
      "|Setosa|         5.4|\n",
      "|Setosa|         4.8|\n",
      "|Setosa|         4.8|\n",
      "|Setosa|         4.3|\n",
      "|Setosa|         5.8|\n",
      "|Setosa|         5.7|\n",
      "|Setosa|         5.4|\n",
      "|Setosa|         5.1|\n",
      "|Setosa|         5.7|\n",
      "|Setosa|         5.1|\n",
      "+------+------------+\n",
      "only showing top 20 rows\n",
      "\n"
     ]
    }
   ],
   "source": [
    "df.select(\"Class\", \"Sepal_Length\").show()"
   ]
  },
  {
   "cell_type": "code",
   "execution_count": 11,
   "metadata": {},
   "outputs": [
    {
     "name": "stdout",
     "output_type": "stream",
     "text": [
      "+---------------+\n",
      "|Target_Variable|\n",
      "+---------------+\n",
      "|         Setosa|\n",
      "|         Setosa|\n",
      "|         Setosa|\n",
      "|         Setosa|\n",
      "|         Setosa|\n",
      "|         Setosa|\n",
      "|         Setosa|\n",
      "|         Setosa|\n",
      "|         Setosa|\n",
      "|         Setosa|\n",
      "|         Setosa|\n",
      "|         Setosa|\n",
      "|         Setosa|\n",
      "|         Setosa|\n",
      "|         Setosa|\n",
      "|         Setosa|\n",
      "|         Setosa|\n",
      "|         Setosa|\n",
      "|         Setosa|\n",
      "|         Setosa|\n",
      "+---------------+\n",
      "only showing top 20 rows\n",
      "\n"
     ]
    }
   ],
   "source": [
    "df.select(df.Class.alias(\"Target_Variable\")).show()"
   ]
  },
  {
   "cell_type": "code",
   "execution_count": null,
   "metadata": {},
   "outputs": [],
   "source": []
  }
 ],
 "metadata": {
  "kernelspec": {
   "display_name": "Python 3",
   "language": "python",
   "name": "python3"
  },
  "language_info": {
   "codemirror_mode": {
    "name": "ipython",
    "version": 3
   },
   "file_extension": ".py",
   "mimetype": "text/x-python",
   "name": "python",
   "nbconvert_exporter": "python",
   "pygments_lexer": "ipython3",
   "version": "3.8.3"
  }
 },
 "nbformat": 4,
 "nbformat_minor": 4
}
