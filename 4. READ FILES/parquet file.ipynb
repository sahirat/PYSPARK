{
 "cells": [
  {
   "cell_type": "code",
   "execution_count": 1,
   "metadata": {},
   "outputs": [],
   "source": [
    "from pyspark.sql import SparkSession\n",
    "spark = SparkSession.builder.getOrCreate()"
   ]
  },
  {
   "cell_type": "code",
   "execution_count": 2,
   "metadata": {},
   "outputs": [],
   "source": [
    "df = spark.read.json(\"simple_zipcodes.json\")"
   ]
  },
  {
   "cell_type": "code",
   "execution_count": 12,
   "metadata": {},
   "outputs": [],
   "source": [
    "df_z= spark.read.json(\"C:\\\\Users\\\\amirs\\\\OneDrive\\\\Desktop\\\\zipcodes.json\")"
   ]
  },
  {
   "cell_type": "code",
   "execution_count": 13,
   "metadata": {},
   "outputs": [
    {
     "name": "stdout",
     "output_type": "stream",
     "text": [
      "+-------------------+-----+-----------+-------+\n",
      "|               City|State|ZipCodeType|Zipcode|\n",
      "+-------------------+-----+-----------+-------+\n",
      "|        PARC PARQUE|   PR|   STANDARD|    704|\n",
      "|PASEO COSTA DEL SUR|   PR|   STANDARD|    704|\n",
      "|       BDA SAN LUIS|   PR|   STANDARD|    709|\n",
      "|  CINGULAR WIRELESS|   TX|     UNIQUE|  76166|\n",
      "|         FORT WORTH|   TX|   STANDARD|  76177|\n",
      "+-------------------+-----+-----------+-------+\n",
      "only showing top 5 rows\n",
      "\n"
     ]
    }
   ],
   "source": [
    "df_z.show(5)"
   ]
  },
  {
   "cell_type": "code",
   "execution_count": 3,
   "metadata": {},
   "outputs": [],
   "source": [
    "df.write.parquet(\"df.parquet\")"
   ]
  },
  {
   "cell_type": "code",
   "execution_count": 4,
   "metadata": {},
   "outputs": [],
   "source": [
    "parquetFile = spark.read.parquet(\"df.parquet\")"
   ]
  },
  {
   "cell_type": "code",
   "execution_count": 6,
   "metadata": {},
   "outputs": [
    {
     "name": "stdout",
     "output_type": "stream",
     "text": [
      "+-------------------+-----+-----------+-------+\n",
      "|               City|State|ZipCodeType|Zipcode|\n",
      "+-------------------+-----+-----------+-------+\n",
      "|        PARC PARQUE|   PR|   STANDARD|    704|\n",
      "|PASEO COSTA DEL SUR|   PR|   STANDARD|    704|\n",
      "|       BDA SAN LUIS|   PR|   STANDARD|    709|\n",
      "|  CINGULAR WIRELESS|   TX|     UNIQUE|  76166|\n",
      "|         FORT WORTH|   TX|   STANDARD|  76177|\n",
      "|           FT WORTH|   TX|   STANDARD|  76177|\n",
      "|    URB EUGENE RICE|   PR|   STANDARD|    704|\n",
      "|               MESA|   AZ|   STANDARD|  85209|\n",
      "|               MESA|   AZ|   STANDARD|  85210|\n",
      "|           HILLIARD|   FL|   STANDARD|  32046|\n",
      "+-------------------+-----+-----------+-------+\n",
      "\n"
     ]
    }
   ],
   "source": [
    "parquetFile.show()"
   ]
  },
  {
   "cell_type": "code",
   "execution_count": 7,
   "metadata": {},
   "outputs": [
    {
     "name": "stdout",
     "output_type": "stream",
     "text": [
      "root\n",
      " |-- City: string (nullable = true)\n",
      " |-- State: string (nullable = true)\n",
      " |-- ZipCodeType: string (nullable = true)\n",
      " |-- Zipcode: long (nullable = true)\n",
      "\n"
     ]
    }
   ],
   "source": [
    "parquetFile.printSchema()"
   ]
  },
  {
   "cell_type": "code",
   "execution_count": 8,
   "metadata": {},
   "outputs": [
    {
     "name": "stdout",
     "output_type": "stream",
     "text": [
      "+-------------------+\n",
      "|               City|\n",
      "+-------------------+\n",
      "|        PARC PARQUE|\n",
      "|PASEO COSTA DEL SUR|\n",
      "|       BDA SAN LUIS|\n",
      "|  CINGULAR WIRELESS|\n",
      "|         FORT WORTH|\n",
      "|           FT WORTH|\n",
      "|    URB EUGENE RICE|\n",
      "|               MESA|\n",
      "|               MESA|\n",
      "|           HILLIARD|\n",
      "+-------------------+\n",
      "\n"
     ]
    }
   ],
   "source": [
    "parquetFile.select(\"City\").show()"
   ]
  },
  {
   "cell_type": "code",
   "execution_count": null,
   "metadata": {},
   "outputs": [],
   "source": []
  }
 ],
 "metadata": {
  "kernelspec": {
   "display_name": "Python 3",
   "language": "python",
   "name": "python3"
  },
  "language_info": {
   "codemirror_mode": {
    "name": "ipython",
    "version": 3
   },
   "file_extension": ".py",
   "mimetype": "text/x-python",
   "name": "python",
   "nbconvert_exporter": "python",
   "pygments_lexer": "ipython3",
   "version": "3.8.3"
  }
 },
 "nbformat": 4,
 "nbformat_minor": 4
}
