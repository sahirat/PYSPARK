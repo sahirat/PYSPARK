{
 "cells": [
  {
   "cell_type": "markdown",
   "metadata": {},
   "source": [
    "Correlation analysis is a statistical technique for determining the strength of a link between two variables [ independent and dependent variables ]. It is used to detect patterns and trends in data and to forecast future occurrences."
   ]
  },
  {
   "cell_type": "code",
   "execution_count": 1,
   "metadata": {},
   "outputs": [],
   "source": [
    "from pyspark.sql import SparkSession\n",
    "from pyspark.ml.stat import Correlation"
   ]
  },
  {
   "cell_type": "code",
   "execution_count": 2,
   "metadata": {},
   "outputs": [],
   "source": [
    "spark = SparkSession.builder.getOrCreate()"
   ]
  },
  {
   "cell_type": "code",
   "execution_count": 4,
   "metadata": {},
   "outputs": [],
   "source": [
    "df = spark.read.csv(\"house_price _corr.csv\", inferSchema=True, header=True)"
   ]
  },
  {
   "cell_type": "code",
   "execution_count": 5,
   "metadata": {},
   "outputs": [
    {
     "name": "stdout",
     "output_type": "stream",
     "text": [
      "+-----------+-----------+---------+----------+---------+\n",
      "|OverallQual|OverallCond|GrLivArea|GarageArea|SalePrice|\n",
      "+-----------+-----------+---------+----------+---------+\n",
      "|          7|          5|     1710|       548|   208500|\n",
      "|          6|          8|     1262|       460|   181500|\n",
      "|          7|          5|     1786|       608|   223500|\n",
      "|          7|          5|     1717|       642|   358736|\n",
      "|          8|          5|     2198|       836|   553963|\n",
      "|          5|          5|     1362|       480|   143000|\n",
      "|          8|          5|     5936|       636|   307000|\n",
      "|          7|          6|     6346|       484|   200000|\n",
      "|          7|          5|     1774|       468|   129900|\n",
      "|          5|          6|     1077|       205|   118000|\n",
      "|          5|          5|     1040|       384|   129500|\n",
      "|          9|          5|     2324|       346|   345000|\n",
      "|          5|          4|      912|       734|   144000|\n",
      "|          7|          7|     1494|       454|   279500|\n",
      "|          6|          5|     1253|       352|   157000|\n",
      "|          7|          8|      854|       576|   132000|\n",
      "|          6|          7|     1004|       480|   149000|\n",
      "|          3|          6|     1296|       516|    90000|\n",
      "|          5|          5|     1114|       576|   159000|\n",
      "+-----------+-----------+---------+----------+---------+\n",
      "\n"
     ]
    }
   ],
   "source": [
    "df.show()"
   ]
  },
  {
   "cell_type": "code",
   "execution_count": 6,
   "metadata": {},
   "outputs": [
    {
     "name": "stdout",
     "output_type": "stream",
     "text": [
      "root\n",
      " |-- OverallQual: integer (nullable = true)\n",
      " |-- OverallCond: integer (nullable = true)\n",
      " |-- GrLivArea: integer (nullable = true)\n",
      " |-- GarageArea: integer (nullable = true)\n",
      " |-- SalePrice: integer (nullable = true)\n",
      "\n"
     ]
    }
   ],
   "source": [
    "df.printSchema()"
   ]
  },
  {
   "cell_type": "code",
   "execution_count": 7,
   "metadata": {},
   "outputs": [
    {
     "data": {
      "text/plain": [
       "0.7088680571901927"
      ]
     },
     "execution_count": 7,
     "metadata": {},
     "output_type": "execute_result"
    }
   ],
   "source": [
    "df.corr(\"OverallQual\", \"SalePrice\")"
   ]
  },
  {
   "cell_type": "code",
   "execution_count": 8,
   "metadata": {},
   "outputs": [
    {
     "data": {
      "text/plain": [
       "0.3178067172984518"
      ]
     },
     "execution_count": 8,
     "metadata": {},
     "output_type": "execute_result"
    }
   ],
   "source": [
    "df.corr(\"GrLivArea\", \"SalePrice\")"
   ]
  },
  {
   "cell_type": "code",
   "execution_count": 9,
   "metadata": {},
   "outputs": [
    {
     "data": {
      "text/plain": [
       "0.5053657033548684"
      ]
     },
     "execution_count": 9,
     "metadata": {},
     "output_type": "execute_result"
    }
   ],
   "source": [
    "df.corr(\"GarageArea\", \"SalePrice\")"
   ]
  },
  {
   "cell_type": "code",
   "execution_count": 10,
   "metadata": {},
   "outputs": [
    {
     "data": {
      "text/plain": [
       "1.0"
      ]
     },
     "execution_count": 10,
     "metadata": {},
     "output_type": "execute_result"
    }
   ],
   "source": [
    "df.corr(\"SalePrice\", \"SalePrice\")"
   ]
  },
  {
   "cell_type": "code",
   "execution_count": 11,
   "metadata": {},
   "outputs": [],
   "source": [
    "from pyspark.ml.feature import VectorAssembler"
   ]
  },
  {
   "cell_type": "code",
   "execution_count": 12,
   "metadata": {},
   "outputs": [],
   "source": [
    "vector_col = \"corr_features\"\n",
    "assembler = VectorAssembler(inputCols=df.columns, outputCol=vector_col)\n",
    "df_vector = assembler.transform(df).select(vector_col)"
   ]
  },
  {
   "cell_type": "code",
   "execution_count": 13,
   "metadata": {},
   "outputs": [
    {
     "name": "stdout",
     "output_type": "stream",
     "text": [
      "[[1.0, -0.02774753460233952, 0.4573644491898405, 0.20120788591271033, 0.7088680571901929], [-0.02774753460233952, 1.0, -0.1248672533677727, -0.25121753977210914, -0.20552834539920514], [0.4573644491898405, -0.1248672533677727, 1.0, 0.1472812727140397, 0.31780671729845184], [0.20120788591271033, -0.25121753977210914, 0.1472812727140397, 1.0, 0.5053657033548684], [0.7088680571901929, -0.20552834539920514, 0.31780671729845184, 0.5053657033548684, 1.0]]\n"
     ]
    }
   ],
   "source": [
    "matrix = Correlation.corr(df_vector, vector_col).collect()[0][0]\n",
    "corrmatrix = matrix.toArray().tolist()\n",
    "print(corrmatrix)"
   ]
  },
  {
   "cell_type": "code",
   "execution_count": 14,
   "metadata": {},
   "outputs": [
    {
     "data": {
      "text/plain": [
       "['OverallQual', 'OverallCond', 'GrLivArea', 'GarageArea', 'SalePrice']"
      ]
     },
     "execution_count": 14,
     "metadata": {},
     "output_type": "execute_result"
    }
   ],
   "source": [
    "df.columns"
   ]
  },
  {
   "cell_type": "code",
   "execution_count": 15,
   "metadata": {},
   "outputs": [],
   "source": [
    "columns = ['OverallQual', 'GrLivArea', 'GarageArea', 'SalePrice']"
   ]
  },
  {
   "cell_type": "code",
   "execution_count": 16,
   "metadata": {},
   "outputs": [
    {
     "name": "stdout",
     "output_type": "stream",
     "text": [
      "+--------------------+--------------------+-------------------+--------------------+--------------------+\n",
      "|         OverallQual|           GrLivArea|         GarageArea|           SalePrice|                  _5|\n",
      "+--------------------+--------------------+-------------------+--------------------+--------------------+\n",
      "|                 1.0|-0.02774753460233952| 0.4573644491898405| 0.20120788591271033|  0.7088680571901929|\n",
      "|-0.02774753460233952|                 1.0|-0.1248672533677727|-0.25121753977210914|-0.20552834539920514|\n",
      "|  0.4573644491898405| -0.1248672533677727|                1.0|  0.1472812727140397| 0.31780671729845184|\n",
      "| 0.20120788591271033|-0.25121753977210914| 0.1472812727140397|                 1.0|  0.5053657033548684|\n",
      "|  0.7088680571901929|-0.20552834539920514|0.31780671729845184|  0.5053657033548684|                 1.0|\n",
      "+--------------------+--------------------+-------------------+--------------------+--------------------+\n",
      "\n"
     ]
    }
   ],
   "source": [
    "df_corr = spark.createDataFrame(corrmatrix,columns)\n",
    "df_corr.show()"
   ]
  },
  {
   "cell_type": "code",
   "execution_count": 17,
   "metadata": {},
   "outputs": [
    {
     "data": {
      "text/plain": [
       "['OverallQual', 'OverallCond', 'GrLivArea', 'GarageArea', 'SalePrice']"
      ]
     },
     "execution_count": 17,
     "metadata": {},
     "output_type": "execute_result"
    }
   ],
   "source": [
    "df.columns"
   ]
  },
  {
   "cell_type": "code",
   "execution_count": 18,
   "metadata": {},
   "outputs": [
    {
     "name": "stdout",
     "output_type": "stream",
     "text": [
      "+--------------------+-------------------+--------------------+\n",
      "|           GrLivArea|         GarageArea|           SalePrice|\n",
      "+--------------------+-------------------+--------------------+\n",
      "|-0.02774753460233952| 0.4573644491898405| 0.20120788591271033|\n",
      "|                 1.0|-0.1248672533677727|-0.25121753977210914|\n",
      "| -0.1248672533677727|                1.0|  0.1472812727140397|\n",
      "|-0.25121753977210914| 0.1472812727140397|                 1.0|\n",
      "|-0.20552834539920514|0.31780671729845184|  0.5053657033548684|\n",
      "+--------------------+-------------------+--------------------+\n",
      "\n"
     ]
    }
   ],
   "source": [
    "df_corr.select('GrLivArea', 'GarageArea', 'SalePrice').show()"
   ]
  },
  {
   "cell_type": "code",
   "execution_count": 19,
   "metadata": {},
   "outputs": [],
   "source": [
    "import seaborn as sns"
   ]
  },
  {
   "cell_type": "code",
   "execution_count": 23,
   "metadata": {},
   "outputs": [
    {
     "data": {
      "text/plain": [
       "<matplotlib.axes._subplots.AxesSubplot at 0x1b7bea16c40>"
      ]
     },
     "execution_count": 23,
     "metadata": {},
     "output_type": "execute_result"
    },
    {
     "data": {
      "image/png": "[encoded data removed]",
      "text/plain": [
       "<Figure size 432x288 with 2 Axes>"
      ]
     },
     "metadata": {
      "needs_background": "light"
     },
     "output_type": "display_data"
    }
   ],
   "source": [
    "sns.heatmap(corrmatrix, xticklabels=df_corr.columns, \n",
    "           yticklabels=df_corr.columns, annot=True)"
   ]
  },
  {
   "cell_type": "code",
   "execution_count": null,
   "metadata": {},
   "outputs": [],
   "source": []
  }
 ],
 "metadata": {
  "kernelspec": {
   "display_name": "Python 3",
   "language": "python",
   "name": "python3"
  },
  "language_info": {
   "codemirror_mode": {
    "name": "ipython",
    "version": 3
   },
   "file_extension": ".py",
   "mimetype": "text/x-python",
   "name": "python",
   "nbconvert_exporter": "python",
   "pygments_lexer": "ipython3",
   "version": "3.8.3"
  }
 },
 "nbformat": 4,
 "nbformat_minor": 4
}
