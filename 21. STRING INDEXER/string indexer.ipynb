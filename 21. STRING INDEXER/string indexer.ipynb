{
 "cells": [
  {
   "cell_type": "code",
   "execution_count": 1,
   "metadata": {},
   "outputs": [],
   "source": [
    "from pyspark.sql import SparkSession\n",
    "from pyspark.ml.feature import StringIndexer"
   ]
  },
  {
   "cell_type": "code",
   "execution_count": 2,
   "metadata": {},
   "outputs": [],
   "source": [
    "spark = SparkSession.builder.getOrCreate()"
   ]
  },
  {
   "cell_type": "code",
   "execution_count": 3,
   "metadata": {},
   "outputs": [],
   "source": [
    "df = spark.read.csv(\"color.csv\", inferSchema=True,\n",
    "                   header=True)"
   ]
  },
  {
   "cell_type": "code",
   "execution_count": 4,
   "metadata": {},
   "outputs": [
    {
     "name": "stdout",
     "output_type": "stream",
     "text": [
      "+------+------+\n",
      "| color| fruit|\n",
      "+------+------+\n",
      "|   red| apple|\n",
      "| black|grapes|\n",
      "|yellow|banana|\n",
      "| brown|  kiwi|\n",
      "| green| guava|\n",
      "|   red| apple|\n",
      "| black|grapes|\n",
      "|yellow|banana|\n",
      "| brown|  kiwi|\n",
      "| green| guava|\n",
      "|   red| apple|\n",
      "| black|grapes|\n",
      "|yellow|banana|\n",
      "| brown|  kiwi|\n",
      "| green| guava|\n",
      "|   red| apple|\n",
      "| black|grapes|\n",
      "|yellow|banana|\n",
      "| brown|  kiwi|\n",
      "| green| guava|\n",
      "+------+------+\n",
      "only showing top 20 rows\n",
      "\n"
     ]
    }
   ],
   "source": [
    "df.show()"
   ]
  },
  {
   "cell_type": "code",
   "execution_count": 5,
   "metadata": {},
   "outputs": [
    {
     "name": "stdout",
     "output_type": "stream",
     "text": [
      "root\n",
      " |-- color: string (nullable = true)\n",
      " |-- fruit: string (nullable = true)\n",
      "\n"
     ]
    }
   ],
   "source": [
    "df.printSchema()"
   ]
  },
  {
   "cell_type": "code",
   "execution_count": 6,
   "metadata": {},
   "outputs": [
    {
     "name": "stdout",
     "output_type": "stream",
     "text": [
      "+------+------+\n",
      "| color| fruit|\n",
      "+------+------+\n",
      "|yellow|banana|\n",
      "| brown|  kiwi|\n",
      "|   red| apple|\n",
      "| black|grapes|\n",
      "| green| guava|\n",
      "+------+------+\n",
      "\n"
     ]
    }
   ],
   "source": [
    "df.distinct().show()"
   ]
  },
  {
   "cell_type": "code",
   "execution_count": 7,
   "metadata": {},
   "outputs": [
    {
     "name": "stdout",
     "output_type": "stream",
     "text": [
      "+------+------+-----------+-----------+\n",
      "| color| fruit|color_index|fruit_index|\n",
      "+------+------+-----------+-----------+\n",
      "|   red| apple|        0.0|        2.0|\n",
      "| black|grapes|        2.0|        0.0|\n",
      "|yellow|banana|        1.0|        3.0|\n",
      "| brown|  kiwi|        3.0|        1.0|\n",
      "| green| guava|        4.0|        4.0|\n",
      "|   red| apple|        0.0|        2.0|\n",
      "| black|grapes|        2.0|        0.0|\n",
      "|yellow|banana|        1.0|        3.0|\n",
      "| brown|  kiwi|        3.0|        1.0|\n",
      "| green| guava|        4.0|        4.0|\n",
      "|   red| apple|        0.0|        2.0|\n",
      "| black|grapes|        2.0|        0.0|\n",
      "|yellow|banana|        1.0|        3.0|\n",
      "| brown|  kiwi|        3.0|        1.0|\n",
      "| green| guava|        4.0|        4.0|\n",
      "|   red| apple|        0.0|        2.0|\n",
      "| black|grapes|        2.0|        0.0|\n",
      "|yellow|banana|        1.0|        3.0|\n",
      "| brown|  kiwi|        3.0|        1.0|\n",
      "| green| guava|        4.0|        4.0|\n",
      "+------+------+-----------+-----------+\n",
      "only showing top 20 rows\n",
      "\n"
     ]
    }
   ],
   "source": [
    "indexer = StringIndexer(inputCols=[\"fruit\", \"color\"], outputCols=[\"color_index\",\n",
    "                                                                  \"fruit_index\"])\n",
    "indexed = indexer.fit(df).transform(df)\n",
    "indexed.show()"
   ]
  }
 ],
 "metadata": {
  "kernelspec": {
   "display_name": "Python 3",
   "language": "python",
   "name": "python3"
  },
  "language_info": {
   "codemirror_mode": {
    "name": "ipython",
    "version": 3
   },
   "file_extension": ".py",
   "mimetype": "text/x-python",
   "name": "python",
   "nbconvert_exporter": "python",
   "pygments_lexer": "ipython3",
   "version": "3.8.3"
  }
 },
 "nbformat": 4,
 "nbformat_minor": 4
}
