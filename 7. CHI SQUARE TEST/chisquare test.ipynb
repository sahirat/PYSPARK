{
 "cells": [
  {
   "cell_type": "markdown",
   "metadata": {},
   "source": [
    "The Chi-Square test is a statistical procedure for determining the difference between observed and expected data. This test can also be used to decide whether it correlates to our data's categorical variables. It helps to determine whether a difference between two categorical variables is due to chance or a relationship between them."
   ]
  },
  {
   "cell_type": "code",
   "execution_count": 1,
   "metadata": {},
   "outputs": [],
   "source": [
    "from pyspark.sql import SparkSession\n",
    "from pyspark.ml.feature import VectorAssembler\n",
    "from pyspark.ml.stat import ChiSquareTest"
   ]
  },
  {
   "cell_type": "code",
   "execution_count": 2,
   "metadata": {},
   "outputs": [],
   "source": [
    "spark = SparkSession.builder.getOrCreate()"
   ]
  },
  {
   "cell_type": "code",
   "execution_count": 3,
   "metadata": {},
   "outputs": [],
   "source": [
    "df = spark.read.csv(\"sample_data.csv\", inferSchema=True,\n",
    "                   header=True)"
   ]
  },
  {
   "cell_type": "code",
   "execution_count": 4,
   "metadata": {},
   "outputs": [
    {
     "name": "stdout",
     "output_type": "stream",
     "text": [
      "+---+---------+------------+-----+\n",
      "|age|city_code|country_code|label|\n",
      "+---+---------+------------+-----+\n",
      "| 51|       35|          14|    0|\n",
      "| 49|        3|          14|    0|\n",
      "| 47|       32|          13|    0|\n",
      "| 46|       31|          15|    0|\n",
      "|  5|       36|          14|    0|\n",
      "| 54|       39|          17|    0|\n",
      "| 46|       34|          14|    0|\n",
      "|  5|       34|          15|    0|\n",
      "| 44|       29|          14|    0|\n",
      "| 49|       31|          15|    0|\n",
      "| 54|       37|          15|    0|\n",
      "| 48|       34|          16|    0|\n",
      "| 48|        3|          14|    0|\n",
      "| 43|        3|          11|    0|\n",
      "| 58|        4|          12|    0|\n",
      "| 57|       44|          15|    0|\n",
      "| 54|       39|          13|    0|\n",
      "| 51|       35|          14|    0|\n",
      "| 57|       38|          17|    0|\n",
      "| 51|       38|          15|    0|\n",
      "+---+---------+------------+-----+\n",
      "only showing top 20 rows\n",
      "\n"
     ]
    }
   ],
   "source": [
    "df.show()"
   ]
  },
  {
   "cell_type": "code",
   "execution_count": 5,
   "metadata": {},
   "outputs": [
    {
     "data": {
      "text/plain": [
       "150"
      ]
     },
     "execution_count": 5,
     "metadata": {},
     "output_type": "execute_result"
    }
   ],
   "source": [
    "df.count()"
   ]
  },
  {
   "cell_type": "code",
   "execution_count": 6,
   "metadata": {},
   "outputs": [
    {
     "data": {
      "text/plain": [
       "['age', 'city_code', 'country_code', 'label']"
      ]
     },
     "execution_count": 6,
     "metadata": {},
     "output_type": "execute_result"
    }
   ],
   "source": [
    "df.columns"
   ]
  },
  {
   "cell_type": "code",
   "execution_count": 7,
   "metadata": {},
   "outputs": [
    {
     "name": "stdout",
     "output_type": "stream",
     "text": [
      "root\n",
      " |-- age: integer (nullable = true)\n",
      " |-- city_code: integer (nullable = true)\n",
      " |-- country_code: integer (nullable = true)\n",
      " |-- label: integer (nullable = true)\n",
      "\n"
     ]
    }
   ],
   "source": [
    "df.printSchema()"
   ]
  },
  {
   "cell_type": "code",
   "execution_count": 8,
   "metadata": {},
   "outputs": [],
   "source": [
    "assembler = VectorAssembler(\n",
    "    inputCols=['age', 'city_code', 'country_code'],\n",
    "    outputCol=\"vector_features\")"
   ]
  },
  {
   "cell_type": "code",
   "execution_count": 9,
   "metadata": {},
   "outputs": [],
   "source": [
    "vectorized_df = assembler.transform(df).select('label', 'vector_features')"
   ]
  },
  {
   "cell_type": "code",
   "execution_count": 10,
   "metadata": {
    "scrolled": false
   },
   "outputs": [
    {
     "name": "stdout",
     "output_type": "stream",
     "text": [
      "+-----+----------------+\n",
      "|label| vector_features|\n",
      "+-----+----------------+\n",
      "|    0|[51.0,35.0,14.0]|\n",
      "|    0| [49.0,3.0,14.0]|\n",
      "|    0|[47.0,32.0,13.0]|\n",
      "|    0|[46.0,31.0,15.0]|\n",
      "|    0| [5.0,36.0,14.0]|\n",
      "|    0|[54.0,39.0,17.0]|\n",
      "|    0|[46.0,34.0,14.0]|\n",
      "|    0| [5.0,34.0,15.0]|\n",
      "|    0|[44.0,29.0,14.0]|\n",
      "|    0|[49.0,31.0,15.0]|\n",
      "|    0|[54.0,37.0,15.0]|\n",
      "|    0|[48.0,34.0,16.0]|\n",
      "|    0| [48.0,3.0,14.0]|\n",
      "|    0| [43.0,3.0,11.0]|\n",
      "|    0| [58.0,4.0,12.0]|\n",
      "|    0|[57.0,44.0,15.0]|\n",
      "|    0|[54.0,39.0,13.0]|\n",
      "|    0|[51.0,35.0,14.0]|\n",
      "|    0|[57.0,38.0,17.0]|\n",
      "|    0|[51.0,38.0,15.0]|\n",
      "+-----+----------------+\n",
      "only showing top 20 rows\n",
      "\n"
     ]
    }
   ],
   "source": [
    "vectorized_df.show()"
   ]
  },
  {
   "cell_type": "code",
   "execution_count": 11,
   "metadata": {},
   "outputs": [],
   "source": [
    "result= ChiSquareTest.test(vectorized_df, \"vector_features\", \"label\").head()"
   ]
  },
  {
   "cell_type": "code",
   "execution_count": 14,
   "metadata": {},
   "outputs": [
    {
     "name": "stdout",
     "output_type": "stream",
     "text": [
      "pvalues: [0.053548382417787366,0.007494454436545395,9.393896771570098e-11]\n"
     ]
    }
   ],
   "source": [
    "print(\"pvalues: \" + str(result.pValues))"
   ]
  },
  {
   "cell_type": "code",
   "execution_count": 15,
   "metadata": {},
   "outputs": [
    {
     "name": "stdout",
     "output_type": "stream",
     "text": [
      "degreesOfFreedom: [34, 22, 42]\n"
     ]
    }
   ],
   "source": [
    "print(\"degreesOfFreedom: \" + str(result.degreesOfFreedom))"
   ]
  },
  {
   "cell_type": "code",
   "execution_count": 16,
   "metadata": {},
   "outputs": [
    {
     "name": "stdout",
     "output_type": "stream",
     "text": [
      "test statistics: [48.25357142857142,41.345554445554455,128.85000000000002]\n"
     ]
    }
   ],
   "source": [
    "print(\"test statistics: \" + str(result.statistics))"
   ]
  },
  {
   "cell_type": "code",
   "execution_count": null,
   "metadata": {},
   "outputs": [],
   "source": []
  }
 ],
 "metadata": {
  "kernelspec": {
   "display_name": "Python 3",
   "language": "python",
   "name": "python3"
  },
  "language_info": {
   "codemirror_mode": {
    "name": "ipython",
    "version": 3
   },
   "file_extension": ".py",
   "mimetype": "text/x-python",
   "name": "python",
   "nbconvert_exporter": "python",
   "pygments_lexer": "ipython3",
   "version": "3.8.3"
  }
 },
 "nbformat": 4,
 "nbformat_minor": 4
}
