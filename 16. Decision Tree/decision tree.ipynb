{
 "cells": [
  {
   "cell_type": "code",
   "execution_count": 1,
   "metadata": {},
   "outputs": [],
   "source": [
    "from pyspark.sql import SparkSession\n",
    "from pyspark.ml.stat import Correlation\n",
    "import pyspark.sql.functions as F"
   ]
  },
  {
   "cell_type": "code",
   "execution_count": 2,
   "metadata": {},
   "outputs": [],
   "source": [
    "spark = SparkSession.builder.getOrCreate()"
   ]
  },
  {
   "cell_type": "code",
   "execution_count": 3,
   "metadata": {},
   "outputs": [],
   "source": [
    "df = spark.read.csv(\"iris_dt.csv\", inferSchema=True,\n",
    "                   header=True)"
   ]
  },
  {
   "cell_type": "code",
   "execution_count": 4,
   "metadata": {},
   "outputs": [
    {
     "name": "stdout",
     "output_type": "stream",
     "text": [
      "+------------+-----------+------------+-----------+-------+\n",
      "|sepal_length|sepal_width|petal_length|petal_width|species|\n",
      "+------------+-----------+------------+-----------+-------+\n",
      "|         5.1|        3.5|         1.4|        0.2|      0|\n",
      "|         4.9|        3.0|         1.4|        0.2|      0|\n",
      "|         4.7|        3.2|         1.3|        0.2|      0|\n",
      "|         4.6|        3.1|         1.5|        0.2|      0|\n",
      "|         5.0|        3.6|         1.4|        0.2|      0|\n",
      "|         5.4|        3.9|         1.7|        0.4|      0|\n",
      "|         4.6|        3.4|         1.4|        0.3|      0|\n",
      "|         5.0|        3.4|         1.5|        0.2|      0|\n",
      "|         4.4|        2.9|         1.4|        0.2|      0|\n",
      "|         4.9|        3.1|         1.5|        0.1|      0|\n",
      "|         5.4|        3.7|         1.5|        0.2|      0|\n",
      "|         4.8|        3.4|         1.6|        0.2|      0|\n",
      "|         4.8|        3.0|         1.4|        0.1|      0|\n",
      "|         4.3|        3.0|         1.1|        0.1|      0|\n",
      "|         5.8|        4.0|         1.2|        0.2|      0|\n",
      "|         5.7|        4.4|         1.5|        0.4|      0|\n",
      "|         5.4|        3.9|         1.3|        0.4|      0|\n",
      "|         5.1|        3.5|         1.4|        0.3|      0|\n",
      "|         5.7|        3.8|         1.7|        0.3|      0|\n",
      "|         5.1|        3.8|         1.5|        0.3|      0|\n",
      "+------------+-----------+------------+-----------+-------+\n",
      "only showing top 20 rows\n",
      "\n"
     ]
    }
   ],
   "source": [
    "df.show()"
   ]
  },
  {
   "cell_type": "code",
   "execution_count": 5,
   "metadata": {},
   "outputs": [
    {
     "name": "stdout",
     "output_type": "stream",
     "text": [
      "+-------+\n",
      "|species|\n",
      "+-------+\n",
      "|      0|\n",
      "|      0|\n",
      "|      0|\n",
      "|      0|\n",
      "|      0|\n",
      "|      0|\n",
      "|      0|\n",
      "|      0|\n",
      "|      0|\n",
      "|      0|\n",
      "|      0|\n",
      "|      0|\n",
      "|      0|\n",
      "|      0|\n",
      "|      0|\n",
      "|      0|\n",
      "|      0|\n",
      "|      0|\n",
      "|      0|\n",
      "|      0|\n",
      "+-------+\n",
      "only showing top 20 rows\n",
      "\n"
     ]
    }
   ],
   "source": [
    "df.select(\"species\").show()"
   ]
  },
  {
   "cell_type": "code",
   "execution_count": 6,
   "metadata": {},
   "outputs": [
    {
     "data": {
      "text/plain": [
       "150"
      ]
     },
     "execution_count": 6,
     "metadata": {},
     "output_type": "execute_result"
    }
   ],
   "source": [
    "df.count()"
   ]
  },
  {
   "cell_type": "code",
   "execution_count": 7,
   "metadata": {},
   "outputs": [
    {
     "data": {
      "text/plain": [
       "5"
      ]
     },
     "execution_count": 7,
     "metadata": {},
     "output_type": "execute_result"
    }
   ],
   "source": [
    "len(df.columns)"
   ]
  },
  {
   "cell_type": "code",
   "execution_count": 8,
   "metadata": {},
   "outputs": [
    {
     "name": "stdout",
     "output_type": "stream",
     "text": [
      "root\n",
      " |-- sepal_length: double (nullable = true)\n",
      " |-- sepal_width: double (nullable = true)\n",
      " |-- petal_length: double (nullable = true)\n",
      " |-- petal_width: double (nullable = true)\n",
      " |-- species: integer (nullable = true)\n",
      "\n"
     ]
    }
   ],
   "source": [
    "df.printSchema()"
   ]
  },
  {
   "cell_type": "code",
   "execution_count": 9,
   "metadata": {},
   "outputs": [
    {
     "name": "stdout",
     "output_type": "stream",
     "text": [
      "+-------+------------------+-------------------+------------------+------------------+------------------+\n",
      "|summary|      sepal_length|        sepal_width|      petal_length|       petal_width|           species|\n",
      "+-------+------------------+-------------------+------------------+------------------+------------------+\n",
      "|  count|               150|                150|               150|               150|               150|\n",
      "|   mean| 5.843333333333335|  3.057333333333334|3.7580000000000027| 1.199333333333334|               1.0|\n",
      "| stddev|0.8280661279778637|0.43586628493669793|1.7652982332594662|0.7622376689603467|0.8192319205190406|\n",
      "|    min|               4.3|                2.0|               1.0|               0.1|                 0|\n",
      "|    max|               7.9|                4.4|               6.9|               2.5|                 2|\n",
      "+-------+------------------+-------------------+------------------+------------------+------------------+\n",
      "\n"
     ]
    }
   ],
   "source": [
    "df.describe().show()"
   ]
  },
  {
   "cell_type": "code",
   "execution_count": 10,
   "metadata": {},
   "outputs": [
    {
     "data": {
      "text/plain": [
       "[Row(sepal_length=5.1, sepal_width=3.5, petal_length=1.4, petal_width=0.2, species=0),\n",
       " Row(sepal_length=4.9, sepal_width=3.0, petal_length=1.4, petal_width=0.2, species=0),\n",
       " Row(sepal_length=4.7, sepal_width=3.2, petal_length=1.3, petal_width=0.2, species=0),\n",
       " Row(sepal_length=4.6, sepal_width=3.1, petal_length=1.5, petal_width=0.2, species=0),\n",
       " Row(sepal_length=5.0, sepal_width=3.6, petal_length=1.4, petal_width=0.2, species=0)]"
      ]
     },
     "execution_count": 10,
     "metadata": {},
     "output_type": "execute_result"
    }
   ],
   "source": [
    "df.head(5)"
   ]
  },
  {
   "cell_type": "code",
   "execution_count": 11,
   "metadata": {},
   "outputs": [
    {
     "name": "stdout",
     "output_type": "stream",
     "text": [
      "+-------+-----+\n",
      "|species|count|\n",
      "+-------+-----+\n",
      "|      1|   50|\n",
      "|      2|   50|\n",
      "|      0|   50|\n",
      "+-------+-----+\n",
      "\n"
     ]
    }
   ],
   "source": [
    "df.groupBy('species').count().show()"
   ]
  },
  {
   "cell_type": "code",
   "execution_count": 12,
   "metadata": {},
   "outputs": [
    {
     "name": "stdout",
     "output_type": "stream",
     "text": [
      "+------------+-----+\n",
      "|sepal_length|count|\n",
      "+------------+-----+\n",
      "|         5.4|    6|\n",
      "|         7.0|    1|\n",
      "|         6.1|    6|\n",
      "|         7.7|    4|\n",
      "|         6.6|    2|\n",
      "|         4.5|    1|\n",
      "|         5.7|    8|\n",
      "|         6.7|    8|\n",
      "|         7.4|    1|\n",
      "|         6.5|    5|\n",
      "|         4.9|    6|\n",
      "|         6.2|    4|\n",
      "|         5.1|    9|\n",
      "|         7.3|    1|\n",
      "|         4.3|    1|\n",
      "|         7.9|    1|\n",
      "|         4.7|    2|\n",
      "|         5.3|    1|\n",
      "|         7.2|    3|\n",
      "|         7.6|    1|\n",
      "+------------+-----+\n",
      "only showing top 20 rows\n",
      "\n"
     ]
    }
   ],
   "source": [
    "df.groupBy('sepal_length').count().show()"
   ]
  },
  {
   "cell_type": "code",
   "execution_count": 13,
   "metadata": {},
   "outputs": [],
   "source": [
    "from pyspark.ml.feature import VectorAssembler"
   ]
  },
  {
   "cell_type": "code",
   "execution_count": 14,
   "metadata": {},
   "outputs": [
    {
     "data": {
      "text/plain": [
       "['sepal_length', 'sepal_width', 'petal_length', 'petal_width', 'species']"
      ]
     },
     "execution_count": 14,
     "metadata": {},
     "output_type": "execute_result"
    }
   ],
   "source": [
    "df.columns"
   ]
  },
  {
   "cell_type": "code",
   "execution_count": 15,
   "metadata": {},
   "outputs": [],
   "source": [
    "assembler= VectorAssembler(inputCols=['sepal_length', 'sepal_width', 'petal_length', 'petal_width'],\n",
    "                           outputCol='features')"
   ]
  },
  {
   "cell_type": "code",
   "execution_count": 16,
   "metadata": {},
   "outputs": [
    {
     "data": {
      "text/plain": [
       "VectorAssembler_2cdee12c0324"
      ]
     },
     "execution_count": 16,
     "metadata": {},
     "output_type": "execute_result"
    }
   ],
   "source": [
    "assembler"
   ]
  },
  {
   "cell_type": "code",
   "execution_count": 17,
   "metadata": {},
   "outputs": [],
   "source": [
    "output= assembler.transform(df)"
   ]
  },
  {
   "cell_type": "code",
   "execution_count": 18,
   "metadata": {},
   "outputs": [
    {
     "data": {
      "text/plain": [
       "DataFrame[sepal_length: double, sepal_width: double, petal_length: double, petal_width: double, species: int, features: vector]"
      ]
     },
     "execution_count": 18,
     "metadata": {},
     "output_type": "execute_result"
    }
   ],
   "source": [
    "output"
   ]
  },
  {
   "cell_type": "code",
   "execution_count": 19,
   "metadata": {},
   "outputs": [
    {
     "name": "stdout",
     "output_type": "stream",
     "text": [
      "+-----------------+-------+\n",
      "|         features|species|\n",
      "+-----------------+-------+\n",
      "|[5.1,3.5,1.4,0.2]|      0|\n",
      "|[4.9,3.0,1.4,0.2]|      0|\n",
      "|[4.7,3.2,1.3,0.2]|      0|\n",
      "|[4.6,3.1,1.5,0.2]|      0|\n",
      "|[5.0,3.6,1.4,0.2]|      0|\n",
      "+-----------------+-------+\n",
      "only showing top 5 rows\n",
      "\n"
     ]
    }
   ],
   "source": [
    "output.select('features','species').show(5)"
   ]
  },
  {
   "cell_type": "code",
   "execution_count": 20,
   "metadata": {},
   "outputs": [
    {
     "data": {
      "text/plain": [
       "['sepal_length', 'sepal_width', 'petal_length', 'petal_width', 'species']"
      ]
     },
     "execution_count": 20,
     "metadata": {},
     "output_type": "execute_result"
    }
   ],
   "source": [
    "df.columns"
   ]
  },
  {
   "cell_type": "code",
   "execution_count": 21,
   "metadata": {},
   "outputs": [],
   "source": [
    "model_df=output.select(['features','species'])"
   ]
  },
  {
   "cell_type": "code",
   "execution_count": 22,
   "metadata": {},
   "outputs": [],
   "source": [
    "training_df,test_df=model_df.randomSplit([0.70,0.30])"
   ]
  },
  {
   "cell_type": "code",
   "execution_count": 23,
   "metadata": {},
   "outputs": [
    {
     "name": "stdout",
     "output_type": "stream",
     "text": [
      "101\n"
     ]
    }
   ],
   "source": [
    "print(training_df.count())"
   ]
  },
  {
   "cell_type": "code",
   "execution_count": 24,
   "metadata": {},
   "outputs": [
    {
     "name": "stdout",
     "output_type": "stream",
     "text": [
      "49\n"
     ]
    }
   ],
   "source": [
    "print(test_df.count())"
   ]
  },
  {
   "cell_type": "code",
   "execution_count": 25,
   "metadata": {},
   "outputs": [],
   "source": [
    "from pyspark.ml.classification import DecisionTreeClassifier"
   ]
  },
  {
   "cell_type": "code",
   "execution_count": 26,
   "metadata": {},
   "outputs": [],
   "source": [
    "df_classifier=DecisionTreeClassifier(labelCol='species').fit(training_df)"
   ]
  },
  {
   "cell_type": "code",
   "execution_count": 27,
   "metadata": {},
   "outputs": [],
   "source": [
    "# training results\n",
    "df_predictions=df_classifier.transform(test_df)"
   ]
  },
  {
   "cell_type": "code",
   "execution_count": 28,
   "metadata": {},
   "outputs": [
    {
     "name": "stdout",
     "output_type": "stream",
     "text": [
      "+-----------------+-------+--------------+-------------+----------+\n",
      "|         features|species| rawPrediction|  probability|prediction|\n",
      "+-----------------+-------+--------------+-------------+----------+\n",
      "|[4.3,3.0,1.1,0.1]|      0|[36.0,0.0,0.0]|[1.0,0.0,0.0]|       0.0|\n",
      "|[4.4,3.2,1.3,0.2]|      0|[36.0,0.0,0.0]|[1.0,0.0,0.0]|       0.0|\n",
      "|[4.7,3.2,1.3,0.2]|      0|[36.0,0.0,0.0]|[1.0,0.0,0.0]|       0.0|\n",
      "|[4.8,3.0,1.4,0.1]|      0|[36.0,0.0,0.0]|[1.0,0.0,0.0]|       0.0|\n",
      "|[4.8,3.1,1.6,0.2]|      0|[36.0,0.0,0.0]|[1.0,0.0,0.0]|       0.0|\n",
      "|[4.8,3.4,1.6,0.2]|      0|[36.0,0.0,0.0]|[1.0,0.0,0.0]|       0.0|\n",
      "|[4.9,2.4,3.3,1.0]|      1|[0.0,31.0,0.0]|[0.0,1.0,0.0]|       1.0|\n",
      "|[4.9,2.5,4.5,1.7]|      2|[0.0,31.0,0.0]|[0.0,1.0,0.0]|       1.0|\n",
      "|[4.9,3.1,1.5,0.2]|      0|[36.0,0.0,0.0]|[1.0,0.0,0.0]|       0.0|\n",
      "|[5.0,2.0,3.5,1.0]|      1|[0.0,31.0,0.0]|[0.0,1.0,0.0]|       1.0|\n",
      "|[5.0,3.0,1.6,0.2]|      0|[36.0,0.0,0.0]|[1.0,0.0,0.0]|       0.0|\n",
      "|[5.1,3.5,1.4,0.2]|      0|[36.0,0.0,0.0]|[1.0,0.0,0.0]|       0.0|\n",
      "|[5.1,3.8,1.9,0.4]|      0|[36.0,0.0,0.0]|[1.0,0.0,0.0]|       0.0|\n",
      "|[5.4,3.0,4.5,1.5]|      1|[0.0,31.0,0.0]|[0.0,1.0,0.0]|       1.0|\n",
      "|[5.4,3.4,1.5,0.4]|      0|[36.0,0.0,0.0]|[1.0,0.0,0.0]|       0.0|\n",
      "|[5.5,2.3,4.0,1.3]|      1|[0.0,31.0,0.0]|[0.0,1.0,0.0]|       1.0|\n",
      "|[5.5,3.5,1.3,0.2]|      0|[36.0,0.0,0.0]|[1.0,0.0,0.0]|       0.0|\n",
      "|[5.5,4.2,1.4,0.2]|      0|[36.0,0.0,0.0]|[1.0,0.0,0.0]|       0.0|\n",
      "|[5.6,2.8,4.9,2.0]|      2|[0.0,0.0,28.0]|[0.0,0.0,1.0]|       2.0|\n",
      "|[5.6,3.0,4.1,1.3]|      1|[0.0,31.0,0.0]|[0.0,1.0,0.0]|       1.0|\n",
      "+-----------------+-------+--------------+-------------+----------+\n",
      "only showing top 20 rows\n",
      "\n"
     ]
    }
   ],
   "source": [
    "df_predictions.show()"
   ]
  },
  {
   "cell_type": "code",
   "execution_count": 29,
   "metadata": {},
   "outputs": [
    {
     "name": "stdout",
     "output_type": "stream",
     "text": [
      "+----------+-----+\n",
      "|prediction|count|\n",
      "+----------+-----+\n",
      "|       0.0|   14|\n",
      "|       1.0|   17|\n",
      "|       2.0|   18|\n",
      "+----------+-----+\n",
      "\n"
     ]
    }
   ],
   "source": [
    "df_predictions.groupBy('prediction').count().show()"
   ]
  },
  {
   "cell_type": "code",
   "execution_count": 30,
   "metadata": {},
   "outputs": [],
   "source": [
    "from pyspark.ml.evaluation import MulticlassClassificationEvaluator\n",
    "from pyspark.ml.evaluation import BinaryClassificationEvaluator"
   ]
  },
  {
   "cell_type": "code",
   "execution_count": 31,
   "metadata": {},
   "outputs": [],
   "source": [
    "df_accuracy=MulticlassClassificationEvaluator(labelCol='species',\n",
    "                                              metricName='accuracy').evaluate(df_predictions)"
   ]
  },
  {
   "cell_type": "code",
   "execution_count": 32,
   "metadata": {},
   "outputs": [
    {
     "name": "stdout",
     "output_type": "stream",
     "text": [
      "0.9591836734693877\n"
     ]
    }
   ],
   "source": [
    "print(df_accuracy)"
   ]
  },
  {
   "cell_type": "code",
   "execution_count": 33,
   "metadata": {},
   "outputs": [],
   "source": [
    "#precision\n",
    "df_precision=MulticlassClassificationEvaluator(labelCol='species',metricName='weightedPrecision').evaluate(df_predictions)"
   ]
  },
  {
   "cell_type": "code",
   "execution_count": 34,
   "metadata": {},
   "outputs": [
    {
     "name": "stdout",
     "output_type": "stream",
     "text": [
      "0.9591836734693877\n"
     ]
    }
   ],
   "source": [
    "print(df_precision)"
   ]
  },
  {
   "cell_type": "code",
   "execution_count": 40,
   "metadata": {},
   "outputs": [],
   "source": [
    "df_auc=MulticlassClassificationEvaluator(labelCol='species').evaluate(df_predictions)"
   ]
  },
  {
   "cell_type": "code",
   "execution_count": 41,
   "metadata": {},
   "outputs": [
    {
     "name": "stdout",
     "output_type": "stream",
     "text": [
      "0.9591836734693877\n"
     ]
    }
   ],
   "source": [
    "print(df_auc)"
   ]
  },
  {
   "cell_type": "code",
   "execution_count": null,
   "metadata": {},
   "outputs": [],
   "source": [
    "# feature importance\n",
    "df_classifier.featureImportances"
   ]
  },
  {
   "cell_type": "code",
   "execution_count": null,
   "metadata": {},
   "outputs": [],
   "source": []
  }
 ],
 "metadata": {
  "kernelspec": {
   "display_name": "Python 3",
   "language": "python",
   "name": "python3"
  },
  "language_info": {
   "codemirror_mode": {
    "name": "ipython",
    "version": 3
   },
   "file_extension": ".py",
   "mimetype": "text/x-python",
   "name": "python",
   "nbconvert_exporter": "python",
   "pygments_lexer": "ipython3",
   "version": "3.8.3"
  }
 },
 "nbformat": 4,
 "nbformat_minor": 4
}
