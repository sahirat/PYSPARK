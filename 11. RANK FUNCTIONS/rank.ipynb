{
 "cells": [
  {
   "cell_type": "markdown",
   "metadata": {},
   "source": [
    "# Window Function (PySpark)"
   ]
  },
  {
   "cell_type": "code",
   "execution_count": 1,
   "metadata": {},
   "outputs": [],
   "source": [
    "from pyspark.sql import SparkSession\n",
    "import pyspark.sql.functions as F\n",
    "from pyspark.sql import Window"
   ]
  },
  {
   "cell_type": "code",
   "execution_count": 2,
   "metadata": {},
   "outputs": [],
   "source": [
    "spark = SparkSession.builder.getOrCreate()"
   ]
  },
  {
   "cell_type": "code",
   "execution_count": 13,
   "metadata": {},
   "outputs": [],
   "source": [
    "df = spark.read.csv(\"emp.csv\", inferSchema=True,\n",
    "                   header=True)"
   ]
  },
  {
   "cell_type": "code",
   "execution_count": 14,
   "metadata": {},
   "outputs": [
    {
     "name": "stdout",
     "output_type": "stream",
     "text": [
      "+----+--------+--------+\n",
      "|year|    dept|  salary|\n",
      "+----+--------+--------+\n",
      "|2004|      IT| 3324172|\n",
      "|2004|      IT| 3324172|\n",
      "|2004|Accounts| 4409580|\n",
      "|2004|      HR|  211648|\n",
      "|2004|   Sales|  902053|\n",
      "|2004|      IT| 1005417|\n",
      "|2004|Accounts|    3645|\n",
      "|2005|      IT| 2974005|\n",
      "|2005|      IT| 2974005|\n",
      "|2005|Accounts| 4239440|\n",
      "|2005|      HR|  114120|\n",
      "|2005|   Sales| 1215112|\n",
      "|2005|      IT|  773217|\n",
      "|2005|Accounts|    3101|\n",
      "|2006|      IT| 3285138|\n",
      "|2006|      IT|65932248|\n",
      "|2006|Accounts|    3642|\n",
      "|2006|      HR|   67236|\n",
      "|2006|   Sales|  836424|\n",
      "|2006|      IT| 1095922|\n",
      "+----+--------+--------+\n",
      "only showing top 20 rows\n",
      "\n"
     ]
    }
   ],
   "source": [
    "df.show()"
   ]
  },
  {
   "cell_type": "code",
   "execution_count": 15,
   "metadata": {},
   "outputs": [
    {
     "data": {
      "text/plain": [
       "119"
      ]
     },
     "execution_count": 15,
     "metadata": {},
     "output_type": "execute_result"
    }
   ],
   "source": [
    "df.count()"
   ]
  },
  {
   "cell_type": "code",
   "execution_count": 16,
   "metadata": {},
   "outputs": [],
   "source": [
    "windowSpec  = Window.partitionBy(\"dept\").orderBy(\"salary\")"
   ]
  },
  {
   "cell_type": "code",
   "execution_count": 17,
   "metadata": {},
   "outputs": [
    {
     "name": "stdout",
     "output_type": "stream",
     "text": [
      "+----+-----+-------+----+\n",
      "|year| dept| salary|rank|\n",
      "+----+-----+-------+----+\n",
      "|2015|Sales| 164874|   1|\n",
      "|2016|Sales| 164874|   1|\n",
      "|2014|Sales| 170952|   3|\n",
      "|2019|Sales| 192922|   4|\n",
      "|2020|Sales| 192922|   4|\n",
      "|2018|Sales| 196338|   6|\n",
      "|2017|Sales| 203907|   7|\n",
      "|2010|Sales| 211866|   8|\n",
      "|2013|Sales| 217037|   9|\n",
      "|2012|Sales| 257114|  10|\n",
      "|2011|Sales| 285572|  11|\n",
      "|2007|Sales| 772173|  12|\n",
      "|2008|Sales| 772173|  12|\n",
      "|2009|Sales| 772173|  12|\n",
      "|2006|Sales| 836424|  15|\n",
      "|2004|Sales| 902053|  16|\n",
      "|2005|Sales|1215112|  17|\n",
      "|2017|   HR|  51834|   1|\n",
      "|2018|   HR|  51834|   1|\n",
      "|2020|   HR|  53407|   3|\n",
      "+----+-----+-------+----+\n",
      "only showing top 20 rows\n",
      "\n"
     ]
    }
   ],
   "source": [
    "df.withColumn(\"rank\",F.rank().over(windowSpec)) \\\n",
    "    .show()"
   ]
  },
  {
   "cell_type": "code",
   "execution_count": 18,
   "metadata": {},
   "outputs": [
    {
     "name": "stdout",
     "output_type": "stream",
     "text": [
      "+----+-----+-------+----------+\n",
      "|year| dept| salary|dense_rank|\n",
      "+----+-----+-------+----------+\n",
      "|2015|Sales| 164874|         1|\n",
      "|2016|Sales| 164874|         1|\n",
      "|2014|Sales| 170952|         2|\n",
      "|2019|Sales| 192922|         3|\n",
      "|2020|Sales| 192922|         3|\n",
      "|2018|Sales| 196338|         4|\n",
      "|2017|Sales| 203907|         5|\n",
      "|2010|Sales| 211866|         6|\n",
      "|2013|Sales| 217037|         7|\n",
      "|2012|Sales| 257114|         8|\n",
      "|2011|Sales| 285572|         9|\n",
      "|2007|Sales| 772173|        10|\n",
      "|2008|Sales| 772173|        10|\n",
      "|2009|Sales| 772173|        10|\n",
      "|2006|Sales| 836424|        11|\n",
      "|2004|Sales| 902053|        12|\n",
      "|2005|Sales|1215112|        13|\n",
      "|2017|   HR|  51834|         1|\n",
      "|2018|   HR|  51834|         1|\n",
      "|2020|   HR|  53407|         2|\n",
      "+----+-----+-------+----------+\n",
      "only showing top 20 rows\n",
      "\n"
     ]
    }
   ],
   "source": [
    "df.withColumn(\"dense_rank\",F.dense_rank().over(windowSpec)) \\\n",
    "    .show()"
   ]
  },
  {
   "cell_type": "code",
   "execution_count": 19,
   "metadata": {},
   "outputs": [
    {
     "name": "stdout",
     "output_type": "stream",
     "text": [
      "+----+-----+-------+------------+\n",
      "|year| dept| salary|percent_rank|\n",
      "+----+-----+-------+------------+\n",
      "|2015|Sales| 164874|         0.0|\n",
      "|2016|Sales| 164874|         0.0|\n",
      "|2014|Sales| 170952|       0.125|\n",
      "|2019|Sales| 192922|      0.1875|\n",
      "|2020|Sales| 192922|      0.1875|\n",
      "|2018|Sales| 196338|      0.3125|\n",
      "|2017|Sales| 203907|       0.375|\n",
      "|2010|Sales| 211866|      0.4375|\n",
      "|2013|Sales| 217037|         0.5|\n",
      "|2012|Sales| 257114|      0.5625|\n",
      "|2011|Sales| 285572|       0.625|\n",
      "|2007|Sales| 772173|      0.6875|\n",
      "|2008|Sales| 772173|      0.6875|\n",
      "|2009|Sales| 772173|      0.6875|\n",
      "|2006|Sales| 836424|       0.875|\n",
      "|2004|Sales| 902053|      0.9375|\n",
      "|2005|Sales|1215112|         1.0|\n",
      "|2017|   HR|  51834|         0.0|\n",
      "|2018|   HR|  51834|         0.0|\n",
      "|2020|   HR|  53407|       0.125|\n",
      "+----+-----+-------+------------+\n",
      "only showing top 20 rows\n",
      "\n"
     ]
    }
   ],
   "source": [
    "df.withColumn(\"percent_rank\",F.percent_rank().over(windowSpec)) \\\n",
    "    .show()"
   ]
  }
 ],
 "metadata": {
  "kernelspec": {
   "display_name": "Python 3",
   "language": "python",
   "name": "python3"
  },
  "language_info": {
   "codemirror_mode": {
    "name": "ipython",
    "version": 3
   },
   "file_extension": ".py",
   "mimetype": "text/x-python",
   "name": "python",
   "nbconvert_exporter": "python",
   "pygments_lexer": "ipython3",
   "version": "3.8.3"
  }
 },
 "nbformat": 4,
 "nbformat_minor": 4
}
