{
 "cells": [
  {
   "cell_type": "code",
   "execution_count": 1,
   "metadata": {},
   "outputs": [],
   "source": [
    "from pyspark.sql import SparkSession\n",
    "from pyspark.ml.stat import Correlation\n",
    "import pyspark.sql.functions as F"
   ]
  },
  {
   "cell_type": "code",
   "execution_count": 2,
   "metadata": {},
   "outputs": [],
   "source": [
    "spark = SparkSession.builder.getOrCreate()"
   ]
  },
  {
   "cell_type": "code",
   "execution_count": 3,
   "metadata": {},
   "outputs": [],
   "source": [
    "df = spark.read.csv(\"heart.csv\", inferSchema=True,\n",
    "                   header=True)"
   ]
  },
  {
   "cell_type": "code",
   "execution_count": 4,
   "metadata": {},
   "outputs": [
    {
     "name": "stdout",
     "output_type": "stream",
     "text": [
      "+---+------+-------------+---------+-----------+---------+----------+-----+--------------+-------+--------+------------+\n",
      "|Age|Gender|ChestPainType|RestingBP|Cholesterol|FastingBS|RestingECG|MaxHR|ExerciseAngina|Oldpeak|ST_Slope|HeartDisease|\n",
      "+---+------+-------------+---------+-----------+---------+----------+-----+--------------+-------+--------+------------+\n",
      "| 40|     M|          ATA|      140|        289|        0|    Normal|  172|             N|    0.0|      Up|           0|\n",
      "| 49|     F|          NAP|      160|        180|        0|    Normal|  156|             N|    1.0|    Flat|           1|\n",
      "| 37|     M|          ATA|      130|        283|        0|        ST|   98|             N|    0.0|      Up|           0|\n",
      "| 48|     F|          ASY|      138|        214|        0|    Normal|  108|             Y|    1.5|    Flat|           1|\n",
      "| 54|     M|          NAP|      150|        195|        0|    Normal|  122|             N|    0.0|      Up|           0|\n",
      "| 39|     M|          NAP|      120|        339|        0|    Normal|  170|             N|    0.0|      Up|           0|\n",
      "| 45|     F|          ATA|      130|        237|        0|    Normal|  170|             N|    0.0|      Up|           0|\n",
      "| 54|     M|          ATA|      110|        208|        0|    Normal|  142|             N|    0.0|      Up|           0|\n",
      "| 37|     M|          ASY|      140|        207|        0|    Normal|  130|             Y|    1.5|    Flat|           1|\n",
      "| 48|     F|          ATA|      120|        284|        0|    Normal|  120|             N|    0.0|      Up|           0|\n",
      "| 37|     F|          NAP|      130|        211|        0|    Normal|  142|             N|    0.0|      Up|           0|\n",
      "| 58|     M|          ATA|      136|        164|        0|        ST|   99|             Y|    2.0|    Flat|           1|\n",
      "| 39|     M|          ATA|      120|        204|        0|    Normal|  145|             N|    0.0|      Up|           0|\n",
      "| 49|     M|          ASY|      140|        234|        0|    Normal|  140|             Y|    1.0|    Flat|           1|\n",
      "| 42|     F|          NAP|      115|        211|        0|        ST|  137|             N|    0.0|      Up|           0|\n",
      "| 54|     F|          ATA|      120|        273|        0|    Normal|  150|             N|    1.5|    Flat|           0|\n",
      "| 38|     M|          ASY|      110|        196|        0|    Normal|  166|             N|    0.0|    Flat|           1|\n",
      "| 43|     F|          ATA|      120|        201|        0|    Normal|  165|             N|    0.0|      Up|           0|\n",
      "| 60|     M|          ASY|      100|        248|        0|    Normal|  125|             N|    1.0|    Flat|           1|\n",
      "| 36|     M|          ATA|      120|        267|        0|    Normal|  160|             N|    3.0|    Flat|           1|\n",
      "+---+------+-------------+---------+-----------+---------+----------+-----+--------------+-------+--------+------------+\n",
      "only showing top 20 rows\n",
      "\n"
     ]
    }
   ],
   "source": [
    "df.show()"
   ]
  },
  {
   "cell_type": "code",
   "execution_count": 5,
   "metadata": {},
   "outputs": [
    {
     "name": "stdout",
     "output_type": "stream",
     "text": [
      "+------------+\n",
      "|HeartDisease|\n",
      "+------------+\n",
      "|           0|\n",
      "|           1|\n",
      "|           0|\n",
      "|           1|\n",
      "|           0|\n",
      "|           0|\n",
      "|           0|\n",
      "|           0|\n",
      "|           1|\n",
      "|           0|\n",
      "|           0|\n",
      "|           1|\n",
      "|           0|\n",
      "|           1|\n",
      "|           0|\n",
      "|           0|\n",
      "|           1|\n",
      "|           0|\n",
      "|           1|\n",
      "|           1|\n",
      "+------------+\n",
      "only showing top 20 rows\n",
      "\n"
     ]
    }
   ],
   "source": [
    "df.select(\"HeartDisease\").show()"
   ]
  },
  {
   "cell_type": "code",
   "execution_count": 6,
   "metadata": {},
   "outputs": [
    {
     "data": {
      "text/plain": [
       "918"
      ]
     },
     "execution_count": 6,
     "metadata": {},
     "output_type": "execute_result"
    }
   ],
   "source": [
    "df.count()"
   ]
  },
  {
   "cell_type": "code",
   "execution_count": 7,
   "metadata": {},
   "outputs": [
    {
     "data": {
      "text/plain": [
       "12"
      ]
     },
     "execution_count": 7,
     "metadata": {},
     "output_type": "execute_result"
    }
   ],
   "source": [
    "len(df.columns)"
   ]
  },
  {
   "cell_type": "code",
   "execution_count": 8,
   "metadata": {},
   "outputs": [
    {
     "name": "stdout",
     "output_type": "stream",
     "text": [
      "root\n",
      " |-- Age: integer (nullable = true)\n",
      " |-- Gender: string (nullable = true)\n",
      " |-- ChestPainType: string (nullable = true)\n",
      " |-- RestingBP: integer (nullable = true)\n",
      " |-- Cholesterol: integer (nullable = true)\n",
      " |-- FastingBS: integer (nullable = true)\n",
      " |-- RestingECG: string (nullable = true)\n",
      " |-- MaxHR: integer (nullable = true)\n",
      " |-- ExerciseAngina: string (nullable = true)\n",
      " |-- Oldpeak: double (nullable = true)\n",
      " |-- ST_Slope: string (nullable = true)\n",
      " |-- HeartDisease: integer (nullable = true)\n",
      "\n"
     ]
    }
   ],
   "source": [
    "df.printSchema()"
   ]
  },
  {
   "cell_type": "code",
   "execution_count": 9,
   "metadata": {},
   "outputs": [
    {
     "name": "stdout",
     "output_type": "stream",
     "text": [
      "+-------+------------------+------+-------------+------------------+------------------+-------------------+----------+------------------+--------------+------------------+--------+-------------------+\n",
      "|summary|               Age|Gender|ChestPainType|         RestingBP|       Cholesterol|          FastingBS|RestingECG|             MaxHR|ExerciseAngina|           Oldpeak|ST_Slope|       HeartDisease|\n",
      "+-------+------------------+------+-------------+------------------+------------------+-------------------+----------+------------------+--------------+------------------+--------+-------------------+\n",
      "|  count|               918|   918|          918|               918|               918|                918|       918|               918|           918|               918|     918|                918|\n",
      "|   mean|53.510893246187365|  null|         null|132.39651416122004| 198.7995642701525|0.23311546840958605|      null|136.80936819172112|          null|0.8873638344226581|    null| 0.5533769063180828|\n",
      "| stddev|  9.43261650673202|  null|         null|18.514154119907808|109.38414455220345|0.42304562473930296|      null| 25.46033413825029|          null|1.0665701510493264|    null|0.49741373828459706|\n",
      "|    min|                28|     F|          ASY|                 0|                 0|                  0|       LVH|                60|             N|              -2.6|    Down|                  0|\n",
      "|    max|                77|     M|           TA|               200|               603|                  1|        ST|               202|             Y|               6.2|      Up|                  1|\n",
      "+-------+------------------+------+-------------+------------------+------------------+-------------------+----------+------------------+--------------+------------------+--------+-------------------+\n",
      "\n"
     ]
    }
   ],
   "source": [
    "df.describe().show()"
   ]
  },
  {
   "cell_type": "code",
   "execution_count": 10,
   "metadata": {},
   "outputs": [
    {
     "data": {
      "text/plain": [
       "[Row(Age=40, Gender='M', ChestPainType='ATA', RestingBP=140, Cholesterol=289, FastingBS=0, RestingECG='Normal', MaxHR=172, ExerciseAngina='N', Oldpeak=0.0, ST_Slope='Up', HeartDisease=0),\n",
       " Row(Age=49, Gender='F', ChestPainType='NAP', RestingBP=160, Cholesterol=180, FastingBS=0, RestingECG='Normal', MaxHR=156, ExerciseAngina='N', Oldpeak=1.0, ST_Slope='Flat', HeartDisease=1),\n",
       " Row(Age=37, Gender='M', ChestPainType='ATA', RestingBP=130, Cholesterol=283, FastingBS=0, RestingECG='ST', MaxHR=98, ExerciseAngina='N', Oldpeak=0.0, ST_Slope='Up', HeartDisease=0),\n",
       " Row(Age=48, Gender='F', ChestPainType='ASY', RestingBP=138, Cholesterol=214, FastingBS=0, RestingECG='Normal', MaxHR=108, ExerciseAngina='Y', Oldpeak=1.5, ST_Slope='Flat', HeartDisease=1),\n",
       " Row(Age=54, Gender='M', ChestPainType='NAP', RestingBP=150, Cholesterol=195, FastingBS=0, RestingECG='Normal', MaxHR=122, ExerciseAngina='N', Oldpeak=0.0, ST_Slope='Up', HeartDisease=0)]"
      ]
     },
     "execution_count": 10,
     "metadata": {},
     "output_type": "execute_result"
    }
   ],
   "source": [
    "df.head(5)"
   ]
  },
  {
   "cell_type": "code",
   "execution_count": 11,
   "metadata": {},
   "outputs": [
    {
     "name": "stdout",
     "output_type": "stream",
     "text": [
      "+------------+-----+\n",
      "|HeartDisease|count|\n",
      "+------------+-----+\n",
      "|           1|  508|\n",
      "|           0|  410|\n",
      "+------------+-----+\n",
      "\n"
     ]
    }
   ],
   "source": [
    "df.groupBy('HeartDisease').count().show()"
   ]
  },
  {
   "cell_type": "code",
   "execution_count": 12,
   "metadata": {},
   "outputs": [
    {
     "name": "stdout",
     "output_type": "stream",
     "text": [
      "+---+-----+\n",
      "|Age|count|\n",
      "+---+-----+\n",
      "| 31|    2|\n",
      "| 65|   21|\n",
      "| 53|   33|\n",
      "| 34|    7|\n",
      "| 28|    1|\n",
      "| 76|    2|\n",
      "| 44|   19|\n",
      "| 47|   19|\n",
      "| 52|   36|\n",
      "| 40|   13|\n",
      "| 57|   38|\n",
      "| 54|   51|\n",
      "| 48|   31|\n",
      "| 64|   22|\n",
      "| 41|   24|\n",
      "| 43|   24|\n",
      "| 37|   11|\n",
      "| 61|   31|\n",
      "| 72|    4|\n",
      "| 35|   11|\n",
      "+---+-----+\n",
      "only showing top 20 rows\n",
      "\n"
     ]
    }
   ],
   "source": [
    "df.groupBy('Age').count().show()"
   ]
  },
  {
   "cell_type": "code",
   "execution_count": 13,
   "metadata": {},
   "outputs": [
    {
     "name": "stdout",
     "output_type": "stream",
     "text": [
      "+------+-----+\n",
      "|Gender|count|\n",
      "+------+-----+\n",
      "|     F|  193|\n",
      "|     M|  725|\n",
      "+------+-----+\n",
      "\n"
     ]
    }
   ],
   "source": [
    "df.groupBy('Gender').count().show()"
   ]
  },
  {
   "cell_type": "code",
   "execution_count": 14,
   "metadata": {},
   "outputs": [
    {
     "name": "stdout",
     "output_type": "stream",
     "text": [
      "+---+--------+------------------+------------------+-------------------+------------------+-------------------+-------------------+\n",
      "|Age|avg(Age)|    avg(RestingBP)|  avg(Cholesterol)|     avg(FastingBS)|        avg(MaxHR)|       avg(Oldpeak)|  avg(HeartDisease)|\n",
      "+---+--------+------------------+------------------+-------------------+------------------+-------------------+-------------------+\n",
      "| 31|    31.0|             110.0|             244.5|                0.0|             151.5|               0.75|                0.5|\n",
      "| 65|    65.0|141.76190476190476|207.57142857142858| 0.3333333333333333| 125.9047619047619| 1.1714285714285715| 0.7142857142857143|\n",
      "| 53|    53.0| 131.0909090909091|181.03030303030303| 0.2727272727272727|131.57575757575756| 0.7181818181818181|0.45454545454545453|\n",
      "| 34|    34.0|124.14285714285714|163.28571428571428|0.14285714285714285|172.57142857142858|0.12857142857142856| 0.2857142857142857|\n",
      "| 28|    28.0|             130.0|             132.0|                0.0|             185.0|                0.0|                0.0|\n",
      "| 76|    76.0|             122.0|             155.0|                0.0|             118.0|                2.3|                0.5|\n",
      "| 44|    44.0|125.94736842105263|249.57894736842104|                0.0|154.26315789473685|  0.531578947368421| 0.3157894736842105|\n",
      "| 47|    47.0|132.52631578947367|193.42105263157896|0.21052631578947367| 139.8421052631579| 0.7736842105263158| 0.5789473684210527|\n",
      "| 52|    52.0|133.63888888888889|200.27777777777777|               0.25|141.94444444444446| 0.8666666666666667| 0.5277777777777778|\n",
      "| 40|    40.0|128.30769230769232| 229.3846153846154|0.23076923076923078|150.69230769230768|0.49230769230769234|0.46153846153846156|\n",
      "| 57|    57.0| 136.3684210526316|202.31578947368422|0.34210526315789475| 133.6315789473684| 1.0026315789473685| 0.6842105263157895|\n",
      "| 54|    54.0| 133.5686274509804|231.98039215686273| 0.1568627450980392| 137.2941176470588| 0.8450980392156863|0.45098039215686275|\n",
      "| 48|    48.0|             128.0|228.19354838709677|0.25806451612903225|136.16129032258064| 0.7290322580645161| 0.4838709677419355|\n",
      "| 64|    64.0| 137.5909090909091| 205.3181818181818| 0.2727272727272727| 128.3181818181818| 1.2045454545454546| 0.6818181818181818|\n",
      "| 41|    41.0|120.45833333333333|             216.5|0.08333333333333333|154.41666666666666| 0.5208333333333334|               0.25|\n",
      "| 43|    43.0|126.66666666666667|202.33333333333334|              0.125|           147.875| 0.8291666666666666| 0.4583333333333333|\n",
      "| 37|    37.0| 127.0909090909091|233.72727272727272|                0.0| 152.9090909090909| 0.5454545454545454|0.09090909090909091|\n",
      "| 61|    61.0|137.48387096774192|162.58064516129033| 0.3548387096774194|             121.0|  1.303225806451613| 0.8387096774193549|\n",
      "| 72|    72.0|            145.75|             137.0|               0.25|            113.75|              1.375|               0.75|\n",
      "| 35|    35.0|126.27272727272727|197.45454545454547|0.09090909090909091| 158.9090909090909| 0.3727272727272727|0.36363636363636365|\n",
      "+---+--------+------------------+------------------+-------------------+------------------+-------------------+-------------------+\n",
      "only showing top 20 rows\n",
      "\n"
     ]
    }
   ],
   "source": [
    "df.groupBy('Age').mean().show()"
   ]
  },
  {
   "cell_type": "code",
   "execution_count": 15,
   "metadata": {},
   "outputs": [
    {
     "name": "stdout",
     "output_type": "stream",
     "text": [
      "root\n",
      " |-- Age: integer (nullable = true)\n",
      " |-- Gender: string (nullable = true)\n",
      " |-- ChestPainType: string (nullable = true)\n",
      " |-- RestingBP: integer (nullable = true)\n",
      " |-- Cholesterol: integer (nullable = true)\n",
      " |-- FastingBS: integer (nullable = true)\n",
      " |-- RestingECG: string (nullable = true)\n",
      " |-- MaxHR: integer (nullable = true)\n",
      " |-- ExerciseAngina: string (nullable = true)\n",
      " |-- Oldpeak: double (nullable = true)\n",
      " |-- ST_Slope: string (nullable = true)\n",
      " |-- HeartDisease: integer (nullable = true)\n",
      "\n"
     ]
    }
   ],
   "source": [
    "df.printSchema()"
   ]
  },
  {
   "cell_type": "code",
   "execution_count": 16,
   "metadata": {},
   "outputs": [],
   "source": [
    "from pyspark.ml.feature import StringIndexer\n",
    "from pyspark.ml.feature import VectorAssembler"
   ]
  },
  {
   "cell_type": "code",
   "execution_count": 17,
   "metadata": {},
   "outputs": [],
   "source": [
    "indexer=StringIndexer(inputCol= \"Gender\",outputCol='Gender_cat')\n",
    "indexed=indexer.fit(df).transform(df)"
   ]
  },
  {
   "cell_type": "code",
   "execution_count": 18,
   "metadata": {},
   "outputs": [],
   "source": [
    "indexer=StringIndexer(inputCol= \"ChestPainType\",outputCol='ChestPainType_cat')\n",
    "indexed=indexer.fit(indexed).transform(indexed)"
   ]
  },
  {
   "cell_type": "code",
   "execution_count": 19,
   "metadata": {},
   "outputs": [],
   "source": [
    "indexer=StringIndexer(inputCol= \"RestingECG\",outputCol='RestingECG_cat')\n",
    "indexed=indexer.fit(indexed).transform(indexed)"
   ]
  },
  {
   "cell_type": "code",
   "execution_count": 20,
   "metadata": {},
   "outputs": [],
   "source": [
    "indexer=StringIndexer(inputCol= \"ExerciseAngina\",outputCol='ExerciseAngina_cat')\n",
    "indexed=indexer.fit(indexed).transform(indexed)"
   ]
  },
  {
   "cell_type": "code",
   "execution_count": 21,
   "metadata": {},
   "outputs": [],
   "source": [
    "indexer=StringIndexer(inputCol= \"ST_Slope\",outputCol='ST_Slope_cat')\n",
    "indexed=indexer.fit(indexed).transform(indexed)"
   ]
  },
  {
   "cell_type": "code",
   "execution_count": 24,
   "metadata": {},
   "outputs": [
    {
     "name": "stdout",
     "output_type": "stream",
     "text": [
      "+---+------+-------------+---------+-----------+---------+----------+-----+--------------+-------+--------+------------+----------+-----------------+--------------+------------------+------------+\n",
      "|Age|Gender|ChestPainType|RestingBP|Cholesterol|FastingBS|RestingECG|MaxHR|ExerciseAngina|Oldpeak|ST_Slope|HeartDisease|gender_cat|ChestPainType_cat|RestingECG_cat|ExerciseAngina_cat|ST_Slope_cat|\n",
      "+---+------+-------------+---------+-----------+---------+----------+-----+--------------+-------+--------+------------+----------+-----------------+--------------+------------------+------------+\n",
      "| 40|     M|          ATA|      140|        289|        0|    Normal|  172|             N|    0.0|      Up|           0|       0.0|              2.0|           0.0|               0.0|         1.0|\n",
      "| 49|     F|          NAP|      160|        180|        0|    Normal|  156|             N|    1.0|    Flat|           1|       1.0|              1.0|           0.0|               0.0|         0.0|\n",
      "| 37|     M|          ATA|      130|        283|        0|        ST|   98|             N|    0.0|      Up|           0|       0.0|              2.0|           2.0|               0.0|         1.0|\n",
      "| 48|     F|          ASY|      138|        214|        0|    Normal|  108|             Y|    1.5|    Flat|           1|       1.0|              0.0|           0.0|               1.0|         0.0|\n",
      "| 54|     M|          NAP|      150|        195|        0|    Normal|  122|             N|    0.0|      Up|           0|       0.0|              1.0|           0.0|               0.0|         1.0|\n",
      "| 39|     M|          NAP|      120|        339|        0|    Normal|  170|             N|    0.0|      Up|           0|       0.0|              1.0|           0.0|               0.0|         1.0|\n",
      "| 45|     F|          ATA|      130|        237|        0|    Normal|  170|             N|    0.0|      Up|           0|       1.0|              2.0|           0.0|               0.0|         1.0|\n",
      "| 54|     M|          ATA|      110|        208|        0|    Normal|  142|             N|    0.0|      Up|           0|       0.0|              2.0|           0.0|               0.0|         1.0|\n",
      "| 37|     M|          ASY|      140|        207|        0|    Normal|  130|             Y|    1.5|    Flat|           1|       0.0|              0.0|           0.0|               1.0|         0.0|\n",
      "| 48|     F|          ATA|      120|        284|        0|    Normal|  120|             N|    0.0|      Up|           0|       1.0|              2.0|           0.0|               0.0|         1.0|\n",
      "| 37|     F|          NAP|      130|        211|        0|    Normal|  142|             N|    0.0|      Up|           0|       1.0|              1.0|           0.0|               0.0|         1.0|\n",
      "| 58|     M|          ATA|      136|        164|        0|        ST|   99|             Y|    2.0|    Flat|           1|       0.0|              2.0|           2.0|               1.0|         0.0|\n",
      "| 39|     M|          ATA|      120|        204|        0|    Normal|  145|             N|    0.0|      Up|           0|       0.0|              2.0|           0.0|               0.0|         1.0|\n",
      "| 49|     M|          ASY|      140|        234|        0|    Normal|  140|             Y|    1.0|    Flat|           1|       0.0|              0.0|           0.0|               1.0|         0.0|\n",
      "| 42|     F|          NAP|      115|        211|        0|        ST|  137|             N|    0.0|      Up|           0|       1.0|              1.0|           2.0|               0.0|         1.0|\n",
      "| 54|     F|          ATA|      120|        273|        0|    Normal|  150|             N|    1.5|    Flat|           0|       1.0|              2.0|           0.0|               0.0|         0.0|\n",
      "| 38|     M|          ASY|      110|        196|        0|    Normal|  166|             N|    0.0|    Flat|           1|       0.0|              0.0|           0.0|               0.0|         0.0|\n",
      "| 43|     F|          ATA|      120|        201|        0|    Normal|  165|             N|    0.0|      Up|           0|       1.0|              2.0|           0.0|               0.0|         1.0|\n",
      "| 60|     M|          ASY|      100|        248|        0|    Normal|  125|             N|    1.0|    Flat|           1|       0.0|              0.0|           0.0|               0.0|         0.0|\n",
      "| 36|     M|          ATA|      120|        267|        0|    Normal|  160|             N|    3.0|    Flat|           1|       0.0|              2.0|           0.0|               0.0|         0.0|\n",
      "+---+------+-------------+---------+-----------+---------+----------+-----+--------------+-------+--------+------------+----------+-----------------+--------------+------------------+------------+\n",
      "only showing top 20 rows\n",
      "\n"
     ]
    }
   ],
   "source": [
    "indexed.show()"
   ]
  },
  {
   "cell_type": "code",
   "execution_count": 25,
   "metadata": {},
   "outputs": [
    {
     "data": {
      "text/plain": [
       "['Age',\n",
       " 'Gender',\n",
       " 'ChestPainType',\n",
       " 'RestingBP',\n",
       " 'Cholesterol',\n",
       " 'FastingBS',\n",
       " 'RestingECG',\n",
       " 'MaxHR',\n",
       " 'ExerciseAngina',\n",
       " 'Oldpeak',\n",
       " 'ST_Slope',\n",
       " 'HeartDisease',\n",
       " 'gender_cat',\n",
       " 'ChestPainType_cat',\n",
       " 'RestingECG_cat',\n",
       " 'ExerciseAngina_cat',\n",
       " 'ST_Slope_cat']"
      ]
     },
     "execution_count": 25,
     "metadata": {},
     "output_type": "execute_result"
    }
   ],
   "source": [
    "indexed.columns"
   ]
  },
  {
   "cell_type": "code",
   "execution_count": 29,
   "metadata": {},
   "outputs": [],
   "source": [
    "assembler= VectorAssembler(inputCols=['Age',\n",
    " 'RestingBP',\n",
    " 'FastingBS',\n",
    " 'MaxHR',\n",
    " 'Oldpeak',\n",
    " 'gender_cat', 'ChestPainType_cat', 'RestingECG_cat', 'ST_Slope_cat'],outputCol='features')"
   ]
  },
  {
   "cell_type": "code",
   "execution_count": 30,
   "metadata": {},
   "outputs": [
    {
     "data": {
      "text/plain": [
       "VectorAssembler_30b5d3981a68"
      ]
     },
     "execution_count": 30,
     "metadata": {},
     "output_type": "execute_result"
    }
   ],
   "source": [
    "assembler"
   ]
  },
  {
   "cell_type": "code",
   "execution_count": 31,
   "metadata": {},
   "outputs": [],
   "source": [
    "output= assembler.transform(indexed)"
   ]
  },
  {
   "cell_type": "code",
   "execution_count": 32,
   "metadata": {},
   "outputs": [
    {
     "data": {
      "text/plain": [
       "DataFrame[Age: int, Gender: string, ChestPainType: string, RestingBP: int, Cholesterol: int, FastingBS: int, RestingECG: string, MaxHR: int, ExerciseAngina: string, Oldpeak: double, ST_Slope: string, HeartDisease: int, gender_cat: double, ChestPainType_cat: double, RestingECG_cat: double, ExerciseAngina_cat: double, ST_Slope_cat: double, features: vector]"
      ]
     },
     "execution_count": 32,
     "metadata": {},
     "output_type": "execute_result"
    }
   ],
   "source": [
    "output"
   ]
  },
  {
   "cell_type": "code",
   "execution_count": 35,
   "metadata": {},
   "outputs": [
    {
     "name": "stdout",
     "output_type": "stream",
     "text": [
      "+---+------+-------------+---------+-----------+---------+----------+-----+--------------+-------+--------+------------+----------+-----------------+--------------+------------------+------------+--------------------+\n",
      "|Age|Gender|ChestPainType|RestingBP|Cholesterol|FastingBS|RestingECG|MaxHR|ExerciseAngina|Oldpeak|ST_Slope|HeartDisease|gender_cat|ChestPainType_cat|RestingECG_cat|ExerciseAngina_cat|ST_Slope_cat|            features|\n",
      "+---+------+-------------+---------+-----------+---------+----------+-----+--------------+-------+--------+------------+----------+-----------------+--------------+------------------+------------+--------------------+\n",
      "| 40|     M|          ATA|      140|        289|        0|    Normal|  172|             N|    0.0|      Up|           0|       0.0|              2.0|           0.0|               0.0|         1.0|[40.0,140.0,0.0,1...|\n",
      "| 49|     F|          NAP|      160|        180|        0|    Normal|  156|             N|    1.0|    Flat|           1|       1.0|              1.0|           0.0|               0.0|         0.0|[49.0,160.0,0.0,1...|\n",
      "| 37|     M|          ATA|      130|        283|        0|        ST|   98|             N|    0.0|      Up|           0|       0.0|              2.0|           2.0|               0.0|         1.0|[37.0,130.0,0.0,9...|\n",
      "| 48|     F|          ASY|      138|        214|        0|    Normal|  108|             Y|    1.5|    Flat|           1|       1.0|              0.0|           0.0|               1.0|         0.0|[48.0,138.0,0.0,1...|\n",
      "| 54|     M|          NAP|      150|        195|        0|    Normal|  122|             N|    0.0|      Up|           0|       0.0|              1.0|           0.0|               0.0|         1.0|[54.0,150.0,0.0,1...|\n",
      "| 39|     M|          NAP|      120|        339|        0|    Normal|  170|             N|    0.0|      Up|           0|       0.0|              1.0|           0.0|               0.0|         1.0|[39.0,120.0,0.0,1...|\n",
      "| 45|     F|          ATA|      130|        237|        0|    Normal|  170|             N|    0.0|      Up|           0|       1.0|              2.0|           0.0|               0.0|         1.0|[45.0,130.0,0.0,1...|\n",
      "| 54|     M|          ATA|      110|        208|        0|    Normal|  142|             N|    0.0|      Up|           0|       0.0|              2.0|           0.0|               0.0|         1.0|[54.0,110.0,0.0,1...|\n",
      "| 37|     M|          ASY|      140|        207|        0|    Normal|  130|             Y|    1.5|    Flat|           1|       0.0|              0.0|           0.0|               1.0|         0.0|(9,[0,1,3,4],[37....|\n",
      "| 48|     F|          ATA|      120|        284|        0|    Normal|  120|             N|    0.0|      Up|           0|       1.0|              2.0|           0.0|               0.0|         1.0|[48.0,120.0,0.0,1...|\n",
      "| 37|     F|          NAP|      130|        211|        0|    Normal|  142|             N|    0.0|      Up|           0|       1.0|              1.0|           0.0|               0.0|         1.0|[37.0,130.0,0.0,1...|\n",
      "| 58|     M|          ATA|      136|        164|        0|        ST|   99|             Y|    2.0|    Flat|           1|       0.0|              2.0|           2.0|               1.0|         0.0|[58.0,136.0,0.0,9...|\n",
      "| 39|     M|          ATA|      120|        204|        0|    Normal|  145|             N|    0.0|      Up|           0|       0.0|              2.0|           0.0|               0.0|         1.0|[39.0,120.0,0.0,1...|\n",
      "| 49|     M|          ASY|      140|        234|        0|    Normal|  140|             Y|    1.0|    Flat|           1|       0.0|              0.0|           0.0|               1.0|         0.0|(9,[0,1,3,4],[49....|\n",
      "| 42|     F|          NAP|      115|        211|        0|        ST|  137|             N|    0.0|      Up|           0|       1.0|              1.0|           2.0|               0.0|         1.0|[42.0,115.0,0.0,1...|\n",
      "| 54|     F|          ATA|      120|        273|        0|    Normal|  150|             N|    1.5|    Flat|           0|       1.0|              2.0|           0.0|               0.0|         0.0|[54.0,120.0,0.0,1...|\n",
      "| 38|     M|          ASY|      110|        196|        0|    Normal|  166|             N|    0.0|    Flat|           1|       0.0|              0.0|           0.0|               0.0|         0.0|(9,[0,1,3],[38.0,...|\n",
      "| 43|     F|          ATA|      120|        201|        0|    Normal|  165|             N|    0.0|      Up|           0|       1.0|              2.0|           0.0|               0.0|         1.0|[43.0,120.0,0.0,1...|\n",
      "| 60|     M|          ASY|      100|        248|        0|    Normal|  125|             N|    1.0|    Flat|           1|       0.0|              0.0|           0.0|               0.0|         0.0|(9,[0,1,3,4],[60....|\n",
      "| 36|     M|          ATA|      120|        267|        0|    Normal|  160|             N|    3.0|    Flat|           1|       0.0|              2.0|           0.0|               0.0|         0.0|[36.0,120.0,0.0,1...|\n",
      "+---+------+-------------+---------+-----------+---------+----------+-----+--------------+-------+--------+------------+----------+-----------------+--------------+------------------+------------+--------------------+\n",
      "only showing top 20 rows\n",
      "\n"
     ]
    }
   ],
   "source": [
    "output.show()\n",
    "\n",
    "# As we can see, now we have one extra column named features, which is\n",
    "#nothing but a combination of all the input features represented as a single dense\n",
    "#vector."
   ]
  },
  {
   "cell_type": "code",
   "execution_count": 34,
   "metadata": {},
   "outputs": [
    {
     "name": "stdout",
     "output_type": "stream",
     "text": [
      "+--------------------+------------+\n",
      "|            features|HeartDisease|\n",
      "+--------------------+------------+\n",
      "|[40.0,140.0,0.0,1...|           0|\n",
      "|[49.0,160.0,0.0,1...|           1|\n",
      "|[37.0,130.0,0.0,9...|           0|\n",
      "|[48.0,138.0,0.0,1...|           1|\n",
      "|[54.0,150.0,0.0,1...|           0|\n",
      "+--------------------+------------+\n",
      "only showing top 5 rows\n",
      "\n"
     ]
    }
   ],
   "source": [
    "output.select('features','HeartDisease').show(5)"
   ]
  },
  {
   "cell_type": "code",
   "execution_count": 38,
   "metadata": {},
   "outputs": [
    {
     "data": {
      "text/plain": [
       "['Age',\n",
       " 'Gender',\n",
       " 'ChestPainType',\n",
       " 'RestingBP',\n",
       " 'Cholesterol',\n",
       " 'FastingBS',\n",
       " 'RestingECG',\n",
       " 'MaxHR',\n",
       " 'ExerciseAngina',\n",
       " 'Oldpeak',\n",
       " 'ST_Slope',\n",
       " 'HeartDisease',\n",
       " 'gender_cat',\n",
       " 'ChestPainType_cat',\n",
       " 'RestingECG_cat',\n",
       " 'ExerciseAngina_cat',\n",
       " 'ST_Slope_cat']"
      ]
     },
     "execution_count": 38,
     "metadata": {},
     "output_type": "execute_result"
    }
   ],
   "source": [
    "indexed.columns"
   ]
  },
  {
   "cell_type": "code",
   "execution_count": 39,
   "metadata": {},
   "outputs": [],
   "source": [
    "model_df=output.select(['features','HeartDisease'])"
   ]
  },
  {
   "cell_type": "code",
   "execution_count": 40,
   "metadata": {},
   "outputs": [],
   "source": [
    "training_df,test_df=model_df.randomSplit([0.75,0.25])"
   ]
  },
  {
   "cell_type": "code",
   "execution_count": 41,
   "metadata": {},
   "outputs": [
    {
     "name": "stdout",
     "output_type": "stream",
     "text": [
      "700\n"
     ]
    }
   ],
   "source": [
    "print(training_df.count())"
   ]
  },
  {
   "cell_type": "code",
   "execution_count": 42,
   "metadata": {},
   "outputs": [
    {
     "name": "stdout",
     "output_type": "stream",
     "text": [
      "218\n"
     ]
    }
   ],
   "source": [
    "print(test_df.count())"
   ]
  },
  {
   "cell_type": "code",
   "execution_count": 44,
   "metadata": {},
   "outputs": [],
   "source": [
    "from pyspark.ml.classification import LogisticRegression"
   ]
  },
  {
   "cell_type": "code",
   "execution_count": 47,
   "metadata": {},
   "outputs": [],
   "source": [
    "log_reg=LogisticRegression(labelCol='HeartDisease').fit(training_df)"
   ]
  },
  {
   "cell_type": "code",
   "execution_count": 48,
   "metadata": {},
   "outputs": [],
   "source": [
    "# training results\n",
    "train_results=log_reg.evaluate(training_df).predictions"
   ]
  },
  {
   "cell_type": "code",
   "execution_count": 50,
   "metadata": {},
   "outputs": [
    {
     "name": "stdout",
     "output_type": "stream",
     "text": [
      "+--------------------+------------+--------------------+--------------------+----------+\n",
      "|            features|HeartDisease|       rawPrediction|         probability|prediction|\n",
      "+--------------------+------------+--------------------+--------------------+----------+\n",
      "|(9,[0,1,2,3],[40....|           1|[-1.6717677659908...|[0.15818863204064...|       1.0|\n",
      "|(9,[0,1,2,3],[51....|           1|[-2.7622383962315...|[0.05939918131315...|       1.0|\n",
      "|(9,[0,1,2,3],[52....|           1|[-2.5183596203808...|[0.07458108313041...|       1.0|\n",
      "|(9,[0,1,2,3],[57....|           1|[-2.8693017087646...|[0.05369212062450...|       1.0|\n",
      "|(9,[0,1,3],[32.0,...|           1|[-0.7559773814412...|[0.31952025665009...|       1.0|\n",
      "|(9,[0,1,3],[38.0,...|           1|[-0.3469558384591...|[0.41412081645468...|       1.0|\n",
      "|(9,[0,1,3],[38.0,...|           1|[-0.2627511255505...|[0.43468754126401...|       1.0|\n",
      "|(9,[0,1,3],[39.0,...|           1|[-0.5984541475180...|[0.35469744004032...|       1.0|\n",
      "|(9,[0,1,3],[44.0,...|           1|[-0.8377738941105...|[0.30200383466222...|       1.0|\n",
      "|(9,[0,1,3],[46.0,...|           1|[-1.2027524853048...|[0.23098592661550...|       1.0|\n",
      "|(9,[0,1,3],[47.0,...|           1|[-0.9852693945863...|[0.27184747276122...|       1.0|\n",
      "|(9,[0,1,3],[49.0,...|           1|[-1.5110176708108...|[0.18078802336048...|       1.0|\n",
      "|(9,[0,1,3],[49.0,...|           1|[-0.4192546699976...|[0.39669511480746...|       1.0|\n",
      "|(9,[0,1,3],[52.0,...|           1|[-0.7880430277959...|[0.31258902367745...|       1.0|\n",
      "|(9,[0,1,3],[53.0,...|           1|[-1.3038664331413...|[0.21351502175080...|       1.0|\n",
      "|(9,[0,1,3],[53.0,...|           1|[-1.4354342272824...|[0.19225338053494...|       1.0|\n",
      "|(9,[0,1,3],[54.0,...|           1|[-0.7477047257695...|[0.32132163513870...|       1.0|\n",
      "|(9,[0,1,3],[54.0,...|           1|[-0.9552427380302...|[0.27783168826455...|       1.0|\n",
      "|(9,[0,1,3],[54.0,...|           1|[-1.2401080406685...|[0.22441718024868...|       1.0|\n",
      "|(9,[0,1,3],[55.0,...|           1|[-1.7706161735853...|[0.14546571847284...|       1.0|\n",
      "+--------------------+------------+--------------------+--------------------+----------+\n",
      "only showing top 20 rows\n",
      "\n"
     ]
    }
   ],
   "source": [
    "train_results.show()"
   ]
  },
  {
   "cell_type": "code",
   "execution_count": 51,
   "metadata": {},
   "outputs": [],
   "source": [
    "results=log_reg.evaluate(test_df).predictions"
   ]
  },
  {
   "cell_type": "code",
   "execution_count": 52,
   "metadata": {},
   "outputs": [
    {
     "name": "stdout",
     "output_type": "stream",
     "text": [
      "root\n",
      " |-- features: vector (nullable = true)\n",
      " |-- HeartDisease: integer (nullable = true)\n",
      " |-- rawPrediction: vector (nullable = true)\n",
      " |-- probability: vector (nullable = true)\n",
      " |-- prediction: double (nullable = false)\n",
      "\n"
     ]
    }
   ],
   "source": [
    "results.printSchema()"
   ]
  },
  {
   "cell_type": "code",
   "execution_count": 53,
   "metadata": {},
   "outputs": [
    {
     "name": "stdout",
     "output_type": "stream",
     "text": [
      "+------------+----------+\n",
      "|HeartDisease|prediction|\n",
      "+------------+----------+\n",
      "|1           |1.0       |\n",
      "|1           |1.0       |\n",
      "|1           |1.0       |\n",
      "|1           |1.0       |\n",
      "|1           |1.0       |\n",
      "|1           |1.0       |\n",
      "|1           |1.0       |\n",
      "|1           |1.0       |\n",
      "|1           |1.0       |\n",
      "|1           |1.0       |\n",
      "+------------+----------+\n",
      "only showing top 10 rows\n",
      "\n"
     ]
    }
   ],
   "source": [
    "results.select(['HeartDisease','prediction']).show(10,False)"
   ]
  },
  {
   "cell_type": "code",
   "execution_count": 54,
   "metadata": {},
   "outputs": [],
   "source": [
    "# confusion matrix\n",
    "tp = results[(results.HeartDisease == 1) & (results.prediction == 1)].count()"
   ]
  },
  {
   "cell_type": "code",
   "execution_count": 58,
   "metadata": {},
   "outputs": [
    {
     "data": {
      "text/plain": [
       "106"
      ]
     },
     "execution_count": 58,
     "metadata": {},
     "output_type": "execute_result"
    }
   ],
   "source": [
    "tp"
   ]
  },
  {
   "cell_type": "code",
   "execution_count": 55,
   "metadata": {},
   "outputs": [],
   "source": [
    "tn = results[(results.HeartDisease == 0) & (results.prediction ==0)].count()"
   ]
  },
  {
   "cell_type": "code",
   "execution_count": 59,
   "metadata": {},
   "outputs": [
    {
     "data": {
      "text/plain": [
       "79"
      ]
     },
     "execution_count": 59,
     "metadata": {},
     "output_type": "execute_result"
    }
   ],
   "source": [
    "tn"
   ]
  },
  {
   "cell_type": "code",
   "execution_count": 56,
   "metadata": {},
   "outputs": [],
   "source": [
    "fp = results[(results.HeartDisease == 0) & (results.prediction == 1)].count()"
   ]
  },
  {
   "cell_type": "code",
   "execution_count": 60,
   "metadata": {},
   "outputs": [
    {
     "data": {
      "text/plain": [
       "16"
      ]
     },
     "execution_count": 60,
     "metadata": {},
     "output_type": "execute_result"
    }
   ],
   "source": [
    "fp"
   ]
  },
  {
   "cell_type": "code",
   "execution_count": 57,
   "metadata": {},
   "outputs": [],
   "source": [
    "fn = results[(results.HeartDisease == 1) & (results.prediction ==0)].count()"
   ]
  },
  {
   "cell_type": "code",
   "execution_count": 61,
   "metadata": {},
   "outputs": [
    {
     "data": {
      "text/plain": [
       "17"
      ]
     },
     "execution_count": 61,
     "metadata": {},
     "output_type": "execute_result"
    }
   ],
   "source": [
    "fn"
   ]
  },
  {
   "cell_type": "code",
   "execution_count": 64,
   "metadata": {},
   "outputs": [],
   "source": [
    "# accuracy\n",
    "accuracy=float((tp+tn)/(results.count()))"
   ]
  },
  {
   "cell_type": "code",
   "execution_count": 65,
   "metadata": {},
   "outputs": [
    {
     "data": {
      "text/plain": [
       "0.8486238532110092"
      ]
     },
     "execution_count": 65,
     "metadata": {},
     "output_type": "execute_result"
    }
   ],
   "source": [
    "accuracy"
   ]
  },
  {
   "cell_type": "code",
   "execution_count": 68,
   "metadata": {},
   "outputs": [],
   "source": [
    "# recall\n",
    "recall = float(tn)/(tp + tn)"
   ]
  },
  {
   "cell_type": "code",
   "execution_count": 69,
   "metadata": {},
   "outputs": [
    {
     "data": {
      "text/plain": [
       "0.42702702702702705"
      ]
     },
     "execution_count": 69,
     "metadata": {},
     "output_type": "execute_result"
    }
   ],
   "source": [
    "recall"
   ]
  },
  {
   "cell_type": "code",
   "execution_count": null,
   "metadata": {},
   "outputs": [],
   "source": []
  }
 ],
 "metadata": {
  "kernelspec": {
   "display_name": "Python 3",
   "language": "python",
   "name": "python3"
  },
  "language_info": {
   "codemirror_mode": {
    "name": "ipython",
    "version": 3
   },
   "file_extension": ".py",
   "mimetype": "text/x-python",
   "name": "python",
   "nbconvert_exporter": "python",
   "pygments_lexer": "ipython3",
   "version": "3.8.3"
  }
 },
 "nbformat": 4,
 "nbformat_minor": 4
}
