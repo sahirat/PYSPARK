{
 "cells": [
  {
   "cell_type": "markdown",
   "metadata": {},
   "source": [
    "Covariance is a statistical measure that indicates the direction of the linear relationship( negative or positive ) between two variables. Whereas Correlation is a standardized measure of the strength and direction of the linear relationship between two variables."
   ]
  },
  {
   "cell_type": "code",
   "execution_count": 1,
   "metadata": {},
   "outputs": [],
   "source": [
    "from pyspark.sql import SparkSession\n",
    "from pyspark.ml.stat import Correlation"
   ]
  },
  {
   "cell_type": "code",
   "execution_count": 2,
   "metadata": {},
   "outputs": [],
   "source": [
    "spark = SparkSession.builder.getOrCreate()"
   ]
  },
  {
   "cell_type": "code",
   "execution_count": 3,
   "metadata": {},
   "outputs": [],
   "source": [
    "df = spark.read.csv(\"house.csv\", inferSchema=True, header=True)"
   ]
  },
  {
   "cell_type": "code",
   "execution_count": 4,
   "metadata": {},
   "outputs": [
    {
     "name": "stdout",
     "output_type": "stream",
     "text": [
      "+-----------+---------+----------+---------+\n",
      "|OverallQual|GrLivArea|GarageArea|SalePrice|\n",
      "+-----------+---------+----------+---------+\n",
      "|          7|     1710|       548|   208500|\n",
      "|          6|     1262|       460|   181500|\n",
      "|          7|     1786|       608|   223500|\n",
      "|          7|     1717|       642|   140000|\n",
      "|          8|     2198|       836|   250000|\n",
      "|          5|     1362|       480|   143000|\n",
      "|          8|     1694|       636|   307000|\n",
      "|          7|     2090|       484|   200000|\n",
      "|          7|     1774|       468|   129900|\n",
      "|          5|     1077|       205|   118000|\n",
      "|          5|     1040|       384|   129500|\n",
      "|          9|     2324|       736|   345000|\n",
      "|          5|      912|       352|   144000|\n",
      "|          7|     1494|       840|   279500|\n",
      "|          6|     1253|       352|   157000|\n",
      "|          7|      854|       576|   132000|\n",
      "|          6|     1004|       480|   149000|\n",
      "|          4|     1296|       516|    90000|\n",
      "|          5|     1114|       576|   159000|\n",
      "|          5|     1339|       294|   139000|\n",
      "+-----------+---------+----------+---------+\n",
      "only showing top 20 rows\n",
      "\n"
     ]
    }
   ],
   "source": [
    "df.show()"
   ]
  },
  {
   "cell_type": "code",
   "execution_count": 5,
   "metadata": {},
   "outputs": [
    {
     "name": "stdout",
     "output_type": "stream",
     "text": [
      "root\n",
      " |-- OverallQual: integer (nullable = true)\n",
      " |-- GrLivArea: integer (nullable = true)\n",
      " |-- GarageArea: integer (nullable = true)\n",
      " |-- SalePrice: integer (nullable = true)\n",
      "\n"
     ]
    }
   ],
   "source": [
    "df.printSchema()"
   ]
  },
  {
   "cell_type": "code",
   "execution_count": 6,
   "metadata": {},
   "outputs": [
    {
     "data": {
      "text/plain": [
       "86286.56056112231"
      ]
     },
     "execution_count": 6,
     "metadata": {},
     "output_type": "execute_result"
    }
   ],
   "source": [
    "df.cov(\"OverallQual\", \"SalePrice\")"
   ]
  },
  {
   "cell_type": "code",
   "execution_count": 7,
   "metadata": {},
   "outputs": [
    {
     "data": {
      "text/plain": [
       "29559078.70437677"
      ]
     },
     "execution_count": 7,
     "metadata": {},
     "output_type": "execute_result"
    }
   ],
   "source": [
    "df.cov(\"GrLivArea\", \"SalePrice\")"
   ]
  },
  {
   "cell_type": "code",
   "execution_count": 8,
   "metadata": {},
   "outputs": [
    {
     "data": {
      "text/plain": [
       "11183722.415783571"
      ]
     },
     "execution_count": 8,
     "metadata": {},
     "output_type": "execute_result"
    }
   ],
   "source": [
    "df.cov(\"GarageArea\", \"SalePrice\")"
   ]
  },
  {
   "cell_type": "code",
   "execution_count": 9,
   "metadata": {},
   "outputs": [
    {
     "data": {
      "text/plain": [
       "6178390776.100184"
      ]
     },
     "execution_count": 9,
     "metadata": {},
     "output_type": "execute_result"
    }
   ],
   "source": [
    "df.cov(\"SalePrice\", \"SalePrice\")"
   ]
  },
  {
   "cell_type": "code",
   "execution_count": null,
   "metadata": {},
   "outputs": [],
   "source": []
  }
 ],
 "metadata": {
  "kernelspec": {
   "display_name": "Python 3",
   "language": "python",
   "name": "python3"
  },
  "language_info": {
   "codemirror_mode": {
    "name": "ipython",
    "version": 3
   },
   "file_extension": ".py",
   "mimetype": "text/x-python",
   "name": "python",
   "nbconvert_exporter": "python",
   "pygments_lexer": "ipython3",
   "version": "3.8.3"
  }
 },
 "nbformat": 4,
 "nbformat_minor": 4
}
