{
 "cells": [
  {
   "cell_type": "markdown",
   "metadata": {
    "application/vnd.databricks.v1+cell": {
     "cellMetadata": {},
     "inputWidgets": {},
     "nuid": "061108fd-3918-490e-b8be-522f34444c29",
     "showTitle": false,
     "tableResultSettingsMap": {},
     "title": ""
    }
   },
   "source": [
    "**PySpark Window function** performs statistical operations such as rank, row number, etc. on a group, frame, or collection of rows and returns results for each row individually"
   ]
  },
  {
   "cell_type": "code",
   "execution_count": 0,
   "metadata": {
    "application/vnd.databricks.v1+cell": {
     "cellMetadata": {
      "byteLimit": 2048000,
      "rowLimit": 10000
     },
     "inputWidgets": {},
     "nuid": "9892e0ef-7017-4006-955b-9ba3ae1b2419",
     "showTitle": false,
     "tableResultSettingsMap": {},
     "title": ""
    }
   },
   "outputs": [],
   "source": [
    "from pyspark.sql import SparkSession\n",
    "import pyspark.sql.functions as F\n",
    "from pyspark.sql import Window\n",
    "import pyspark.sql.types as T"
   ]
  },
  {
   "cell_type": "code",
   "execution_count": 0,
   "metadata": {
    "application/vnd.databricks.v1+cell": {
     "cellMetadata": {
      "byteLimit": 2048000,
      "rowLimit": 10000
     },
     "inputWidgets": {},
     "nuid": "b4f43ea7-3c00-4040-a3f6-267b844e6153",
     "showTitle": false,
     "tableResultSettingsMap": {},
     "title": ""
    }
   },
   "outputs": [],
   "source": [
    "spark=SparkSession.builder.getOrCreate()"
   ]
  },
  {
   "cell_type": "code",
   "execution_count": 0,
   "metadata": {
    "application/vnd.databricks.v1+cell": {
     "cellMetadata": {
      "byteLimit": 2048000,
      "rowLimit": 10000
     },
     "inputWidgets": {},
     "nuid": "bbf185f7-4ea7-430f-92bb-a2725787b8aa",
     "showTitle": false,
     "tableResultSettingsMap": {},
     "title": ""
    }
   },
   "outputs": [],
   "source": [
    "df=spark.read.csv('/FileStore/tables/emp_data.csv',inferSchema=True,header=True)"
   ]
  },
  {
   "cell_type": "code",
   "execution_count": 0,
   "metadata": {
    "application/vnd.databricks.v1+cell": {
     "cellMetadata": {
      "byteLimit": 2048000,
      "rowLimit": 10000
     },
     "inputWidgets": {},
     "nuid": "ee4981d6-adfc-4c52-a762-23ff089f92ba",
     "showTitle": false,
     "tableResultSettingsMap": {},
     "title": ""
    }
   },
   "outputs": [
    {
     "output_type": "stream",
     "name": "stdout",
     "output_type": "stream",
     "text": [
      "+----+--------+--------+\n|year|    dept|  salary|\n+----+--------+--------+\n|2004|      IT|    2004|\n|2004|      IT|62022432|\n|2004|Accounts| 4409580|\n|2004|      HR|  211648|\n|2004|   Sales|  902053|\n|2004|      IT| 1005417|\n|2004|Accounts|    3645|\n|2005|      IT| 2974005|\n|2005|      IT|62275153|\n|2005|Accounts| 4239440|\n|2005|      HR|  114120|\n|2005|   Sales| 1215112|\n|2005|      IT|  773217|\n|2005|Accounts|    3101|\n|2006|      IT| 3285138|\n|2006|      IT|65932248|\n|2006|Accounts| 4259693|\n|2006|      HR|   67236|\n|2006|   Sales|  836424|\n|2006|      IT| 1095922|\n+----+--------+--------+\nonly showing top 20 rows\n\n"
     ]
    }
   ],
   "source": [
    "df.show()"
   ]
  },
  {
   "cell_type": "code",
   "execution_count": 0,
   "metadata": {
    "application/vnd.databricks.v1+cell": {
     "cellMetadata": {
      "byteLimit": 2048000,
      "rowLimit": 10000
     },
     "inputWidgets": {},
     "nuid": "5d6bae25-4fb4-44ec-b0f6-5bb814e6c0fc",
     "showTitle": false,
     "tableResultSettingsMap": {},
     "title": ""
    }
   },
   "outputs": [],
   "source": [
    "windowSpec=Window.partitionBy(\"dept\")\n",
    "\n",
    "data=df.withColumn(\"list_Salary\",F.collect_list(F.col(\"salary\")).over(windowSpec))\\\n",
    ".withColumn(\"AVF_Salary\",F.avg(F.col(\"salary\")).over(windowSpec))\\\n",
    ".withColumn(\"Total_Salary\",F.sum(F.col(\"salary\")).over(windowSpec))"
   ]
  },
  {
   "cell_type": "markdown",
   "metadata": {
    "application/vnd.databricks.v1+cell": {
     "cellMetadata": {},
     "inputWidgets": {},
     "nuid": "34492db4-8493-4eb9-b6c5-c093907d62a8",
     "showTitle": false,
     "tableResultSettingsMap": {},
     "title": ""
    }
   },
   "source": [
    "it acts same like groupby but it will show result for each row in a dataframa but groupby shows result for only the matching column condition"
   ]
  },
  {
   "cell_type": "code",
   "execution_count": 0,
   "metadata": {
    "application/vnd.databricks.v1+cell": {
     "cellMetadata": {
      "byteLimit": 2048000,
      "rowLimit": 10000
     },
     "inputWidgets": {},
     "nuid": "ee7e37f0-15f3-477c-9647-6849b89d69a0",
     "showTitle": false,
     "tableResultSettingsMap": {},
     "title": ""
    }
   },
   "outputs": [
    {
     "output_type": "stream",
     "name": "stdout",
     "output_type": "stream",
     "text": [
      "+----+--------+-------+--------------------+-----------------+------------+\n|year|    dept| salary|         list_Salary|       AVF_Salary|Total_Salary|\n+----+--------+-------+--------------------+-----------------+------------+\n|2004|Accounts|4409580|[4409580, 3645, 4...|3420612.088235294|   116300811|\n|2004|Accounts|   3645|[4409580, 3645, 4...|3420612.088235294|   116300811|\n|2005|Accounts|4239440|[4409580, 3645, 4...|3420612.088235294|   116300811|\n|2005|Accounts|   3101|[4409580, 3645, 4...|3420612.088235294|   116300811|\n|2006|Accounts|4259693|[4409580, 3645, 4...|3420612.088235294|   116300811|\n|2006|Accounts|   3642|[4409580, 3645, 4...|3420612.088235294|   116300811|\n|2007|Accounts|4934380|[4409580, 3645, 4...|3420612.088235294|   116300811|\n|2007|Accounts|   3419|[4409580, 3645, 4...|3420612.088235294|   116300811|\n|2008|Accounts|6265959|[4409580, 3645, 4...|3420612.088235294|   116300811|\n|2008|Accounts|   5221|[4409580, 3645, 4...|3420612.088235294|   116300811|\n|2009|Accounts|6220967|[4409580, 3645, 4...|3420612.088235294|   116300811|\n|2009|Accounts|   5024|[4409580, 3645, 4...|3420612.088235294|   116300811|\n|2010|Accounts|6484685|[4409580, 3645, 4...|3420612.088235294|   116300811|\n|2010|Accounts|   5281|[4409580, 3645, 4...|3420612.088235294|   116300811|\n|2011|Accounts|7288419|[4409580, 3645, 4...|3420612.088235294|   116300811|\n|2011|Accounts|   5618|[4409580, 3645, 4...|3420612.088235294|   116300811|\n|2012|Accounts|7509088|[4409580, 3645, 4...|3420612.088235294|   116300811|\n|2012|Accounts|   5524|[4409580, 3645, 4...|3420612.088235294|   116300811|\n|2013|Accounts|7721924|[4409580, 3645, 4...|3420612.088235294|   116300811|\n|2013|Accounts|   6459|[4409580, 3645, 4...|3420612.088235294|   116300811|\n+----+--------+-------+--------------------+-----------------+------------+\nonly showing top 20 rows\n\n"
     ]
    }
   ],
   "source": [
    "data.show()\n"
   ]
  }
 ],
 "metadata": {
  "application/vnd.databricks.v1+notebook": {
   "dashboards": [],
   "environmentMetadata": null,
   "language": "python",
   "notebookMetadata": {
    "pythonIndentUnit": 4
   },
   "notebookName": "Untitled Notebook 2024-12-18 23:25:57",
   "widgets": {}
  }
 },
 "nbformat": 4,
 "nbformat_minor": 0
}
