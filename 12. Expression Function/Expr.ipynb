{
 "cells": [
  {
   "cell_type": "code",
   "execution_count": 1,
   "metadata": {},
   "outputs": [],
   "source": [
    "from pyspark.sql import SparkSession\n",
    "import pyspark.sql.functions as F"
   ]
  },
  {
   "cell_type": "code",
   "execution_count": 2,
   "metadata": {},
   "outputs": [],
   "source": [
    "spark = SparkSession.builder.getOrCreate()"
   ]
  },
  {
   "cell_type": "code",
   "execution_count": 3,
   "metadata": {},
   "outputs": [],
   "source": [
    "df = spark.read.csv(\"emp_data.csv\", inferSchema=True,\n",
    "                   header=True)"
   ]
  },
  {
   "cell_type": "code",
   "execution_count": 4,
   "metadata": {},
   "outputs": [
    {
     "name": "stdout",
     "output_type": "stream",
     "text": [
      "+----+--------+--------+\n",
      "|year|    dept|  salary|\n",
      "+----+--------+--------+\n",
      "|2004|      IT|    2004|\n",
      "|2004|      IT|62022432|\n",
      "|2004|Accounts| 4409580|\n",
      "|2004|      HR|  211648|\n",
      "|2004|   Sales|  902053|\n",
      "|2004|      IT| 1005417|\n",
      "|2004|Accounts|    3645|\n",
      "|2005|      IT| 2974005|\n",
      "|2005|      IT|62275153|\n",
      "|2005|Accounts| 4239440|\n",
      "|2005|      HR|  114120|\n",
      "|2005|   Sales| 1215112|\n",
      "|2005|      IT|  773217|\n",
      "|2005|Accounts|    3101|\n",
      "|2006|      IT| 3285138|\n",
      "|2006|      IT|65932248|\n",
      "|2006|Accounts| 4259693|\n",
      "|2006|      HR|   67236|\n",
      "|2006|   Sales|  836424|\n",
      "|2006|      IT| 1095922|\n",
      "+----+--------+--------+\n",
      "only showing top 20 rows\n",
      "\n"
     ]
    }
   ],
   "source": [
    "df.show()"
   ]
  },
  {
   "cell_type": "code",
   "execution_count": 5,
   "metadata": {},
   "outputs": [
    {
     "name": "stdout",
     "output_type": "stream",
     "text": [
      "+----+--------+--------+-------------+\n",
      "|year|    dept|  salary|         Name|\n",
      "+----+--------+--------+-------------+\n",
      "|2004|      IT|    2004|      2004,IT|\n",
      "|2004|      IT|62022432|      2004,IT|\n",
      "|2004|Accounts| 4409580|2004,Accounts|\n",
      "|2004|      HR|  211648|      2004,HR|\n",
      "|2004|   Sales|  902053|   2004,Sales|\n",
      "|2004|      IT| 1005417|      2004,IT|\n",
      "|2004|Accounts|    3645|2004,Accounts|\n",
      "|2005|      IT| 2974005|      2005,IT|\n",
      "|2005|      IT|62275153|      2005,IT|\n",
      "|2005|Accounts| 4239440|2005,Accounts|\n",
      "|2005|      HR|  114120|      2005,HR|\n",
      "|2005|   Sales| 1215112|   2005,Sales|\n",
      "|2005|      IT|  773217|      2005,IT|\n",
      "|2005|Accounts|    3101|2005,Accounts|\n",
      "|2006|      IT| 3285138|      2006,IT|\n",
      "|2006|      IT|65932248|      2006,IT|\n",
      "|2006|Accounts| 4259693|2006,Accounts|\n",
      "|2006|      HR|   67236|      2006,HR|\n",
      "|2006|   Sales|  836424|   2006,Sales|\n",
      "|2006|      IT| 1095922|      2006,IT|\n",
      "+----+--------+--------+-------------+\n",
      "only showing top 20 rows\n",
      "\n"
     ]
    }
   ],
   "source": [
    "df.withColumn(\"Name\",F.expr(\" year ||','|| dept\")).show()"
   ]
  },
  {
   "cell_type": "code",
   "execution_count": 6,
   "metadata": {},
   "outputs": [
    {
     "name": "stdout",
     "output_type": "stream",
     "text": [
      "+----+--------+--------+----------------------+\n",
      "|year|dept    |salary  |Department            |\n",
      "+----+--------+--------+----------------------+\n",
      "|2004|IT      |2004    |Information Technology|\n",
      "|2004|IT      |62022432|Information Technology|\n",
      "|2004|Accounts|4409580 |unknown               |\n",
      "|2004|HR      |211648  |Human Resource        |\n",
      "|2004|Sales   |902053  |unknown               |\n",
      "|2004|IT      |1005417 |Information Technology|\n",
      "|2004|Accounts|3645    |unknown               |\n",
      "|2005|IT      |2974005 |Information Technology|\n",
      "|2005|IT      |62275153|Information Technology|\n",
      "|2005|Accounts|4239440 |unknown               |\n",
      "|2005|HR      |114120  |Human Resource        |\n",
      "|2005|Sales   |1215112 |unknown               |\n",
      "|2005|IT      |773217  |Information Technology|\n",
      "|2005|Accounts|3101    |unknown               |\n",
      "|2006|IT      |3285138 |Information Technology|\n",
      "|2006|IT      |65932248|Information Technology|\n",
      "|2006|Accounts|4259693 |unknown               |\n",
      "|2006|HR      |67236   |Human Resource        |\n",
      "|2006|Sales   |836424  |unknown               |\n",
      "|2006|IT      |1095922 |Information Technology|\n",
      "+----+--------+--------+----------------------+\n",
      "only showing top 20 rows\n",
      "\n"
     ]
    }
   ],
   "source": [
    "df.withColumn(\"Department\", F.expr(\"CASE WHEN dept = 'HR' THEN 'Human Resource' \" +\n",
    "           \"WHEN dept = 'IT' THEN 'Information Technology' ELSE 'unknown' END\")).show(truncate=False)"
   ]
  },
  {
   "cell_type": "code",
   "execution_count": 7,
   "metadata": {},
   "outputs": [
    {
     "name": "stdout",
     "output_type": "stream",
     "text": [
      "+--------+--------+----------+\n",
      "|    dept|  salary|new_salary|\n",
      "+--------+--------+----------+\n",
      "|      IT|    2004|     12004|\n",
      "|      IT|62022432|  62032432|\n",
      "|Accounts| 4409580|   4419580|\n",
      "|      HR|  211648|    221648|\n",
      "|   Sales|  902053|    912053|\n",
      "|      IT| 1005417|   1015417|\n",
      "|Accounts|    3645|     13645|\n",
      "|      IT| 2974005|   2984005|\n",
      "|      IT|62275153|  62285153|\n",
      "|Accounts| 4239440|   4249440|\n",
      "|      HR|  114120|    124120|\n",
      "|   Sales| 1215112|   1225112|\n",
      "|      IT|  773217|    783217|\n",
      "|Accounts|    3101|     13101|\n",
      "|      IT| 3285138|   3295138|\n",
      "|      IT|65932248|  65942248|\n",
      "|Accounts| 4259693|   4269693|\n",
      "|      HR|   67236|     77236|\n",
      "|   Sales|  836424|    846424|\n",
      "|      IT| 1095922|   1105922|\n",
      "+--------+--------+----------+\n",
      "only showing top 20 rows\n",
      "\n"
     ]
    }
   ],
   "source": [
    "df.select(df.dept,df.salary,\n",
    "     F.expr(\"salary + 10000 as new_salary\")\n",
    "  ).show()"
   ]
  },
  {
   "cell_type": "code",
   "execution_count": 8,
   "metadata": {},
   "outputs": [
    {
     "name": "stdout",
     "output_type": "stream",
     "text": [
      "+----+----+------+\n",
      "|year|dept|salary|\n",
      "+----+----+------+\n",
      "|2004|  IT|  2004|\n",
      "+----+----+------+\n",
      "\n"
     ]
    }
   ],
   "source": [
    "df.filter(F.expr(\"year == salary\")).show()"
   ]
  },
  {
   "cell_type": "code",
   "execution_count": null,
   "metadata": {},
   "outputs": [],
   "source": []
  }
 ],
 "metadata": {
  "kernelspec": {
   "display_name": "Python 3",
   "language": "python",
   "name": "python3"
  },
  "language_info": {
   "codemirror_mode": {
    "name": "ipython",
    "version": 3
   },
   "file_extension": ".py",
   "mimetype": "text/x-python",
   "name": "python",
   "nbconvert_exporter": "python",
   "pygments_lexer": "ipython3",
   "version": "3.8.3"
  }
 },
 "nbformat": 4,
 "nbformat_minor": 4
}
