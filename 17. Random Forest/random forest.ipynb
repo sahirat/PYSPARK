{
 "cells": [
  {
   "cell_type": "code",
   "execution_count": 1,
   "metadata": {},
   "outputs": [],
   "source": [
    "from pyspark.sql import SparkSession\n",
    "from pyspark.ml.stat import Correlation\n",
    "import pyspark.sql.functions as F"
   ]
  },
  {
   "cell_type": "code",
   "execution_count": 2,
   "metadata": {},
   "outputs": [],
   "source": [
    "spark = SparkSession.builder.getOrCreate()"
   ]
  },
  {
   "cell_type": "code",
   "execution_count": 3,
   "metadata": {},
   "outputs": [],
   "source": [
    "df = spark.read.csv(\"pima.csv\", inferSchema=True,\n",
    "                   header=True)"
   ]
  },
  {
   "cell_type": "code",
   "execution_count": 4,
   "metadata": {},
   "outputs": [
    {
     "name": "stdout",
     "output_type": "stream",
     "text": [
      "+----+----+----+----+----+----+-----+---+-----+\n",
      "|preg|plas|pres|skin|test|mass| pedi|age|class|\n",
      "+----+----+----+----+----+----+-----+---+-----+\n",
      "|   6| 148|  72|  35|   0|33.6|0.627| 50|    1|\n",
      "|   1|  85|  66|  29|   0|26.6|0.351| 31|    0|\n",
      "|   8| 183|  64|   0|   0|23.3|0.672| 32|    1|\n",
      "|   1|  89|  66|  23|  94|28.1|0.167| 21|    0|\n",
      "|   0| 137|  40|  35| 168|43.1|2.288| 33|    1|\n",
      "|   5| 116|  74|   0|   0|25.6|0.201| 30|    0|\n",
      "|   3|  78|  50|  32|  88|31.0|0.248| 26|    1|\n",
      "|  10| 115|   0|   0|   0|35.3|0.134| 29|    0|\n",
      "|   2| 197|  70|  45| 543|30.5|0.158| 53|    1|\n",
      "|   8| 125|  96|   0|   0| 0.0|0.232| 54|    1|\n",
      "|   4| 110|  92|   0|   0|37.6|0.191| 30|    0|\n",
      "|  10| 168|  74|   0|   0|38.0|0.537| 34|    1|\n",
      "|  10| 139|  80|   0|   0|27.1|1.441| 57|    0|\n",
      "|   1| 189|  60|  23| 846|30.1|0.398| 59|    1|\n",
      "|   5| 166|  72|  19| 175|25.8|0.587| 51|    1|\n",
      "|   7| 100|   0|   0|   0|30.0|0.484| 32|    1|\n",
      "|   0| 118|  84|  47| 230|45.8|0.551| 31|    1|\n",
      "|   7| 107|  74|   0|   0|29.6|0.254| 31|    1|\n",
      "|   1| 103|  30|  38|  83|43.3|0.183| 33|    0|\n",
      "|   1| 115|  70|  30|  96|34.6|0.529| 32|    1|\n",
      "+----+----+----+----+----+----+-----+---+-----+\n",
      "only showing top 20 rows\n",
      "\n"
     ]
    }
   ],
   "source": [
    "df.show()"
   ]
  },
  {
   "cell_type": "code",
   "execution_count": 5,
   "metadata": {},
   "outputs": [
    {
     "name": "stdout",
     "output_type": "stream",
     "text": [
      "+-----+\n",
      "|class|\n",
      "+-----+\n",
      "|    1|\n",
      "|    0|\n",
      "|    1|\n",
      "|    0|\n",
      "|    1|\n",
      "|    0|\n",
      "|    1|\n",
      "|    0|\n",
      "|    1|\n",
      "|    1|\n",
      "|    0|\n",
      "|    1|\n",
      "|    0|\n",
      "|    1|\n",
      "|    1|\n",
      "|    1|\n",
      "|    1|\n",
      "|    1|\n",
      "|    0|\n",
      "|    1|\n",
      "+-----+\n",
      "only showing top 20 rows\n",
      "\n"
     ]
    }
   ],
   "source": [
    "df.select(\"class\").show()"
   ]
  },
  {
   "cell_type": "code",
   "execution_count": 6,
   "metadata": {},
   "outputs": [
    {
     "data": {
      "text/plain": [
       "768"
      ]
     },
     "execution_count": 6,
     "metadata": {},
     "output_type": "execute_result"
    }
   ],
   "source": [
    "df.count()"
   ]
  },
  {
   "cell_type": "code",
   "execution_count": 7,
   "metadata": {},
   "outputs": [
    {
     "data": {
      "text/plain": [
       "9"
      ]
     },
     "execution_count": 7,
     "metadata": {},
     "output_type": "execute_result"
    }
   ],
   "source": [
    "len(df.columns)"
   ]
  },
  {
   "cell_type": "code",
   "execution_count": 8,
   "metadata": {},
   "outputs": [
    {
     "name": "stdout",
     "output_type": "stream",
     "text": [
      "root\n",
      " |-- preg: integer (nullable = true)\n",
      " |-- plas: integer (nullable = true)\n",
      " |-- pres: integer (nullable = true)\n",
      " |-- skin: integer (nullable = true)\n",
      " |-- test: integer (nullable = true)\n",
      " |-- mass: double (nullable = true)\n",
      " |-- pedi: double (nullable = true)\n",
      " |-- age: integer (nullable = true)\n",
      " |-- class: integer (nullable = true)\n",
      "\n"
     ]
    }
   ],
   "source": [
    "df.printSchema()"
   ]
  },
  {
   "cell_type": "code",
   "execution_count": 9,
   "metadata": {},
   "outputs": [
    {
     "name": "stdout",
     "output_type": "stream",
     "text": [
      "+-------+------------------+-----------------+------------------+------------------+------------------+------------------+------------------+------------------+------------------+\n",
      "|summary|              preg|             plas|              pres|              skin|              test|              mass|              pedi|               age|             class|\n",
      "+-------+------------------+-----------------+------------------+------------------+------------------+------------------+------------------+------------------+------------------+\n",
      "|  count|               768|              768|               768|               768|               768|               768|               768|               768|               768|\n",
      "|   mean|3.8450520833333335|     120.89453125|       69.10546875|20.536458333333332| 79.79947916666667|31.992578124999977|0.4718763020833327|33.240885416666664|0.3489583333333333|\n",
      "| stddev|  3.36957806269887|31.97261819513622|19.355807170644777|15.952217567727642|115.24400235133803| 7.884160320375441| 0.331328595012775|11.760231540678689| 0.476951377242799|\n",
      "|    min|                 0|                0|                 0|                 0|                 0|               0.0|             0.078|                21|                 0|\n",
      "|    max|                17|              199|               122|                99|               846|              67.1|              2.42|                81|                 1|\n",
      "+-------+------------------+-----------------+------------------+------------------+------------------+------------------+------------------+------------------+------------------+\n",
      "\n"
     ]
    }
   ],
   "source": [
    "df.describe().show()"
   ]
  },
  {
   "cell_type": "code",
   "execution_count": 10,
   "metadata": {},
   "outputs": [
    {
     "data": {
      "text/plain": [
       "[Row(preg=6, plas=148, pres=72, skin=35, test=0, mass=33.6, pedi=0.627, age=50, class=1),\n",
       " Row(preg=1, plas=85, pres=66, skin=29, test=0, mass=26.6, pedi=0.351, age=31, class=0),\n",
       " Row(preg=8, plas=183, pres=64, skin=0, test=0, mass=23.3, pedi=0.672, age=32, class=1),\n",
       " Row(preg=1, plas=89, pres=66, skin=23, test=94, mass=28.1, pedi=0.167, age=21, class=0),\n",
       " Row(preg=0, plas=137, pres=40, skin=35, test=168, mass=43.1, pedi=2.288, age=33, class=1)]"
      ]
     },
     "execution_count": 10,
     "metadata": {},
     "output_type": "execute_result"
    }
   ],
   "source": [
    "df.head(5)"
   ]
  },
  {
   "cell_type": "code",
   "execution_count": 11,
   "metadata": {},
   "outputs": [
    {
     "name": "stdout",
     "output_type": "stream",
     "text": [
      "+-----+-----+\n",
      "|class|count|\n",
      "+-----+-----+\n",
      "|    1|  268|\n",
      "|    0|  500|\n",
      "+-----+-----+\n",
      "\n"
     ]
    }
   ],
   "source": [
    "df.groupBy('class').count().show()"
   ]
  },
  {
   "cell_type": "code",
   "execution_count": 12,
   "metadata": {},
   "outputs": [
    {
     "name": "stdout",
     "output_type": "stream",
     "text": [
      "+---+-----+\n",
      "|age|count|\n",
      "+---+-----+\n",
      "| 31|   24|\n",
      "| 65|    3|\n",
      "| 53|    5|\n",
      "| 34|   14|\n",
      "| 81|    1|\n",
      "| 28|   35|\n",
      "| 26|   33|\n",
      "| 27|   32|\n",
      "| 44|    8|\n",
      "| 22|   72|\n",
      "| 47|    6|\n",
      "| 52|    8|\n",
      "| 40|   13|\n",
      "| 57|    5|\n",
      "| 54|    6|\n",
      "| 48|    5|\n",
      "| 64|    1|\n",
      "| 41|   22|\n",
      "| 43|   13|\n",
      "| 37|   19|\n",
      "+---+-----+\n",
      "only showing top 20 rows\n",
      "\n"
     ]
    }
   ],
   "source": [
    "df.groupBy('age').count().show()"
   ]
  },
  {
   "cell_type": "code",
   "execution_count": 13,
   "metadata": {},
   "outputs": [
    {
     "name": "stdout",
     "output_type": "stream",
     "text": [
      "+----+-----+\n",
      "|mass|count|\n",
      "+----+-----+\n",
      "|26.7|    1|\n",
      "|37.1|    2|\n",
      "|25.1|    3|\n",
      "|45.3|    3|\n",
      "|24.7|    5|\n",
      "|32.3|    3|\n",
      "| 0.0|   11|\n",
      "|43.3|    5|\n",
      "|26.4|    3|\n",
      "|23.8|    2|\n",
      "|24.9|    1|\n",
      "|37.4|    3|\n",
      "|36.2|    1|\n",
      "|35.6|    2|\n",
      "|47.9|    2|\n",
      "|49.7|    1|\n",
      "|31.1|    1|\n",
      "|38.5|    6|\n",
      "|26.6|    4|\n",
      "|23.9|    2|\n",
      "+----+-----+\n",
      "only showing top 20 rows\n",
      "\n"
     ]
    }
   ],
   "source": [
    "df.groupBy('mass').count().show()"
   ]
  },
  {
   "cell_type": "code",
   "execution_count": 14,
   "metadata": {},
   "outputs": [],
   "source": [
    "from pyspark.ml.feature import VectorAssembler"
   ]
  },
  {
   "cell_type": "code",
   "execution_count": 15,
   "metadata": {},
   "outputs": [
    {
     "data": {
      "text/plain": [
       "['preg', 'plas', 'pres', 'skin', 'test', 'mass', 'pedi', 'age', 'class']"
      ]
     },
     "execution_count": 15,
     "metadata": {},
     "output_type": "execute_result"
    }
   ],
   "source": [
    "df.columns"
   ]
  },
  {
   "cell_type": "code",
   "execution_count": 16,
   "metadata": {},
   "outputs": [],
   "source": [
    "assembler= VectorAssembler(inputCols=['preg', 'plas', 'pres', 'skin', 'test', 'mass', 'pedi', 'age'],\n",
    "                           outputCol='features')"
   ]
  },
  {
   "cell_type": "code",
   "execution_count": 17,
   "metadata": {},
   "outputs": [
    {
     "data": {
      "text/plain": [
       "VectorAssembler_14a7adf34113"
      ]
     },
     "execution_count": 17,
     "metadata": {},
     "output_type": "execute_result"
    }
   ],
   "source": [
    "assembler"
   ]
  },
  {
   "cell_type": "code",
   "execution_count": 18,
   "metadata": {},
   "outputs": [],
   "source": [
    "output= assembler.transform(df)"
   ]
  },
  {
   "cell_type": "code",
   "execution_count": 19,
   "metadata": {},
   "outputs": [
    {
     "data": {
      "text/plain": [
       "DataFrame[preg: int, plas: int, pres: int, skin: int, test: int, mass: double, pedi: double, age: int, class: int, features: vector]"
      ]
     },
     "execution_count": 19,
     "metadata": {},
     "output_type": "execute_result"
    }
   ],
   "source": [
    "output"
   ]
  },
  {
   "cell_type": "code",
   "execution_count": 20,
   "metadata": {},
   "outputs": [
    {
     "name": "stdout",
     "output_type": "stream",
     "text": [
      "+--------------------+-----+\n",
      "|            features|class|\n",
      "+--------------------+-----+\n",
      "|[6.0,148.0,72.0,3...|    1|\n",
      "|[1.0,85.0,66.0,29...|    0|\n",
      "|[8.0,183.0,64.0,0...|    1|\n",
      "|[1.0,89.0,66.0,23...|    0|\n",
      "|[0.0,137.0,40.0,3...|    1|\n",
      "+--------------------+-----+\n",
      "only showing top 5 rows\n",
      "\n"
     ]
    }
   ],
   "source": [
    "output.select('features','class').show(5)"
   ]
  },
  {
   "cell_type": "code",
   "execution_count": 21,
   "metadata": {},
   "outputs": [
    {
     "data": {
      "text/plain": [
       "['preg', 'plas', 'pres', 'skin', 'test', 'mass', 'pedi', 'age', 'class']"
      ]
     },
     "execution_count": 21,
     "metadata": {},
     "output_type": "execute_result"
    }
   ],
   "source": [
    "df.columns"
   ]
  },
  {
   "cell_type": "code",
   "execution_count": 22,
   "metadata": {},
   "outputs": [],
   "source": [
    "model_df=output.select(['features','class'])"
   ]
  },
  {
   "cell_type": "code",
   "execution_count": 23,
   "metadata": {},
   "outputs": [],
   "source": [
    "training_df,test_df=model_df.randomSplit([0.70,0.30])"
   ]
  },
  {
   "cell_type": "code",
   "execution_count": 24,
   "metadata": {},
   "outputs": [
    {
     "name": "stdout",
     "output_type": "stream",
     "text": [
      "562\n"
     ]
    }
   ],
   "source": [
    "print(training_df.count())"
   ]
  },
  {
   "cell_type": "code",
   "execution_count": 25,
   "metadata": {},
   "outputs": [
    {
     "name": "stdout",
     "output_type": "stream",
     "text": [
      "206\n"
     ]
    }
   ],
   "source": [
    "print(test_df.count())"
   ]
  },
  {
   "cell_type": "code",
   "execution_count": 26,
   "metadata": {},
   "outputs": [],
   "source": [
    "from pyspark.ml.classification import RandomForestClassifier"
   ]
  },
  {
   "cell_type": "code",
   "execution_count": 27,
   "metadata": {},
   "outputs": [],
   "source": [
    "rf_classifier=RandomForestClassifier(labelCol='class',numTrees=50).fit(training_df)"
   ]
  },
  {
   "cell_type": "code",
   "execution_count": 28,
   "metadata": {},
   "outputs": [],
   "source": [
    "# training results\n",
    "rf_predictions=rf_classifier.transform(test_df)"
   ]
  },
  {
   "cell_type": "code",
   "execution_count": 29,
   "metadata": {},
   "outputs": [
    {
     "name": "stdout",
     "output_type": "stream",
     "text": [
      "+--------------------+-----+--------------------+--------------------+----------+\n",
      "|            features|class|       rawPrediction|         probability|prediction|\n",
      "+--------------------+-----+--------------------+--------------------+----------+\n",
      "|(8,[0,1,6,7],[2.0...|    0|[48.765466840647,...|[0.97530933681293...|       0.0|\n",
      "|(8,[1,5,6,7],[99....|    0|[47.6805751959768...|[0.95361150391953...|       0.0|\n",
      "|[0.0,67.0,76.0,0....|    0|[36.0737174823598...|[0.72147434964719...|       0.0|\n",
      "|[0.0,84.0,64.0,22...|    0|[46.4274391646866...|[0.92854878329373...|       0.0|\n",
      "|[0.0,93.0,60.0,0....|    0|[45.6302497429830...|[0.91260499485966...|       0.0|\n",
      "|[0.0,94.0,70.0,27...|    0|[41.4182334945209...|[0.82836466989041...|       0.0|\n",
      "|[0.0,95.0,85.0,25...|    1|[46.5535076660109...|[0.93107015332021...|       0.0|\n",
      "|[0.0,101.0,62.0,0...|    0|[47.6069379006465...|[0.95213875801293...|       0.0|\n",
      "|[0.0,101.0,64.0,1...|    0|[48.5373622190437...|[0.97074724438087...|       0.0|\n",
      "|[0.0,102.0,86.0,1...|    0|[42.2825971125718...|[0.84565194225143...|       0.0|\n",
      "|[0.0,104.0,64.0,3...|    1|[45.4968588207056...|[0.90993717641411...|       0.0|\n",
      "|[0.0,105.0,84.0,0...|    1|[36.6487885131287...|[0.73297577026257...|       0.0|\n",
      "|[0.0,107.0,76.0,0...|    0|[32.8984616785182...|[0.65796923357036...|       0.0|\n",
      "|[0.0,108.0,68.0,2...|    0|[36.3420190512279...|[0.72684038102455...|       0.0|\n",
      "|[0.0,117.0,80.0,3...|    0|[34.8544829961217...|[0.69708965992243...|       0.0|\n",
      "|[0.0,119.0,66.0,2...|    0|[42.0444947212237...|[0.84088989442447...|       0.0|\n",
      "|[0.0,125.0,96.0,0...|    0|[44.3979109989748...|[0.88795821997949...|       0.0|\n",
      "|[0.0,126.0,84.0,2...|    0|[35.1170841935396...|[0.70234168387079...|       0.0|\n",
      "|[0.0,127.0,80.0,3...|    0|[29.1972367197646...|[0.58394473439529...|       0.0|\n",
      "|[0.0,135.0,68.0,4...|    1|[28.0327974481236...|[0.56065594896247...|       0.0|\n",
      "+--------------------+-----+--------------------+--------------------+----------+\n",
      "only showing top 20 rows\n",
      "\n"
     ]
    }
   ],
   "source": [
    "rf_predictions.show()"
   ]
  },
  {
   "cell_type": "code",
   "execution_count": 30,
   "metadata": {},
   "outputs": [
    {
     "name": "stdout",
     "output_type": "stream",
     "text": [
      "+----------+-----+\n",
      "|prediction|count|\n",
      "+----------+-----+\n",
      "|       0.0|  147|\n",
      "|       1.0|   59|\n",
      "+----------+-----+\n",
      "\n"
     ]
    }
   ],
   "source": [
    "rf_predictions.groupBy('prediction').count().show()"
   ]
  },
  {
   "cell_type": "code",
   "execution_count": 31,
   "metadata": {},
   "outputs": [],
   "source": [
    "from pyspark.ml.evaluation import MulticlassClassificationEvaluator\n",
    "from pyspark.ml.evaluation import BinaryClassificationEvaluator"
   ]
  },
  {
   "cell_type": "code",
   "execution_count": 32,
   "metadata": {},
   "outputs": [],
   "source": [
    "rf_accuracy=MulticlassClassificationEvaluator(labelCol='class',\n",
    "                                              metricName='accuracy').evaluate(rf_predictions)"
   ]
  },
  {
   "cell_type": "code",
   "execution_count": 33,
   "metadata": {},
   "outputs": [
    {
     "name": "stdout",
     "output_type": "stream",
     "text": [
      "0.7766990291262136\n"
     ]
    }
   ],
   "source": [
    "print(rf_accuracy)"
   ]
  },
  {
   "cell_type": "code",
   "execution_count": 34,
   "metadata": {},
   "outputs": [],
   "source": [
    "#precision\n",
    "rf_precision=MulticlassClassificationEvaluator(labelCol='class',metricName='weightedPrecision').evaluate(rf_predictions)"
   ]
  },
  {
   "cell_type": "code",
   "execution_count": 35,
   "metadata": {},
   "outputs": [
    {
     "name": "stdout",
     "output_type": "stream",
     "text": [
      "0.7721385081924821\n"
     ]
    }
   ],
   "source": [
    "print(rf_precision)"
   ]
  },
  {
   "cell_type": "code",
   "execution_count": 36,
   "metadata": {},
   "outputs": [],
   "source": [
    "# AUC\n",
    "rf_auc=BinaryClassificationEvaluator(labelCol='class').evaluate(rf_predictions)"
   ]
  },
  {
   "cell_type": "code",
   "execution_count": 37,
   "metadata": {},
   "outputs": [
    {
     "name": "stdout",
     "output_type": "stream",
     "text": [
      "0.8056442476053145\n"
     ]
    }
   ],
   "source": [
    "print(rf_auc)"
   ]
  },
  {
   "cell_type": "code",
   "execution_count": 38,
   "metadata": {},
   "outputs": [
    {
     "data": {
      "text/plain": [
       "SparseVector(8, {0: 0.0625, 1: 0.3756, 2: 0.0445, 3: 0.0371, 4: 0.0454, 5: 0.2027, 6: 0.0827, 7: 0.1494})"
      ]
     },
     "execution_count": 38,
     "metadata": {},
     "output_type": "execute_result"
    }
   ],
   "source": [
    "# feature importance\n",
    "rf_classifier.featureImportances"
   ]
  }
 ],
 "metadata": {
  "kernelspec": {
   "display_name": "Python 3",
   "language": "python",
   "name": "python3"
  },
  "language_info": {
   "codemirror_mode": {
    "name": "ipython",
    "version": 3
   },
   "file_extension": ".py",
   "mimetype": "text/x-python",
   "name": "python",
   "nbconvert_exporter": "python",
   "pygments_lexer": "ipython3",
   "version": "3.8.3"
  }
 },
 "nbformat": 4,
 "nbformat_minor": 4
}
